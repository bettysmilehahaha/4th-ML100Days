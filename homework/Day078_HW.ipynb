{
 "cells": [
  {
   "cell_type": "markdown",
   "metadata": {},
   "source": [
    "## Work\n",
    "1. 請嘗試將 preproc_x 替換成以每筆資料的 min/max 進行標準化至 -1 ~ 1 間，再進行訓練\n",
    "2. 請嘗試將 mlp 疊更深 (e.g 5~10 層)，進行訓練後觀察 learning curve 的走勢\n",
    "3. (optional) 請改用 GPU 進行訓練 (如果你有 GPU 的話)，比較使用 CPU 與 GPU 的訓練速度"
   ]
  },
  {
   "cell_type": "code",
   "execution_count": 1,
   "metadata": {},
   "outputs": [
    {
     "name": "stderr",
     "output_type": "stream",
     "text": [
      "Using TensorFlow backend.\n"
     ]
    }
   ],
   "source": [
    "## \n",
    "\"\"\"\n",
    "Your code here (optional)\n",
    "確認硬體資源\n",
    "\"\"\""
   ]
  },
  {
   "cell_type": "code",
   "execution_count": 3,
   "metadata": {},
   "outputs": [],
   "source": [
    "import os\n",
    "import keras\n",
    "\n",
    "# 請嘗試設定 GPU：os.environ\n",
    "os.environ[\"CUDA_VISIBLE_DEVICES\"] = \"0,2\""
   ]
  },
  {
   "cell_type": "code",
   "execution_count": 4,
   "metadata": {},
   "outputs": [],
   "source": [
    "train, test = keras.datasets.cifar10.load_data()"
   ]
  },
  {
   "cell_type": "code",
   "execution_count": 5,
   "metadata": {},
   "outputs": [],
   "source": [
    "## 資料前處理\n",
    "\"\"\"\n",
    "Your code here\n",
    "\"\"\"\n",
    "def preproc_x(x, flatten=True):\n",
    "    x = x / 255.\n",
    "    if flatten:\n",
    "        x = x.reshape((len(x), -1))\n",
    "    return x\n",
    "\n",
    "def preproc_y(y, num_classes=10):\n",
    "    if y.shape[-1] == 1:\n",
    "        y = keras.utils.to_categorical(y, num_classes)\n",
    "    return y    "
   ]
  },
  {
   "cell_type": "code",
   "execution_count": 6,
   "metadata": {},
   "outputs": [],
   "source": [
    "x_train, y_train = train\n",
    "x_test, y_test = test\n",
    "\n",
    "# Preproc the inputs\n",
    "x_train = preproc_x(x_train)\n",
    "x_test = preproc_x(x_test)\n",
    "\n",
    "# feature scaling\n",
    "from sklearn import preprocessing\n",
    "import numpy as np\n",
    "min_max_scaler = preprocessing.MinMaxScaler()\n",
    "x_train = min_max_scaler.fit_transform(x_train)\n",
    "x_test = min_max_scaler.transform(x_test)\n",
    "\n",
    "# Preprc the outputs\n",
    "y_train = preproc_y(y_train)\n",
    "y_test = preproc_y(y_test)"
   ]
  },
  {
   "cell_type": "code",
   "execution_count": 14,
   "metadata": {},
   "outputs": [],
   "source": [
    "def build_mlp(input_shape, output_units=10, num_neurons=[512, 256, 128,64,32]):\n",
    "    input_layer = keras.layers.Input(input_shape)\n",
    "    \n",
    "    for i, n_units in enumerate(num_neurons):\n",
    "        if i == 0:\n",
    "            x = keras.layers.Dense(units=n_units, activation=\"relu\", name=\"hidden_layer\"+str(i+1))(input_layer)\n",
    "        else:\n",
    "            x = keras.layers.Dense(units=n_units, activation=\"relu\", name=\"hidden_layer\"+str(i+1))(x)\n",
    "    \n",
    "    out = keras.layers.Dense(units=output_units, activation=\"softmax\", name=\"output\")(x)\n",
    "    \n",
    "    model = keras.models.Model(inputs=[input_layer], outputs=[out])\n",
    "    return model"
   ]
  },
  {
   "cell_type": "code",
   "execution_count": 15,
   "metadata": {},
   "outputs": [
    {
     "name": "stdout",
     "output_type": "stream",
     "text": [
      "Model: \"model_2\"\n",
      "_________________________________________________________________\n",
      "Layer (type)                 Output Shape              Param #   \n",
      "=================================================================\n",
      "input_2 (InputLayer)         (None, 3072)              0         \n",
      "_________________________________________________________________\n",
      "hidden_layer1 (Dense)        (None, 512)               1573376   \n",
      "_________________________________________________________________\n",
      "hidden_layer2 (Dense)        (None, 256)               131328    \n",
      "_________________________________________________________________\n",
      "hidden_layer3 (Dense)        (None, 128)               32896     \n",
      "_________________________________________________________________\n",
      "hidden_layer4 (Dense)        (None, 64)                8256      \n",
      "_________________________________________________________________\n",
      "hidden_layer5 (Dense)        (None, 32)                2080      \n",
      "_________________________________________________________________\n",
      "output (Dense)               (None, 10)                330       \n",
      "=================================================================\n",
      "Total params: 1,748,266\n",
      "Trainable params: 1,748,266\n",
      "Non-trainable params: 0\n",
      "_________________________________________________________________\n"
     ]
    }
   ],
   "source": [
    "model = build_mlp(input_shape=x_train.shape[1:])\n",
    "model.summary()"
   ]
  },
  {
   "cell_type": "code",
   "execution_count": 16,
   "metadata": {},
   "outputs": [],
   "source": [
    "## 超參數設定\n",
    "LEARNING_RATE = 0.001\n",
    "EPOCHS = 100\n",
    "BATCH_SIZE = 256"
   ]
  },
  {
   "cell_type": "code",
   "execution_count": 17,
   "metadata": {},
   "outputs": [],
   "source": [
    "optimizer = keras.optimizers.Adam(lr=LEARNING_RATE)\n",
    "model.compile(loss=\"categorical_crossentropy\", metrics=[\"accuracy\"], optimizer=optimizer)"
   ]
  },
  {
   "cell_type": "code",
   "execution_count": 18,
   "metadata": {},
   "outputs": [
    {
     "name": "stdout",
     "output_type": "stream",
     "text": [
      "Train on 50000 samples, validate on 10000 samples\n",
      "Epoch 1/100\n",
      "50000/50000 [==============================] - 7s 147us/step - loss: 1.9807 - accuracy: 0.2668 - val_loss: 1.8311 - val_accuracy: 0.3319\n",
      "Epoch 2/100\n",
      "50000/50000 [==============================] - 7s 139us/step - loss: 1.7753 - accuracy: 0.3578 - val_loss: 1.7643 - val_accuracy: 0.3536\n",
      "Epoch 3/100\n",
      "50000/50000 [==============================] - 7s 140us/step - loss: 1.6806 - accuracy: 0.3930 - val_loss: 1.6396 - val_accuracy: 0.4162\n",
      "Epoch 4/100\n",
      "50000/50000 [==============================] - 7s 146us/step - loss: 1.6090 - accuracy: 0.4213 - val_loss: 1.5908 - val_accuracy: 0.4272\n",
      "Epoch 5/100\n",
      "50000/50000 [==============================] - 7s 142us/step - loss: 1.5528 - accuracy: 0.4417 - val_loss: 1.5438 - val_accuracy: 0.4496\n",
      "Epoch 6/100\n",
      "50000/50000 [==============================] - 7s 138us/step - loss: 1.5166 - accuracy: 0.4537 - val_loss: 1.6086 - val_accuracy: 0.4240\n",
      "Epoch 7/100\n",
      "50000/50000 [==============================] - 7s 147us/step - loss: 1.4744 - accuracy: 0.4721 - val_loss: 1.4809 - val_accuracy: 0.4772\n",
      "Epoch 8/100\n",
      "50000/50000 [==============================] - 7s 133us/step - loss: 1.4396 - accuracy: 0.4841 - val_loss: 1.4839 - val_accuracy: 0.4699\n",
      "Epoch 9/100\n",
      "50000/50000 [==============================] - 6s 130us/step - loss: 1.4166 - accuracy: 0.4933 - val_loss: 1.4346 - val_accuracy: 0.4918\n",
      "Epoch 10/100\n",
      "50000/50000 [==============================] - 7s 132us/step - loss: 1.3793 - accuracy: 0.5065 - val_loss: 1.4340 - val_accuracy: 0.4894\n",
      "Epoch 11/100\n",
      "50000/50000 [==============================] - 7s 133us/step - loss: 1.3585 - accuracy: 0.5120 - val_loss: 1.4188 - val_accuracy: 0.4874\n",
      "Epoch 12/100\n",
      "50000/50000 [==============================] - 7s 134us/step - loss: 1.3477 - accuracy: 0.5185 - val_loss: 1.4215 - val_accuracy: 0.4934\n",
      "Epoch 13/100\n",
      "50000/50000 [==============================] - 7s 134us/step - loss: 1.3234 - accuracy: 0.5269 - val_loss: 1.4507 - val_accuracy: 0.4829\n",
      "Epoch 14/100\n",
      "50000/50000 [==============================] - 7s 138us/step - loss: 1.2964 - accuracy: 0.5346 - val_loss: 1.3988 - val_accuracy: 0.4984\n",
      "Epoch 15/100\n",
      "50000/50000 [==============================] - 7s 133us/step - loss: 1.2764 - accuracy: 0.5454 - val_loss: 1.3628 - val_accuracy: 0.5187\n",
      "Epoch 16/100\n",
      "50000/50000 [==============================] - 7s 133us/step - loss: 1.2517 - accuracy: 0.5527 - val_loss: 1.3958 - val_accuracy: 0.5046\n",
      "Epoch 17/100\n",
      "50000/50000 [==============================] - 7s 133us/step - loss: 1.2309 - accuracy: 0.5593 - val_loss: 1.3685 - val_accuracy: 0.5129\n",
      "Epoch 18/100\n",
      "50000/50000 [==============================] - 7s 133us/step - loss: 1.2155 - accuracy: 0.5639 - val_loss: 1.3525 - val_accuracy: 0.5257\n",
      "Epoch 19/100\n",
      "50000/50000 [==============================] - 7s 135us/step - loss: 1.1919 - accuracy: 0.5712 - val_loss: 1.3660 - val_accuracy: 0.5114\n",
      "Epoch 20/100\n",
      "50000/50000 [==============================] - 7s 135us/step - loss: 1.1668 - accuracy: 0.5824 - val_loss: 1.3683 - val_accuracy: 0.5166\n",
      "Epoch 21/100\n",
      "50000/50000 [==============================] - 7s 135us/step - loss: 1.1638 - accuracy: 0.5821 - val_loss: 1.3847 - val_accuracy: 0.5126\n",
      "Epoch 22/100\n",
      "50000/50000 [==============================] - 7s 134us/step - loss: 1.1319 - accuracy: 0.5941 - val_loss: 1.4144 - val_accuracy: 0.5110\n",
      "Epoch 23/100\n",
      "50000/50000 [==============================] - 7s 135us/step - loss: 1.1205 - accuracy: 0.5981 - val_loss: 1.3916 - val_accuracy: 0.5126\n",
      "Epoch 24/100\n",
      "50000/50000 [==============================] - 7s 135us/step - loss: 1.1019 - accuracy: 0.6042 - val_loss: 1.3749 - val_accuracy: 0.5327\n",
      "Epoch 25/100\n",
      "50000/50000 [==============================] - 7s 136us/step - loss: 1.0799 - accuracy: 0.6124 - val_loss: 1.3795 - val_accuracy: 0.5192\n",
      "Epoch 26/100\n",
      "50000/50000 [==============================] - 7s 136us/step - loss: 1.0688 - accuracy: 0.6156 - val_loss: 1.3688 - val_accuracy: 0.5274\n",
      "Epoch 27/100\n",
      "50000/50000 [==============================] - 7s 137us/step - loss: 1.0433 - accuracy: 0.6239 - val_loss: 1.4113 - val_accuracy: 0.5214\n",
      "Epoch 28/100\n",
      "50000/50000 [==============================] - 7s 137us/step - loss: 1.0309 - accuracy: 0.6310 - val_loss: 1.3765 - val_accuracy: 0.5312\n",
      "Epoch 29/100\n",
      "50000/50000 [==============================] - 7s 136us/step - loss: 1.0228 - accuracy: 0.6321 - val_loss: 1.4156 - val_accuracy: 0.5237\n",
      "Epoch 30/100\n",
      "50000/50000 [==============================] - 7s 136us/step - loss: 0.9889 - accuracy: 0.6459 - val_loss: 1.4157 - val_accuracy: 0.5272\n",
      "Epoch 31/100\n",
      "50000/50000 [==============================] - 7s 136us/step - loss: 0.9764 - accuracy: 0.6497 - val_loss: 1.4288 - val_accuracy: 0.5279\n",
      "Epoch 32/100\n",
      "50000/50000 [==============================] - 7s 138us/step - loss: 0.9589 - accuracy: 0.6548 - val_loss: 1.4029 - val_accuracy: 0.5287\n",
      "Epoch 33/100\n",
      "50000/50000 [==============================] - 7s 137us/step - loss: 0.9506 - accuracy: 0.6570 - val_loss: 1.4454 - val_accuracy: 0.5171\n",
      "Epoch 34/100\n",
      "50000/50000 [==============================] - 7s 138us/step - loss: 0.9331 - accuracy: 0.6667 - val_loss: 1.4411 - val_accuracy: 0.5236\n",
      "Epoch 35/100\n",
      "50000/50000 [==============================] - 7s 139us/step - loss: 0.8997 - accuracy: 0.6765 - val_loss: 1.4873 - val_accuracy: 0.5223\n",
      "Epoch 36/100\n",
      "50000/50000 [==============================] - 7s 138us/step - loss: 0.8894 - accuracy: 0.6787 - val_loss: 1.4792 - val_accuracy: 0.5252\n",
      "Epoch 37/100\n",
      "50000/50000 [==============================] - 7s 140us/step - loss: 0.8782 - accuracy: 0.6841 - val_loss: 1.5248 - val_accuracy: 0.5176\n",
      "Epoch 38/100\n",
      "50000/50000 [==============================] - 7s 140us/step - loss: 0.8546 - accuracy: 0.6933 - val_loss: 1.5510 - val_accuracy: 0.5211\n",
      "Epoch 39/100\n",
      "50000/50000 [==============================] - 7s 140us/step - loss: 0.8492 - accuracy: 0.6972 - val_loss: 1.5613 - val_accuracy: 0.5210\n",
      "Epoch 40/100\n",
      "50000/50000 [==============================] - 7s 139us/step - loss: 0.8277 - accuracy: 0.7025 - val_loss: 1.5576 - val_accuracy: 0.5181\n",
      "Epoch 41/100\n",
      "50000/50000 [==============================] - 7s 138us/step - loss: 0.8097 - accuracy: 0.7081 - val_loss: 1.5968 - val_accuracy: 0.5177\n",
      "Epoch 42/100\n",
      "50000/50000 [==============================] - 7s 144us/step - loss: 0.7912 - accuracy: 0.7148 - val_loss: 1.5711 - val_accuracy: 0.5214\n",
      "Epoch 43/100\n",
      "50000/50000 [==============================] - 7s 139us/step - loss: 0.7815 - accuracy: 0.7174 - val_loss: 1.6171 - val_accuracy: 0.5163\n",
      "Epoch 44/100\n",
      "50000/50000 [==============================] - 7s 139us/step - loss: 0.7680 - accuracy: 0.7212 - val_loss: 1.6377 - val_accuracy: 0.5229\n",
      "Epoch 45/100\n",
      "50000/50000 [==============================] - 7s 142us/step - loss: 0.7566 - accuracy: 0.7286 - val_loss: 1.6642 - val_accuracy: 0.5156\n",
      "Epoch 46/100\n",
      "50000/50000 [==============================] - 7s 141us/step - loss: 0.7458 - accuracy: 0.7302 - val_loss: 1.7205 - val_accuracy: 0.5089\n",
      "Epoch 47/100\n",
      "50000/50000 [==============================] - 7s 140us/step - loss: 0.7237 - accuracy: 0.7396 - val_loss: 1.7665 - val_accuracy: 0.5016\n",
      "Epoch 48/100\n",
      "50000/50000 [==============================] - 7s 140us/step - loss: 0.7152 - accuracy: 0.7436 - val_loss: 1.7500 - val_accuracy: 0.5156\n",
      "Epoch 49/100\n",
      "50000/50000 [==============================] - 7s 140us/step - loss: 0.6927 - accuracy: 0.7499 - val_loss: 1.7764 - val_accuracy: 0.5182\n",
      "Epoch 50/100\n",
      "50000/50000 [==============================] - 7s 142us/step - loss: 0.6907 - accuracy: 0.7511 - val_loss: 1.7547 - val_accuracy: 0.5225\n",
      "Epoch 51/100\n",
      "50000/50000 [==============================] - 7s 142us/step - loss: 0.6844 - accuracy: 0.7524 - val_loss: 1.7727 - val_accuracy: 0.5141\n",
      "Epoch 52/100\n",
      "50000/50000 [==============================] - 7s 142us/step - loss: 0.6561 - accuracy: 0.7633 - val_loss: 1.8605 - val_accuracy: 0.5139\n",
      "Epoch 53/100\n",
      "50000/50000 [==============================] - 7s 142us/step - loss: 0.6707 - accuracy: 0.7582 - val_loss: 1.8238 - val_accuracy: 0.5156\n",
      "Epoch 54/100\n",
      "50000/50000 [==============================] - 7s 143us/step - loss: 0.6418 - accuracy: 0.7698 - val_loss: 1.8821 - val_accuracy: 0.5156\n",
      "Epoch 55/100\n"
     ]
    },
    {
     "name": "stdout",
     "output_type": "stream",
     "text": [
      "50000/50000 [==============================] - 7s 143us/step - loss: 0.6131 - accuracy: 0.7804 - val_loss: 1.9112 - val_accuracy: 0.5124\n",
      "Epoch 56/100\n",
      "50000/50000 [==============================] - 7s 143us/step - loss: 0.6357 - accuracy: 0.7716 - val_loss: 1.9111 - val_accuracy: 0.5118\n",
      "Epoch 57/100\n",
      "50000/50000 [==============================] - 7s 146us/step - loss: 0.6177 - accuracy: 0.7788 - val_loss: 1.9288 - val_accuracy: 0.5181\n",
      "Epoch 58/100\n",
      "50000/50000 [==============================] - 8s 152us/step - loss: 0.5960 - accuracy: 0.7859 - val_loss: 1.9887 - val_accuracy: 0.5144\n",
      "Epoch 59/100\n",
      "50000/50000 [==============================] - 7s 146us/step - loss: 0.5900 - accuracy: 0.7890 - val_loss: 1.9924 - val_accuracy: 0.5107\n",
      "Epoch 60/100\n",
      "50000/50000 [==============================] - 7s 147us/step - loss: 0.5710 - accuracy: 0.7948 - val_loss: 2.0440 - val_accuracy: 0.5168\n",
      "Epoch 61/100\n",
      "50000/50000 [==============================] - 7s 146us/step - loss: 0.5661 - accuracy: 0.7963 - val_loss: 2.0472 - val_accuracy: 0.5135\n",
      "Epoch 62/100\n",
      "50000/50000 [==============================] - 7s 147us/step - loss: 0.5496 - accuracy: 0.8029 - val_loss: 2.0469 - val_accuracy: 0.5224\n",
      "Epoch 63/100\n",
      "50000/50000 [==============================] - 7s 147us/step - loss: 0.5445 - accuracy: 0.8059 - val_loss: 2.0290 - val_accuracy: 0.5137\n",
      "Epoch 64/100\n",
      "50000/50000 [==============================] - 7s 147us/step - loss: 0.5179 - accuracy: 0.8156 - val_loss: 2.1476 - val_accuracy: 0.5101\n",
      "Epoch 65/100\n",
      "50000/50000 [==============================] - 7s 147us/step - loss: 0.5177 - accuracy: 0.8143 - val_loss: 2.1479 - val_accuracy: 0.5133\n",
      "Epoch 66/100\n",
      "50000/50000 [==============================] - 7s 147us/step - loss: 0.5274 - accuracy: 0.8119 - val_loss: 2.1463 - val_accuracy: 0.5002\n",
      "Epoch 67/100\n",
      "50000/50000 [==============================] - 7s 147us/step - loss: 0.5235 - accuracy: 0.8115 - val_loss: 2.2020 - val_accuracy: 0.5012\n",
      "Epoch 68/100\n",
      "50000/50000 [==============================] - 7s 147us/step - loss: 0.4887 - accuracy: 0.8251 - val_loss: 2.2739 - val_accuracy: 0.5180\n",
      "Epoch 69/100\n",
      "50000/50000 [==============================] - 7s 147us/step - loss: 0.5017 - accuracy: 0.8214 - val_loss: 2.2353 - val_accuracy: 0.5049\n",
      "Epoch 70/100\n",
      "50000/50000 [==============================] - 7s 148us/step - loss: 0.5044 - accuracy: 0.8182 - val_loss: 2.3046 - val_accuracy: 0.5090\n",
      "Epoch 71/100\n",
      "50000/50000 [==============================] - 7s 147us/step - loss: 0.4713 - accuracy: 0.8320 - val_loss: 2.2845 - val_accuracy: 0.5085\n",
      "Epoch 72/100\n",
      "50000/50000 [==============================] - 7s 147us/step - loss: 0.4713 - accuracy: 0.8319 - val_loss: 2.2942 - val_accuracy: 0.5125\n",
      "Epoch 73/100\n",
      "50000/50000 [==============================] - 7s 147us/step - loss: 0.4601 - accuracy: 0.8368 - val_loss: 2.3721 - val_accuracy: 0.5105\n",
      "Epoch 74/100\n",
      "50000/50000 [==============================] - 7s 147us/step - loss: 0.4694 - accuracy: 0.8315 - val_loss: 2.4174 - val_accuracy: 0.5099\n",
      "Epoch 75/100\n",
      "50000/50000 [==============================] - 7s 147us/step - loss: 0.4565 - accuracy: 0.8368 - val_loss: 2.3625 - val_accuracy: 0.5137\n",
      "Epoch 76/100\n",
      "50000/50000 [==============================] - 7s 147us/step - loss: 0.4335 - accuracy: 0.8448 - val_loss: 2.4110 - val_accuracy: 0.5102\n",
      "Epoch 77/100\n",
      "50000/50000 [==============================] - 7s 147us/step - loss: 0.4334 - accuracy: 0.8453 - val_loss: 2.5006 - val_accuracy: 0.5121\n",
      "Epoch 78/100\n",
      "50000/50000 [==============================] - 7s 147us/step - loss: 0.4397 - accuracy: 0.8414 - val_loss: 2.4285 - val_accuracy: 0.5051\n",
      "Epoch 79/100\n",
      "50000/50000 [==============================] - 7s 147us/step - loss: 0.4381 - accuracy: 0.8427 - val_loss: 2.5321 - val_accuracy: 0.5140\n",
      "Epoch 80/100\n",
      "50000/50000 [==============================] - 7s 147us/step - loss: 0.4158 - accuracy: 0.8513 - val_loss: 2.6552 - val_accuracy: 0.5058\n",
      "Epoch 81/100\n",
      "50000/50000 [==============================] - 7s 147us/step - loss: 0.4163 - accuracy: 0.8506 - val_loss: 2.5992 - val_accuracy: 0.5028\n",
      "Epoch 82/100\n",
      "50000/50000 [==============================] - 7s 147us/step - loss: 0.4024 - accuracy: 0.8577 - val_loss: 2.6260 - val_accuracy: 0.5122\n",
      "Epoch 83/100\n",
      "50000/50000 [==============================] - 7s 149us/step - loss: 0.3820 - accuracy: 0.8638 - val_loss: 2.7086 - val_accuracy: 0.5087\n",
      "Epoch 84/100\n",
      "50000/50000 [==============================] - 7s 149us/step - loss: 0.4107 - accuracy: 0.8523 - val_loss: 2.6948 - val_accuracy: 0.4992\n",
      "Epoch 85/100\n",
      "50000/50000 [==============================] - 7s 147us/step - loss: 0.4026 - accuracy: 0.8546 - val_loss: 2.7052 - val_accuracy: 0.5156\n",
      "Epoch 86/100\n",
      "50000/50000 [==============================] - 7s 147us/step - loss: 0.3916 - accuracy: 0.8604 - val_loss: 2.6794 - val_accuracy: 0.5001\n",
      "Epoch 87/100\n",
      "50000/50000 [==============================] - 7s 148us/step - loss: 0.3671 - accuracy: 0.8690 - val_loss: 2.7493 - val_accuracy: 0.5048\n",
      "Epoch 88/100\n",
      "50000/50000 [==============================] - 7s 148us/step - loss: 0.3786 - accuracy: 0.8644 - val_loss: 2.6759 - val_accuracy: 0.5065\n",
      "Epoch 89/100\n",
      "50000/50000 [==============================] - 7s 148us/step - loss: 0.3777 - accuracy: 0.8641 - val_loss: 2.7716 - val_accuracy: 0.5031\n",
      "Epoch 90/100\n",
      "50000/50000 [==============================] - 7s 147us/step - loss: 0.3647 - accuracy: 0.8705 - val_loss: 2.8616 - val_accuracy: 0.4988\n",
      "Epoch 91/100\n",
      "50000/50000 [==============================] - 7s 147us/step - loss: 0.3371 - accuracy: 0.8801 - val_loss: 2.8866 - val_accuracy: 0.5003\n",
      "Epoch 92/100\n",
      "50000/50000 [==============================] - 8s 152us/step - loss: 0.3604 - accuracy: 0.8719 - val_loss: 2.8513 - val_accuracy: 0.5032\n",
      "Epoch 93/100\n",
      "50000/50000 [==============================] - 8s 151us/step - loss: 0.3707 - accuracy: 0.8685 - val_loss: 2.8926 - val_accuracy: 0.5007\n",
      "Epoch 94/100\n",
      "50000/50000 [==============================] - 8s 151us/step - loss: 0.3649 - accuracy: 0.8691 - val_loss: 2.9156 - val_accuracy: 0.4982\n",
      "Epoch 95/100\n",
      "50000/50000 [==============================] - 8s 152us/step - loss: 0.3656 - accuracy: 0.8695 - val_loss: 2.9318 - val_accuracy: 0.4963\n",
      "Epoch 96/100\n",
      "50000/50000 [==============================] - 8s 151us/step - loss: 0.3467 - accuracy: 0.8764 - val_loss: 2.8867 - val_accuracy: 0.5080\n",
      "Epoch 97/100\n",
      "50000/50000 [==============================] - 8s 152us/step - loss: 0.3497 - accuracy: 0.8744 - val_loss: 2.9994 - val_accuracy: 0.5004\n",
      "Epoch 98/100\n",
      "50000/50000 [==============================] - 8s 155us/step - loss: 0.3392 - accuracy: 0.8796 - val_loss: 2.9684 - val_accuracy: 0.5054\n",
      "Epoch 99/100\n",
      "50000/50000 [==============================] - 7s 148us/step - loss: 0.3103 - accuracy: 0.8897 - val_loss: 3.0601 - val_accuracy: 0.5021\n",
      "Epoch 100/100\n",
      "50000/50000 [==============================] - 7s 147us/step - loss: 0.3181 - accuracy: 0.8867 - val_loss: 3.0235 - val_accuracy: 0.5051\n"
     ]
    },
    {
     "data": {
      "text/plain": [
       "<keras.callbacks.callbacks.History at 0x28e5d15aa20>"
      ]
     },
     "execution_count": 18,
     "metadata": {},
     "output_type": "execute_result"
    }
   ],
   "source": [
    "model.fit(x_train, y_train, \n",
    "          epochs=EPOCHS, \n",
    "          batch_size=BATCH_SIZE, \n",
    "          validation_data=(x_test, y_test), \n",
    "          shuffle=True)"
   ]
  },
  {
   "cell_type": "code",
   "execution_count": 20,
   "metadata": {},
   "outputs": [
    {
     "data": {
      "image/png": "[encoded data removed]",
      "text/plain": [
       "<Figure size 432x288 with 1 Axes>"
      ]
     },
     "metadata": {
      "needs_background": "light"
     },
     "output_type": "display_data"
    },
    {
     "data": {
      "image/png": "[encoded data removed]",
      "text/plain": [
       "<Figure size 432x288 with 1 Axes>"
      ]
     },
     "metadata": {
      "needs_background": "light"
     },
     "output_type": "display_data"
    }
   ],
   "source": [
    "import matplotlib.pyplot as plt\n",
    "\n",
    "\n",
    "train_loss = model.history.history[\"loss\"]\n",
    "valid_loss = model.history.history[\"val_loss\"]\n",
    "\n",
    "train_acc = model.history.history[\"accuracy\"]\n",
    "valid_acc = model.history.history[\"val_accuracy\"]\n",
    "\n",
    "plt.plot(range(len(train_loss)), train_loss, label=\"train loss\")\n",
    "plt.plot(range(len(valid_loss)), valid_loss, label=\"valid loss\")\n",
    "plt.legend()\n",
    "plt.title(\"Loss\")\n",
    "plt.show()\n",
    "\n",
    "plt.plot(range(len(train_acc)), train_acc, label=\"train accuracy\")\n",
    "plt.plot(range(len(valid_acc)), valid_acc, label=\"valid accuracy\")\n",
    "plt.legend()\n",
    "plt.title(\"Accuracy\")\n",
    "plt.show()"
   ]
  },
  {
   "cell_type": "code",
   "execution_count": null,
   "metadata": {},
   "outputs": [],
   "source": []
  }
 ],
 "metadata": {
  "kernelspec": {
   "display_name": "Python 3",
   "language": "python",
   "name": "python3"
  },
  "language_info": {
   "codemirror_mode": {
    "name": "ipython",
    "version": 3
   },
   "file_extension": ".py",
   "mimetype": "text/x-python",
   "name": "python",
   "nbconvert_exporter": "python",
   "pygments_lexer": "ipython3",
   "version": "3.7.3"
  }
 },
 "nbformat": 4,
 "nbformat_minor": 2
}
