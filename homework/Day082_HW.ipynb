{
 "cells": [
  {
   "cell_type": "markdown",
   "metadata": {},
   "source": [
    "## Work\n",
    "1. 請比較使用不同層數以及不同 Dropout rate 對訓練的效果\n",
    "2. 將 optimizer 改成使用 Adam 並加上適當的 dropout rate 檢視結果"
   ]
  },
  {
   "cell_type": "code",
   "execution_count": 1,
   "metadata": {},
   "outputs": [
    {
     "name": "stderr",
     "output_type": "stream",
     "text": [
      "Using TensorFlow backend.\n"
     ]
    }
   ],
   "source": [
    "import os\n",
    "import keras\n",
    "import itertools\n",
    "# Disable GPU\n",
    "os.environ[\"CUDA_VISIBLE_DEVICES\"] = \"\""
   ]
  },
  {
   "cell_type": "code",
   "execution_count": 2,
   "metadata": {},
   "outputs": [],
   "source": [
    "train, test = keras.datasets.cifar10.load_data()"
   ]
  },
  {
   "cell_type": "code",
   "execution_count": 3,
   "metadata": {},
   "outputs": [],
   "source": [
    "## 資料前處理\n",
    "def preproc_x(x, flatten=True):\n",
    "    x = x / 255.\n",
    "    if flatten:\n",
    "        x = x.reshape((len(x), -1))\n",
    "    return x\n",
    "\n",
    "def preproc_y(y, num_classes=10):\n",
    "    if y.shape[-1] == 1:\n",
    "        y = keras.utils.to_categorical(y, num_classes)\n",
    "    return y    "
   ]
  },
  {
   "cell_type": "code",
   "execution_count": 4,
   "metadata": {},
   "outputs": [],
   "source": [
    "x_train, y_train = train\n",
    "x_test, y_test = test\n",
    "\n",
    "# Preproc the inputs\n",
    "x_train = preproc_x(x_train)\n",
    "x_test = preproc_x(x_test)\n",
    "\n",
    "# Preprc the outputs\n",
    "y_train = preproc_y(y_train)\n",
    "y_test = preproc_y(y_test)"
   ]
  },
  {
   "cell_type": "code",
   "execution_count": 5,
   "metadata": {},
   "outputs": [],
   "source": [
    "from keras.layers import Dropout\n",
    "\n",
    "\"\"\"\n",
    "建立神經網路，並加入 dropout layer\n",
    "\"\"\"\n",
    "def build_mlp(input_shape, output_units=10, num_neurons=[512, 256, 128]):\n",
    "    input_layer = keras.layers.Input(input_shape)\n",
    "    \n",
    "    for i, n_units in enumerate(num_neurons):\n",
    "        if i == 0:\n",
    "            x = keras.layers.Dense(units=n_units, \n",
    "                                   activation=\"relu\", \n",
    "                                   name=\"hidden_layer\"+str(i+1))(input_layer)\n",
    "            x = Dropout(0.3)(x)\n",
    "        else:\n",
    "            x = keras.layers.Dense(units=n_units, \n",
    "                                   activation=\"relu\", \n",
    "                                   name=\"hidden_layer\"+str(i+1))(x)\n",
    "            x = Dropout(0.4)(x)\n",
    "    \n",
    "    out = keras.layers.Dense(units=output_units, activation=\"softmax\", name=\"output\")(x)\n",
    "    \n",
    "    model = keras.models.Model(inputs=[input_layer], outputs=[out])\n",
    "    return model"
   ]
  },
  {
   "cell_type": "code",
   "execution_count": 6,
   "metadata": {},
   "outputs": [],
   "source": [
    "## 超參數設定\n",
    "LEARNING_RATE = 1e-3\n",
    "EPOCHS = 50\n",
    "BATCH_SIZE = 256\n",
    "MOMENTUM = 0.95"
   ]
  },
  {
   "cell_type": "code",
   "execution_count": 7,
   "metadata": {
    "scrolled": true
   },
   "outputs": [
    {
     "name": "stdout",
     "output_type": "stream",
     "text": [
      "Model: \"model_1\"\n",
      "_________________________________________________________________\n",
      "Layer (type)                 Output Shape              Param #   \n",
      "=================================================================\n",
      "input_1 (InputLayer)         (None, 3072)              0         \n",
      "_________________________________________________________________\n",
      "hidden_layer1 (Dense)        (None, 512)               1573376   \n",
      "_________________________________________________________________\n",
      "dropout_1 (Dropout)          (None, 512)               0         \n",
      "_________________________________________________________________\n",
      "hidden_layer2 (Dense)        (None, 256)               131328    \n",
      "_________________________________________________________________\n",
      "dropout_2 (Dropout)          (None, 256)               0         \n",
      "_________________________________________________________________\n",
      "hidden_layer3 (Dense)        (None, 128)               32896     \n",
      "_________________________________________________________________\n",
      "dropout_3 (Dropout)          (None, 128)               0         \n",
      "_________________________________________________________________\n",
      "output (Dense)               (None, 10)                1290      \n",
      "=================================================================\n",
      "Total params: 1,738,890\n",
      "Trainable params: 1,738,890\n",
      "Non-trainable params: 0\n",
      "_________________________________________________________________\n",
      "Train on 50000 samples, validate on 10000 samples\n",
      "Epoch 1/50\n",
      "50000/50000 [==============================] - 13s 261us/step - loss: 2.2461 - accuracy: 0.1562 - val_loss: 2.0792 - val_accuracy: 0.2516\n",
      "Epoch 2/50\n",
      "50000/50000 [==============================] - 12s 239us/step - loss: 2.0853 - accuracy: 0.2209 - val_loss: 1.9642 - val_accuracy: 0.3138\n",
      "Epoch 3/50\n",
      "50000/50000 [==============================] - 11s 229us/step - loss: 2.0027 - accuracy: 0.2618 - val_loss: 1.8784 - val_accuracy: 0.3425\n",
      "Epoch 4/50\n",
      "50000/50000 [==============================] - 12s 236us/step - loss: 1.9474 - accuracy: 0.2905 - val_loss: 1.8275 - val_accuracy: 0.3611\n",
      "Epoch 5/50\n",
      "50000/50000 [==============================] - 12s 238us/step - loss: 1.9052 - accuracy: 0.3063 - val_loss: 1.7921 - val_accuracy: 0.3722\n",
      "Epoch 6/50\n",
      "50000/50000 [==============================] - 12s 238us/step - loss: 1.8703 - accuracy: 0.3203 - val_loss: 1.7575 - val_accuracy: 0.3827\n",
      "Epoch 7/50\n",
      "50000/50000 [==============================] - 12s 238us/step - loss: 1.8400 - accuracy: 0.3341 - val_loss: 1.7216 - val_accuracy: 0.3920 \n",
      "Epoch 8/50\n",
      "50000/50000 [==============================] - 12s 242us/step - loss: 1.8146 - accuracy: 0.3482 - val_loss: 1.6923 - val_accuracy: 0.4056\n",
      "Epoch 9/50\n",
      "50000/50000 [==============================] - 12s 243us/step - loss: 1.7946 - accuracy: 0.3526 - val_loss: 1.6751 - val_accuracy: 0.4109\n",
      "Epoch 10/50\n",
      "50000/50000 [==============================] - 12s 243us/step - loss: 1.7704 - accuracy: 0.3660 - val_loss: 1.6611 - val_accuracy: 0.4159\n",
      "Epoch 11/50\n",
      "50000/50000 [==============================] - 11s 225us/step - loss: 1.7525 - accuracy: 0.3708 - val_loss: 1.6319 - val_accuracy: 0.4241\n",
      "Epoch 12/50\n",
      "50000/50000 [==============================] - 11s 218us/step - loss: 1.7380 - accuracy: 0.3785 - val_loss: 1.6150 - val_accuracy: 0.4325\n",
      "Epoch 13/50\n",
      "50000/50000 [==============================] - 11s 228us/step - loss: 1.7217 - accuracy: 0.3825 - val_loss: 1.5984 - val_accuracy: 0.4389\n",
      "Epoch 14/50\n",
      "50000/50000 [==============================] - 12s 240us/step - loss: 1.7044 - accuracy: 0.3915 - val_loss: 1.5847 - val_accuracy: 0.4381\n",
      "Epoch 15/50\n",
      "50000/50000 [==============================] - 11s 223us/step - loss: 1.6932 - accuracy: 0.3951 - val_loss: 1.5726 - val_accuracy: 0.4439\n",
      "Epoch 16/50\n",
      "50000/50000 [==============================] - 12s 235us/step - loss: 1.6775 - accuracy: 0.4007 - val_loss: 1.5596 - val_accuracy: 0.4463\n",
      "Epoch 17/50\n",
      "50000/50000 [==============================] - 11s 224us/step - loss: 1.6657 - accuracy: 0.4062 - val_loss: 1.5510 - val_accuracy: 0.4568\n",
      "Epoch 18/50\n",
      "50000/50000 [==============================] - 12s 236us/step - loss: 1.6516 - accuracy: 0.4119 - val_loss: 1.5438 - val_accuracy: 0.4593\n",
      "Epoch 19/50\n",
      "50000/50000 [==============================] - 11s 216us/step - loss: 1.6378 - accuracy: 0.4129 - val_loss: 1.5264 - val_accuracy: 0.4618\n",
      "Epoch 20/50\n",
      "50000/50000 [==============================] - 10s 192us/step - loss: 1.6265 - accuracy: 0.4195 - val_loss: 1.5149 - val_accuracy: 0.4624\n",
      "Epoch 21/50\n",
      "50000/50000 [==============================] - 10s 196us/step - loss: 1.6168 - accuracy: 0.4268 - val_loss: 1.5128 - val_accuracy: 0.4662\n",
      "Epoch 22/50\n",
      "50000/50000 [==============================] - 11s 217us/step - loss: 1.6008 - accuracy: 0.4290 - val_loss: 1.4958 - val_accuracy: 0.4692\n",
      "Epoch 23/50\n",
      "50000/50000 [==============================] - 12s 237us/step - loss: 1.5929 - accuracy: 0.4337 - val_loss: 1.4972 - val_accuracy: 0.4677\n",
      "Epoch 24/50\n",
      "50000/50000 [==============================] - 11s 217us/step - loss: 1.5813 - accuracy: 0.4365 - val_loss: 1.4837 - val_accuracy: 0.4711\n",
      "Epoch 25/50\n",
      "50000/50000 [==============================] - 12s 238us/step - loss: 1.5755 - accuracy: 0.4405 - val_loss: 1.4749 - val_accuracy: 0.4777\n",
      "Epoch 26/50\n",
      "50000/50000 [==============================] - 12s 238us/step - loss: 1.5638 - accuracy: 0.4440 - val_loss: 1.4705 - val_accuracy: 0.4766\n",
      "Epoch 27/50\n",
      "50000/50000 [==============================] - 12s 235us/step - loss: 1.5579 - accuracy: 0.4446 - val_loss: 1.4635 - val_accuracy: 0.4779\n",
      "Epoch 28/50\n",
      "50000/50000 [==============================] - 11s 228us/step - loss: 1.5449 - accuracy: 0.4483 - val_loss: 1.4556 - val_accuracy: 0.4811\n",
      "Epoch 29/50\n",
      "50000/50000 [==============================] - 12s 236us/step - loss: 1.5399 - accuracy: 0.4492 - val_loss: 1.4498 - val_accuracy: 0.4838\n",
      "Epoch 30/50\n",
      "50000/50000 [==============================] - 11s 210us/step - loss: 1.5310 - accuracy: 0.4502 - val_loss: 1.4427 - val_accuracy: 0.4849\n",
      "Epoch 31/50\n",
      "50000/50000 [==============================] - 12s 232us/step - loss: 1.5192 - accuracy: 0.4584 - val_loss: 1.4421 - val_accuracy: 0.4824\n",
      "Epoch 32/50\n",
      "50000/50000 [==============================] - 11s 225us/step - loss: 1.5165 - accuracy: 0.4580 - val_loss: 1.4275 - val_accuracy: 0.4910\n",
      "Epoch 33/50\n",
      "50000/50000 [==============================] - 11s 226us/step - loss: 1.5055 - accuracy: 0.4620 - val_loss: 1.4275 - val_accuracy: 0.4863\n",
      "Epoch 34/50\n",
      "50000/50000 [==============================] - 12s 238us/step - loss: 1.5028 - accuracy: 0.4639 - val_loss: 1.4200 - val_accuracy: 0.4940\n",
      "Epoch 35/50\n",
      "50000/50000 [==============================] - 12s 237us/step - loss: 1.4965 - accuracy: 0.4674 - val_loss: 1.4212 - val_accuracy: 0.4897\n",
      "Epoch 36/50\n",
      "50000/50000 [==============================] - 12s 231us/step - loss: 1.4841 - accuracy: 0.4686 - val_loss: 1.4133 - val_accuracy: 0.4944\n",
      "Epoch 37/50\n",
      "50000/50000 [==============================] - 11s 213us/step - loss: 1.4827 - accuracy: 0.4720 - val_loss: 1.4053 - val_accuracy: 0.4998\n",
      "Epoch 38/50\n",
      "50000/50000 [==============================] - 11s 224us/step - loss: 1.4708 - accuracy: 0.4757 - val_loss: 1.4068 - val_accuracy: 0.4981\n",
      "Epoch 39/50\n",
      "50000/50000 [==============================] - 11s 225us/step - loss: 1.4715 - accuracy: 0.4746 - val_loss: 1.4003 - val_accuracy: 0.4985\n",
      "Epoch 40/50\n",
      "50000/50000 [==============================] - 12s 238us/step - loss: 1.4628 - accuracy: 0.4781 - val_loss: 1.3976 - val_accuracy: 0.5007\n",
      "Epoch 41/50\n",
      "50000/50000 [==============================] - 12s 233us/step - loss: 1.4526 - accuracy: 0.4797 - val_loss: 1.3929 - val_accuracy: 0.4975\n",
      "Epoch 42/50\n",
      "50000/50000 [==============================] - 12s 236us/step - loss: 1.4493 - accuracy: 0.4827 - val_loss: 1.3851 - val_accuracy: 0.5027\n",
      "Epoch 43/50\n",
      "50000/50000 [==============================] - 11s 220us/step - loss: 1.4407 - accuracy: 0.4836 - val_loss: 1.3799 - val_accuracy: 0.5045\n",
      "Epoch 44/50\n",
      "50000/50000 [==============================] - 12s 233us/step - loss: 1.4361 - accuracy: 0.4857 - val_loss: 1.3778 - val_accuracy: 0.5065\n",
      "Epoch 45/50\n",
      "50000/50000 [==============================] - 11s 224us/step - loss: 1.4294 - accuracy: 0.4921 - val_loss: 1.3700 - val_accuracy: 0.5067\n"
     ]
    },
    {
     "name": "stdout",
     "output_type": "stream",
     "text": [
      "Epoch 46/50\n",
      "50000/50000 [==============================] - 12s 237us/step - loss: 1.4228 - accuracy: 0.4928 - val_loss: 1.3740 - val_accuracy: 0.5060\n",
      "Epoch 47/50\n",
      "50000/50000 [==============================] - 11s 227us/step - loss: 1.4129 - accuracy: 0.4916 - val_loss: 1.3636 - val_accuracy: 0.5106\n",
      "Epoch 48/50\n",
      "50000/50000 [==============================] - 12s 235us/step - loss: 1.4142 - accuracy: 0.4937 - val_loss: 1.3765 - val_accuracy: 0.5094\n",
      "Epoch 49/50\n",
      "50000/50000 [==============================] - 12s 234us/step - loss: 1.4092 - accuracy: 0.4956 - val_loss: 1.3621 - val_accuracy: 0.5094\n",
      "Epoch 50/50\n",
      "50000/50000 [==============================] - 11s 220us/step - loss: 1.3950 - accuracy: 0.5021 - val_loss: 1.3607 - val_accuracy: 0.5086\n"
     ]
    }
   ],
   "source": [
    "model = build_mlp(input_shape=x_train.shape[1:])\n",
    "model.summary()\n",
    "optimizer = keras.optimizers.SGD(lr=LEARNING_RATE, nesterov=True, momentum=MOMENTUM)\n",
    "model.compile(loss=\"categorical_crossentropy\", metrics=[\"accuracy\"], optimizer=optimizer)\n",
    "\n",
    "model.fit(x_train, y_train, \n",
    "          epochs=EPOCHS, \n",
    "          batch_size=BATCH_SIZE, \n",
    "          validation_data=(x_test, y_test), \n",
    "          shuffle=True)\n",
    "\n",
    "# Collect results\n",
    "train_loss = model.history.history[\"loss\"]\n",
    "valid_loss = model.history.history[\"val_loss\"]\n",
    "train_acc = model.history.history[\"accuracy\"]\n",
    "valid_acc = model.history.history[\"val_accuracy\"]"
   ]
  },
  {
   "cell_type": "code",
   "execution_count": 8,
   "metadata": {},
   "outputs": [
    {
     "data": {
      "image/png": "[encoded data removed]",
      "text/plain": [
       "<Figure size 432x288 with 1 Axes>"
      ]
     },
     "metadata": {
      "needs_background": "light"
     },
     "output_type": "display_data"
    },
    {
     "data": {
      "image/png": "[encoded data removed]",
      "text/plain": [
       "<Figure size 432x288 with 1 Axes>"
      ]
     },
     "metadata": {
      "needs_background": "light"
     },
     "output_type": "display_data"
    }
   ],
   "source": [
    "import matplotlib.pyplot as plt\n",
    "%matplotlib inline\n",
    "\n",
    "plt.plot(range(len(train_loss)), train_loss, label=\"train loss\")\n",
    "plt.plot(range(len(valid_loss)), valid_loss, label=\"valid loss\")\n",
    "plt.legend()\n",
    "plt.title(\"Loss\")\n",
    "plt.show()\n",
    "\n",
    "plt.plot(range(len(train_acc)), train_acc, label=\"train accuracy\")\n",
    "plt.plot(range(len(valid_acc)), valid_acc, label=\"valid accuracy\")\n",
    "plt.legend()\n",
    "plt.title(\"Accuracy\")\n",
    "plt.show()"
   ]
  },
  {
   "cell_type": "code",
   "execution_count": null,
   "metadata": {},
   "outputs": [],
   "source": []
  }
 ],
 "metadata": {
  "kernelspec": {
   "display_name": "Python 3",
   "language": "python",
   "name": "python3"
  },
  "language_info": {
   "codemirror_mode": {
    "name": "ipython",
    "version": 3
   },
   "file_extension": ".py",
   "mimetype": "text/x-python",
   "name": "python",
   "nbconvert_exporter": "python",
   "pygments_lexer": "ipython3",
   "version": "3.7.3"
  }
 },
 "nbformat": 4,
 "nbformat_minor": 2
}
