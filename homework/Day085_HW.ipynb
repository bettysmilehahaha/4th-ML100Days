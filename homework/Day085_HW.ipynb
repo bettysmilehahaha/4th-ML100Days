{
 "cells": [
  {
   "cell_type": "markdown",
   "metadata": {},
   "source": [
    "## Work\n",
    "1. 試改變 monitor \"Validation Accuracy\" 並比較結果\n",
    "2. 調整 earlystop 的等待次數至 10, 25 並比較結果"
   ]
  },
  {
   "cell_type": "code",
   "execution_count": 1,
   "metadata": {},
   "outputs": [
    {
     "name": "stderr",
     "output_type": "stream",
     "text": [
      "Using TensorFlow backend.\n"
     ]
    }
   ],
   "source": [
    "import os\n",
    "import keras\n",
    "import matplotlib.pyplot as plt\n",
    "%matplotlib inline\n",
    "\n",
    "\n",
    "# Disable GPU\n",
    "os.environ[\"CUDA_VISIBLE_DEVICES\"] = \"\""
   ]
  },
  {
   "cell_type": "code",
   "execution_count": 2,
   "metadata": {},
   "outputs": [],
   "source": [
    "train, test = keras.datasets.cifar10.load_data()"
   ]
  },
  {
   "cell_type": "code",
   "execution_count": 3,
   "metadata": {},
   "outputs": [],
   "source": [
    "## 資料前處理\n",
    "def preproc_x(x, flatten=True):\n",
    "    x = x / 255.\n",
    "    if flatten:\n",
    "        x = x.reshape((len(x), -1))\n",
    "    return x\n",
    "\n",
    "def preproc_y(y, num_classes=10):\n",
    "    if y.shape[-1] == 1:\n",
    "        y = keras.utils.to_categorical(y, num_classes)\n",
    "    return y    "
   ]
  },
  {
   "cell_type": "code",
   "execution_count": 4,
   "metadata": {},
   "outputs": [],
   "source": [
    "x_train, y_train = train\n",
    "x_test, y_test = test\n",
    "\n",
    "# Preproc the inputs\n",
    "x_train = preproc_x(x_train)\n",
    "x_test = preproc_x(x_test)\n",
    "\n",
    "# Preprc the outputs\n",
    "y_train = preproc_y(y_train)\n",
    "y_test = preproc_y(y_test)"
   ]
  },
  {
   "cell_type": "code",
   "execution_count": 5,
   "metadata": {},
   "outputs": [],
   "source": [
    "from keras.layers import BatchNormalization\n",
    "\n",
    "\"\"\"\n",
    "建立神經網路，並加入 BN layer\n",
    "\"\"\"\n",
    "def build_mlp(input_shape, output_units=10, num_neurons=[512, 256, 128]):\n",
    "    input_layer = keras.layers.Input(input_shape)\n",
    "    \n",
    "    for i, n_units in enumerate(num_neurons):\n",
    "        if i == 0:\n",
    "            x = keras.layers.Dense(units=n_units, \n",
    "                                   activation=\"relu\", \n",
    "                                   name=\"hidden_layer\"+str(i+1))(input_layer)\n",
    "            x = BatchNormalization()(x)\n",
    "        else:\n",
    "            x = keras.layers.Dense(units=n_units, \n",
    "                                   activation=\"relu\", \n",
    "                                   name=\"hidden_layer\"+str(i+1))(x)\n",
    "            x = BatchNormalization()(x)\n",
    "    \n",
    "    out = keras.layers.Dense(units=output_units, activation=\"softmax\", name=\"output\")(x)\n",
    "    \n",
    "    model = keras.models.Model(inputs=[input_layer], outputs=[out])\n",
    "    return model"
   ]
  },
  {
   "cell_type": "code",
   "execution_count": 6,
   "metadata": {},
   "outputs": [],
   "source": [
    "## 超參數設定\n",
    "LEARNING_RATE = 1e-3\n",
    "EPOCHS = 50\n",
    "BATCH_SIZE = 1024\n",
    "MOMENTUM = 0.95"
   ]
  },
  {
   "cell_type": "code",
   "execution_count": 7,
   "metadata": {},
   "outputs": [],
   "source": [
    "\"\"\"\n",
    "# 載入 Callbacks, 並將 monitor 設定為監控 validation loss\n",
    "\"\"\"\n",
    "from keras.callbacks import EarlyStopping\n",
    "\n",
    "earlystop = EarlyStopping(monitor=\"val_acc\", \n",
    "                          patience=10, \n",
    "                          verbose=1\n",
    "                          )"
   ]
  },
  {
   "cell_type": "code",
   "execution_count": 8,
   "metadata": {},
   "outputs": [
    {
     "name": "stdout",
     "output_type": "stream",
     "text": [
      "Model: \"model_1\"\n",
      "_________________________________________________________________\n",
      "Layer (type)                 Output Shape              Param #   \n",
      "=================================================================\n",
      "input_1 (InputLayer)         (None, 3072)              0         \n",
      "_________________________________________________________________\n",
      "hidden_layer1 (Dense)        (None, 512)               1573376   \n",
      "_________________________________________________________________\n",
      "batch_normalization_1 (Batch (None, 512)               2048      \n",
      "_________________________________________________________________\n",
      "hidden_layer2 (Dense)        (None, 256)               131328    \n",
      "_________________________________________________________________\n",
      "batch_normalization_2 (Batch (None, 256)               1024      \n",
      "_________________________________________________________________\n",
      "hidden_layer3 (Dense)        (None, 128)               32896     \n",
      "_________________________________________________________________\n",
      "batch_normalization_3 (Batch (None, 128)               512       \n",
      "_________________________________________________________________\n",
      "output (Dense)               (None, 10)                1290      \n",
      "=================================================================\n",
      "Total params: 1,742,474\n",
      "Trainable params: 1,740,682\n",
      "Non-trainable params: 1,792\n",
      "_________________________________________________________________\n",
      "Train on 50000 samples, validate on 10000 samples\n",
      "Epoch 1/50\n",
      "50000/50000 [==============================] - 5s 103us/step - loss: 2.1936 - accuracy: 0.2724 - val_loss: 2.1103 - val_accuracy: 0.2049\n",
      "Epoch 2/50\n",
      " 2048/50000 [>.............................] - ETA: 3s - loss: 1.7744 - accuracy: 0.3770"
     ]
    },
    {
     "name": "stderr",
     "output_type": "stream",
     "text": [
      "C:\\Users\\Public\\Anaconda3\\lib\\site-packages\\keras\\callbacks\\callbacks.py:846: RuntimeWarning: Early stopping conditioned on metric `val_acc` which is not available. Available metrics are: val_loss,val_accuracy,loss,accuracy\n",
      "  (self.monitor, ','.join(list(logs.keys()))), RuntimeWarning\n"
     ]
    },
    {
     "name": "stdout",
     "output_type": "stream",
     "text": [
      "50000/50000 [==============================] - 4s 85us/step - loss: 1.7420 - accuracy: 0.3917 - val_loss: 1.9519 - val_accuracy: 0.3115\n",
      "Epoch 3/50\n",
      "50000/50000 [==============================] - 4s 85us/step - loss: 1.6265 - accuracy: 0.4292 - val_loss: 1.8224 - val_accuracy: 0.3804\n",
      "Epoch 4/50\n",
      "50000/50000 [==============================] - 4s 84us/step - loss: 1.5560 - accuracy: 0.4548 - val_loss: 1.7123 - val_accuracy: 0.4087\n",
      "Epoch 5/50\n",
      "50000/50000 [==============================] - 4s 83us/step - loss: 1.5015 - accuracy: 0.4749 - val_loss: 1.6446 - val_accuracy: 0.4257\n",
      "Epoch 6/50\n",
      "50000/50000 [==============================] - 4s 83us/step - loss: 1.4573 - accuracy: 0.4907 - val_loss: 1.5891 - val_accuracy: 0.4414\n",
      "Epoch 7/50\n",
      "50000/50000 [==============================] - 4s 83us/step - loss: 1.4184 - accuracy: 0.5060 - val_loss: 1.5655 - val_accuracy: 0.4498\n",
      "Epoch 8/50\n",
      "50000/50000 [==============================] - 4s 84us/step - loss: 1.3830 - accuracy: 0.5186 - val_loss: 1.5330 - val_accuracy: 0.4566\n",
      "Epoch 9/50\n",
      "50000/50000 [==============================] - 4s 85us/step - loss: 1.3486 - accuracy: 0.5315 - val_loss: 1.5340 - val_accuracy: 0.4541\n",
      "Epoch 10/50\n",
      "50000/50000 [==============================] - 4s 85us/step - loss: 1.3197 - accuracy: 0.5419 - val_loss: 1.5078 - val_accuracy: 0.4648\n",
      "Epoch 11/50\n",
      "50000/50000 [==============================] - 4s 86us/step - loss: 1.2909 - accuracy: 0.5512 - val_loss: 1.4989 - val_accuracy: 0.4676\n",
      "Epoch 12/50\n",
      "50000/50000 [==============================] - 4s 87us/step - loss: 1.2635 - accuracy: 0.5625 - val_loss: 1.4954 - val_accuracy: 0.4702\n",
      "Epoch 13/50\n",
      "50000/50000 [==============================] - 4s 87us/step - loss: 1.2366 - accuracy: 0.5745 - val_loss: 1.4878 - val_accuracy: 0.4759\n",
      "Epoch 14/50\n",
      "50000/50000 [==============================] - 4s 89us/step - loss: 1.2124 - accuracy: 0.5834 - val_loss: 1.4749 - val_accuracy: 0.4802\n",
      "Epoch 15/50\n",
      "50000/50000 [==============================] - 4s 90us/step - loss: 1.1869 - accuracy: 0.5926 - val_loss: 1.4690 - val_accuracy: 0.4832\n",
      "Epoch 16/50\n",
      "50000/50000 [==============================] - 5s 90us/step - loss: 1.1628 - accuracy: 0.6010 - val_loss: 1.4672 - val_accuracy: 0.4843\n",
      "Epoch 17/50\n",
      "50000/50000 [==============================] - 5s 92us/step - loss: 1.1408 - accuracy: 0.6096 - val_loss: 1.4773 - val_accuracy: 0.4832\n",
      "Epoch 18/50\n",
      "50000/50000 [==============================] - 5s 91us/step - loss: 1.1163 - accuracy: 0.6186 - val_loss: 1.4645 - val_accuracy: 0.4829\n",
      "Epoch 19/50\n",
      "50000/50000 [==============================] - 5s 94us/step - loss: 1.0947 - accuracy: 0.6260 - val_loss: 1.4644 - val_accuracy: 0.4833\n",
      "Epoch 20/50\n",
      "50000/50000 [==============================] - 5s 91us/step - loss: 1.0717 - accuracy: 0.6356 - val_loss: 1.4518 - val_accuracy: 0.4895\n",
      "Epoch 21/50\n",
      "50000/50000 [==============================] - 5s 91us/step - loss: 1.0517 - accuracy: 0.6434 - val_loss: 1.4612 - val_accuracy: 0.4864\n",
      "Epoch 22/50\n",
      "50000/50000 [==============================] - 5s 91us/step - loss: 1.0304 - accuracy: 0.6510 - val_loss: 1.4606 - val_accuracy: 0.4914\n",
      "Epoch 23/50\n",
      "50000/50000 [==============================] - 5s 91us/step - loss: 1.0071 - accuracy: 0.6591 - val_loss: 1.4535 - val_accuracy: 0.4922\n",
      "Epoch 24/50\n",
      "50000/50000 [==============================] - 5s 91us/step - loss: 0.9871 - accuracy: 0.6670 - val_loss: 1.4540 - val_accuracy: 0.4893\n",
      "Epoch 25/50\n",
      "50000/50000 [==============================] - 5s 92us/step - loss: 0.9677 - accuracy: 0.6725 - val_loss: 1.4775 - val_accuracy: 0.4915\n",
      "Epoch 26/50\n",
      "50000/50000 [==============================] - 5s 92us/step - loss: 0.9477 - accuracy: 0.6816 - val_loss: 1.4554 - val_accuracy: 0.4931\n",
      "Epoch 27/50\n",
      "50000/50000 [==============================] - 5s 93us/step - loss: 0.9266 - accuracy: 0.6888 - val_loss: 1.4722 - val_accuracy: 0.4932\n",
      "Epoch 28/50\n",
      "50000/50000 [==============================] - 5s 91us/step - loss: 0.9072 - accuracy: 0.6961 - val_loss: 1.4729 - val_accuracy: 0.4890\n",
      "Epoch 29/50\n",
      "50000/50000 [==============================] - 5s 91us/step - loss: 0.8864 - accuracy: 0.7044 - val_loss: 1.4674 - val_accuracy: 0.4989\n",
      "Epoch 30/50\n",
      "50000/50000 [==============================] - 5s 93us/step - loss: 0.8663 - accuracy: 0.7121 - val_loss: 1.4837 - val_accuracy: 0.4938\n",
      "Epoch 31/50\n",
      "50000/50000 [==============================] - 5s 93us/step - loss: 0.8464 - accuracy: 0.7210 - val_loss: 1.4846 - val_accuracy: 0.4927\n",
      "Epoch 32/50\n",
      "50000/50000 [==============================] - 5s 92us/step - loss: 0.8253 - accuracy: 0.7296 - val_loss: 1.4965 - val_accuracy: 0.4907\n",
      "Epoch 33/50\n",
      "50000/50000 [==============================] - 5s 93us/step - loss: 0.8076 - accuracy: 0.7358 - val_loss: 1.4931 - val_accuracy: 0.4963\n",
      "Epoch 34/50\n",
      "50000/50000 [==============================] - 5s 93us/step - loss: 0.7892 - accuracy: 0.7439 - val_loss: 1.5053 - val_accuracy: 0.4933\n",
      "Epoch 35/50\n",
      "50000/50000 [==============================] - 5s 93us/step - loss: 0.7691 - accuracy: 0.7500 - val_loss: 1.5110 - val_accuracy: 0.4899\n",
      "Epoch 36/50\n",
      "50000/50000 [==============================] - 5s 92us/step - loss: 0.7501 - accuracy: 0.7600 - val_loss: 1.5333 - val_accuracy: 0.4898\n",
      "Epoch 37/50\n",
      "50000/50000 [==============================] - 5s 94us/step - loss: 0.7308 - accuracy: 0.7670 - val_loss: 1.5416 - val_accuracy: 0.4841\n",
      "Epoch 38/50\n",
      "50000/50000 [==============================] - 5s 93us/step - loss: 0.7123 - accuracy: 0.7756 - val_loss: 1.5543 - val_accuracy: 0.4799\n",
      "Epoch 39/50\n",
      "50000/50000 [==============================] - 5s 93us/step - loss: 0.6948 - accuracy: 0.7802 - val_loss: 1.5391 - val_accuracy: 0.4938\n",
      "Epoch 40/50\n",
      "50000/50000 [==============================] - 5s 93us/step - loss: 0.6762 - accuracy: 0.7900 - val_loss: 1.5448 - val_accuracy: 0.4910\n",
      "Epoch 41/50\n",
      "50000/50000 [==============================] - 5s 94us/step - loss: 0.6574 - accuracy: 0.7955 - val_loss: 1.5765 - val_accuracy: 0.4899\n",
      "Epoch 42/50\n",
      "50000/50000 [==============================] - 5s 95us/step - loss: 0.6377 - accuracy: 0.8050 - val_loss: 1.5662 - val_accuracy: 0.4891\n",
      "Epoch 43/50\n",
      "50000/50000 [==============================] - 5s 94us/step - loss: 0.6214 - accuracy: 0.8108 - val_loss: 1.5741 - val_accuracy: 0.4922\n",
      "Epoch 44/50\n",
      "50000/50000 [==============================] - 5s 95us/step - loss: 0.6029 - accuracy: 0.8178 - val_loss: 1.5885 - val_accuracy: 0.4932\n",
      "Epoch 45/50\n",
      "50000/50000 [==============================] - 5s 96us/step - loss: 0.5852 - accuracy: 0.8263 - val_loss: 1.6101 - val_accuracy: 0.4902\n",
      "Epoch 46/50\n",
      "50000/50000 [==============================] - 5s 95us/step - loss: 0.5675 - accuracy: 0.8353 - val_loss: 1.6087 - val_accuracy: 0.4882\n",
      "Epoch 47/50\n",
      "50000/50000 [==============================] - 5s 95us/step - loss: 0.5509 - accuracy: 0.8411 - val_loss: 1.6324 - val_accuracy: 0.4876\n",
      "Epoch 48/50\n",
      "50000/50000 [==============================] - 5s 97us/step - loss: 0.5348 - accuracy: 0.8459 - val_loss: 1.6282 - val_accuracy: 0.4868\n",
      "Epoch 49/50\n",
      "50000/50000 [==============================] - 5s 95us/step - loss: 0.5181 - accuracy: 0.8532 - val_loss: 1.6445 - val_accuracy: 0.4880\n",
      "Epoch 50/50\n",
      "50000/50000 [==============================] - 5s 98us/step - loss: 0.5008 - accuracy: 0.8591 - val_loss: 1.6628 - val_accuracy: 0.4806\n"
     ]
    },
    {
     "ename": "KeyError",
     "evalue": "'acc'",
     "output_type": "error",
     "traceback": [
      "\u001b[1;31m---------------------------------------------------------------------------\u001b[0m",
      "\u001b[1;31mKeyError\u001b[0m                                  Traceback (most recent call last)",
      "\u001b[1;32m<ipython-input-8-e9c4c8d44106>\u001b[0m in \u001b[0;36m<module>\u001b[1;34m\u001b[0m\n\u001b[0;32m     15\u001b[0m \u001b[0mtrain_loss\u001b[0m \u001b[1;33m=\u001b[0m \u001b[0mmodel\u001b[0m\u001b[1;33m.\u001b[0m\u001b[0mhistory\u001b[0m\u001b[1;33m.\u001b[0m\u001b[0mhistory\u001b[0m\u001b[1;33m[\u001b[0m\u001b[1;34m\"loss\"\u001b[0m\u001b[1;33m]\u001b[0m\u001b[1;33m\u001b[0m\u001b[1;33m\u001b[0m\u001b[0m\n\u001b[0;32m     16\u001b[0m \u001b[0mvalid_loss\u001b[0m \u001b[1;33m=\u001b[0m \u001b[0mmodel\u001b[0m\u001b[1;33m.\u001b[0m\u001b[0mhistory\u001b[0m\u001b[1;33m.\u001b[0m\u001b[0mhistory\u001b[0m\u001b[1;33m[\u001b[0m\u001b[1;34m\"val_loss\"\u001b[0m\u001b[1;33m]\u001b[0m\u001b[1;33m\u001b[0m\u001b[1;33m\u001b[0m\u001b[0m\n\u001b[1;32m---> 17\u001b[1;33m \u001b[0mtrain_acc\u001b[0m \u001b[1;33m=\u001b[0m \u001b[0mmodel\u001b[0m\u001b[1;33m.\u001b[0m\u001b[0mhistory\u001b[0m\u001b[1;33m.\u001b[0m\u001b[0mhistory\u001b[0m\u001b[1;33m[\u001b[0m\u001b[1;34m\"acc\"\u001b[0m\u001b[1;33m]\u001b[0m\u001b[1;33m\u001b[0m\u001b[1;33m\u001b[0m\u001b[0m\n\u001b[0m\u001b[0;32m     18\u001b[0m \u001b[0mvalid_acc\u001b[0m \u001b[1;33m=\u001b[0m \u001b[0mmodel\u001b[0m\u001b[1;33m.\u001b[0m\u001b[0mhistory\u001b[0m\u001b[1;33m.\u001b[0m\u001b[0mhistory\u001b[0m\u001b[1;33m[\u001b[0m\u001b[1;34m\"val_acc\"\u001b[0m\u001b[1;33m]\u001b[0m\u001b[1;33m\u001b[0m\u001b[1;33m\u001b[0m\u001b[0m\n",
      "\u001b[1;31mKeyError\u001b[0m: 'acc'"
     ]
    }
   ],
   "source": [
    "model = build_mlp(input_shape=x_train.shape[1:])\n",
    "model.summary()\n",
    "optimizer = keras.optimizers.SGD(lr=LEARNING_RATE, nesterov=True, momentum=MOMENTUM)\n",
    "model.compile(loss=\"categorical_crossentropy\", metrics=[\"accuracy\"], optimizer=optimizer)\n",
    "\n",
    "model.fit(x_train, y_train, \n",
    "          epochs=EPOCHS, \n",
    "          batch_size=BATCH_SIZE, \n",
    "          validation_data=(x_test, y_test), \n",
    "          shuffle=True,\n",
    "          callbacks=[earlystop]\n",
    "         )\n",
    "\n",
    "# Collect results\n",
    "train_loss = model.history.history[\"loss\"]\n",
    "valid_loss = model.history.history[\"val_loss\"]\n",
    "train_acc = model.history.history[\"acc\"]\n",
    "valid_acc = model.history.history[\"val_acc\"]"
   ]
  },
  {
   "cell_type": "code",
   "execution_count": 9,
   "metadata": {},
   "outputs": [
    {
     "data": {
      "image/png": "[encoded data removed]",
      "text/plain": [
       "<Figure size 432x288 with 1 Axes>"
      ]
     },
     "metadata": {
      "needs_background": "light"
     },
     "output_type": "display_data"
    },
    {
     "ename": "NameError",
     "evalue": "name 'train_acc' is not defined",
     "output_type": "error",
     "traceback": [
      "\u001b[1;31m---------------------------------------------------------------------------\u001b[0m",
      "\u001b[1;31mNameError\u001b[0m                                 Traceback (most recent call last)",
      "\u001b[1;32m<ipython-input-9-4849faa08c7e>\u001b[0m in \u001b[0;36m<module>\u001b[1;34m\u001b[0m\n\u001b[0;32m      8\u001b[0m \u001b[0mplt\u001b[0m\u001b[1;33m.\u001b[0m\u001b[0mshow\u001b[0m\u001b[1;33m(\u001b[0m\u001b[1;33m)\u001b[0m\u001b[1;33m\u001b[0m\u001b[1;33m\u001b[0m\u001b[0m\n\u001b[0;32m      9\u001b[0m \u001b[1;33m\u001b[0m\u001b[0m\n\u001b[1;32m---> 10\u001b[1;33m \u001b[0mplt\u001b[0m\u001b[1;33m.\u001b[0m\u001b[0mplot\u001b[0m\u001b[1;33m(\u001b[0m\u001b[0mrange\u001b[0m\u001b[1;33m(\u001b[0m\u001b[0mlen\u001b[0m\u001b[1;33m(\u001b[0m\u001b[0mtrain_acc\u001b[0m\u001b[1;33m)\u001b[0m\u001b[1;33m)\u001b[0m\u001b[1;33m,\u001b[0m \u001b[0mtrain_acc\u001b[0m\u001b[1;33m,\u001b[0m \u001b[0mlabel\u001b[0m\u001b[1;33m=\u001b[0m\u001b[1;34m\"train accuracy\"\u001b[0m\u001b[1;33m)\u001b[0m\u001b[1;33m\u001b[0m\u001b[1;33m\u001b[0m\u001b[0m\n\u001b[0m\u001b[0;32m     11\u001b[0m \u001b[0mplt\u001b[0m\u001b[1;33m.\u001b[0m\u001b[0mplot\u001b[0m\u001b[1;33m(\u001b[0m\u001b[0mrange\u001b[0m\u001b[1;33m(\u001b[0m\u001b[0mlen\u001b[0m\u001b[1;33m(\u001b[0m\u001b[0mvalid_acc\u001b[0m\u001b[1;33m)\u001b[0m\u001b[1;33m)\u001b[0m\u001b[1;33m,\u001b[0m \u001b[0mvalid_acc\u001b[0m\u001b[1;33m,\u001b[0m \u001b[0mlabel\u001b[0m\u001b[1;33m=\u001b[0m\u001b[1;34m\"valid accuracy\"\u001b[0m\u001b[1;33m)\u001b[0m\u001b[1;33m\u001b[0m\u001b[1;33m\u001b[0m\u001b[0m\n\u001b[0;32m     12\u001b[0m \u001b[0mplt\u001b[0m\u001b[1;33m.\u001b[0m\u001b[0mlegend\u001b[0m\u001b[1;33m(\u001b[0m\u001b[1;33m)\u001b[0m\u001b[1;33m\u001b[0m\u001b[1;33m\u001b[0m\u001b[0m\n",
      "\u001b[1;31mNameError\u001b[0m: name 'train_acc' is not defined"
     ]
    }
   ],
   "source": [
    "import matplotlib.pyplot as plt\n",
    "%matplotlib inline\n",
    "\n",
    "plt.plot(range(len(train_loss)), train_loss, label=\"train loss\")\n",
    "plt.plot(range(len(valid_loss)), valid_loss, label=\"valid loss\")\n",
    "plt.legend()\n",
    "plt.title(\"Loss\")\n",
    "plt.show()\n",
    "\n",
    "plt.plot(range(len(train_acc)), train_acc, label=\"train accuracy\")\n",
    "plt.plot(range(len(valid_acc)), valid_acc, label=\"valid accuracy\")\n",
    "plt.legend()\n",
    "plt.title(\"Accuracy\")\n",
    "plt.show()"
   ]
  },
  {
   "cell_type": "code",
   "execution_count": null,
   "metadata": {},
   "outputs": [],
   "source": []
  }
 ],
 "metadata": {
  "kernelspec": {
   "display_name": "Python 3",
   "language": "python",
   "name": "python3"
  },
  "language_info": {
   "codemirror_mode": {
    "name": "ipython",
    "version": 3
   },
   "file_extension": ".py",
   "mimetype": "text/x-python",
   "name": "python",
   "nbconvert_exporter": "python",
   "pygments_lexer": "ipython3",
   "version": "3.7.3"
  }
 },
 "nbformat": 4,
 "nbformat_minor": 2
}
