{
 "cells": [
  {
   "cell_type": "markdown",
   "metadata": {},
   "source": [
    "## Work\n",
    "1. 試改變 monitor \"Validation Accuracy\" 並比較結果\n",
    "2. 調整 earlystop 的等待次數至 10, 25 並比較結果"
   ]
  },
  {
   "cell_type": "code",
   "execution_count": 1,
   "metadata": {},
   "outputs": [
    {
     "name": "stderr",
     "output_type": "stream",
     "text": [
      "Using TensorFlow backend.\n"
     ]
    }
   ],
   "source": [
    "import os\n",
    "import keras\n",
    "import matplotlib.pyplot as plt\n",
    "%matplotlib inline\n",
    "\n",
    "\n",
    "# Disable GPU\n",
    "os.environ[\"CUDA_VISIBLE_DEVICES\"] = \"\""
   ]
  },
  {
   "cell_type": "code",
   "execution_count": 2,
   "metadata": {},
   "outputs": [],
   "source": [
    "train, test = keras.datasets.cifar10.load_data()"
   ]
  },
  {
   "cell_type": "code",
   "execution_count": 3,
   "metadata": {},
   "outputs": [],
   "source": [
    "## 資料前處理\n",
    "def preproc_x(x, flatten=True):\n",
    "    x = x / 255.\n",
    "    if flatten:\n",
    "        x = x.reshape((len(x), -1))\n",
    "    return x\n",
    "\n",
    "def preproc_y(y, num_classes=10):\n",
    "    if y.shape[-1] == 1:\n",
    "        y = keras.utils.to_categorical(y, num_classes)\n",
    "    return y    "
   ]
  },
  {
   "cell_type": "code",
   "execution_count": 4,
   "metadata": {},
   "outputs": [],
   "source": [
    "x_train, y_train = train\n",
    "x_test, y_test = test\n",
    "\n",
    "# Preproc the inputs\n",
    "x_train = preproc_x(x_train)\n",
    "x_test = preproc_x(x_test)\n",
    "\n",
    "# Preprc the outputs\n",
    "y_train = preproc_y(y_train)\n",
    "y_test = preproc_y(y_test)"
   ]
  },
  {
   "cell_type": "code",
   "execution_count": 5,
   "metadata": {},
   "outputs": [],
   "source": [
    "from keras.layers import BatchNormalization\n",
    "\n",
    "\"\"\"\n",
    "建立神經網路，並加入 BN layer\n",
    "\"\"\"\n",
    "def build_mlp(input_shape, output_units=10, num_neurons=[512, 256, 128]):\n",
    "    input_layer = keras.layers.Input(input_shape)\n",
    "    \n",
    "    for i, n_units in enumerate(num_neurons):\n",
    "        if i == 0:\n",
    "            x = keras.layers.Dense(units=n_units, \n",
    "                                   activation=\"relu\", \n",
    "                                   name=\"hidden_layer\"+str(i+1))(input_layer)\n",
    "            x = BatchNormalization()(x)\n",
    "        else:\n",
    "            x = keras.layers.Dense(units=n_units, \n",
    "                                   activation=\"relu\", \n",
    "                                   name=\"hidden_layer\"+str(i+1))(x)\n",
    "            x = BatchNormalization()(x)\n",
    "    \n",
    "    out = keras.layers.Dense(units=output_units, activation=\"softmax\", name=\"output\")(x)\n",
    "    \n",
    "    model = keras.models.Model(inputs=[input_layer], outputs=[out])\n",
    "    return model"
   ]
  },
  {
   "cell_type": "code",
   "execution_count": 6,
   "metadata": {},
   "outputs": [],
   "source": [
    "## 超參數設定\n",
    "LEARNING_RATE = 1e-3\n",
    "EPOCHS = 50\n",
    "BATCH_SIZE = 1024\n",
    "MOMENTUM = 0.95"
   ]
  },
  {
   "cell_type": "code",
   "execution_count": 7,
   "metadata": {},
   "outputs": [],
   "source": [
    "\"\"\"\n",
    "# 載入 Callbacks, 並將 monitor 設定為監控 validation loss\n",
    "\"\"\"\n",
    "from keras.callbacks import EarlyStopping\n",
    "\n",
    "earlystop = EarlyStopping(monitor=\"val_acc\", \n",
    "                          patience=10, \n",
    "                          verbose=1\n",
    "                          )"
   ]
  },
  {
   "cell_type": "code",
   "execution_count": 10,
   "metadata": {},
   "outputs": [
    {
     "name": "stdout",
     "output_type": "stream",
     "text": [
      "Model: \"model_2\"\n",
      "_________________________________________________________________\n",
      "Layer (type)                 Output Shape              Param #   \n",
      "=================================================================\n",
      "input_2 (InputLayer)         (None, 3072)              0         \n",
      "_________________________________________________________________\n",
      "hidden_layer1 (Dense)        (None, 512)               1573376   \n",
      "_________________________________________________________________\n",
      "batch_normalization_4 (Batch (None, 512)               2048      \n",
      "_________________________________________________________________\n",
      "hidden_layer2 (Dense)        (None, 256)               131328    \n",
      "_________________________________________________________________\n",
      "batch_normalization_5 (Batch (None, 256)               1024      \n",
      "_________________________________________________________________\n",
      "hidden_layer3 (Dense)        (None, 128)               32896     \n",
      "_________________________________________________________________\n",
      "batch_normalization_6 (Batch (None, 128)               512       \n",
      "_________________________________________________________________\n",
      "output (Dense)               (None, 10)                1290      \n",
      "=================================================================\n",
      "Total params: 1,742,474\n",
      "Trainable params: 1,740,682\n",
      "Non-trainable params: 1,792\n",
      "_________________________________________________________________\n",
      "Train on 50000 samples, validate on 10000 samples\n",
      "Epoch 1/50\n",
      "50000/50000 [==============================] - 5s 97us/step - loss: 2.2394 - accuracy: 0.2648 - val_loss: 2.1216 - val_accuracy: 0.2083\n",
      "Epoch 2/50\n",
      "50000/50000 [==============================] - 4s 83us/step - loss: 1.7450 - accuracy: 0.3949 - val_loss: 1.9636 - val_accuracy: 0.2870\n",
      "Epoch 3/50\n",
      "50000/50000 [==============================] - 4s 85us/step - loss: 1.6135 - accuracy: 0.4379 - val_loss: 1.8340 - val_accuracy: 0.3462\n",
      "Epoch 4/50\n",
      "50000/50000 [==============================] - 4s 88us/step - loss: 1.5417 - accuracy: 0.4617 - val_loss: 1.7365 - val_accuracy: 0.3814\n",
      "Epoch 5/50\n",
      "50000/50000 [==============================] - 4s 85us/step - loss: 1.4869 - accuracy: 0.4812 - val_loss: 1.6454 - val_accuracy: 0.4253\n",
      "Epoch 6/50\n",
      "50000/50000 [==============================] - 4s 87us/step - loss: 1.4406 - accuracy: 0.4973 - val_loss: 1.5842 - val_accuracy: 0.4450\n",
      "Epoch 7/50\n",
      "50000/50000 [==============================] - 4s 88us/step - loss: 1.4024 - accuracy: 0.5128 - val_loss: 1.5424 - val_accuracy: 0.4553\n",
      "Epoch 8/50\n",
      "50000/50000 [==============================] - 4s 87us/step - loss: 1.3667 - accuracy: 0.5236 - val_loss: 1.5370 - val_accuracy: 0.4555\n",
      "Epoch 9/50\n",
      "50000/50000 [==============================] - 4s 86us/step - loss: 1.3359 - accuracy: 0.5354 - val_loss: 1.4976 - val_accuracy: 0.4712\n",
      "Epoch 10/50\n",
      "50000/50000 [==============================] - 4s 88us/step - loss: 1.3072 - accuracy: 0.5447 - val_loss: 1.4790 - val_accuracy: 0.4756\n",
      "Epoch 11/50\n",
      "50000/50000 [==============================] - 5s 91us/step - loss: 1.2773 - accuracy: 0.5562 - val_loss: 1.4751 - val_accuracy: 0.4776\n",
      "Epoch 12/50\n",
      "50000/50000 [==============================] - 5s 92us/step - loss: 1.2500 - accuracy: 0.5677 - val_loss: 1.4657 - val_accuracy: 0.4827\n",
      "Epoch 13/50\n",
      "50000/50000 [==============================] - 5s 91us/step - loss: 1.2261 - accuracy: 0.5743 - val_loss: 1.4619 - val_accuracy: 0.4881\n",
      "Epoch 14/50\n",
      "50000/50000 [==============================] - 4s 90us/step - loss: 1.1999 - accuracy: 0.5856 - val_loss: 1.4520 - val_accuracy: 0.4855\n",
      "Epoch 15/50\n",
      "50000/50000 [==============================] - 5s 90us/step - loss: 1.1748 - accuracy: 0.5966 - val_loss: 1.4563 - val_accuracy: 0.4878\n",
      "Epoch 16/50\n",
      "50000/50000 [==============================] - 5s 90us/step - loss: 1.1533 - accuracy: 0.6022 - val_loss: 1.4483 - val_accuracy: 0.4912\n",
      "Epoch 17/50\n",
      "50000/50000 [==============================] - 5s 91us/step - loss: 1.1303 - accuracy: 0.6143 - val_loss: 1.4552 - val_accuracy: 0.4861\n",
      "Epoch 18/50\n",
      "50000/50000 [==============================] - 5s 90us/step - loss: 1.1084 - accuracy: 0.6207 - val_loss: 1.4583 - val_accuracy: 0.4871\n",
      "Epoch 19/50\n",
      "50000/50000 [==============================] - 5s 90us/step - loss: 1.0881 - accuracy: 0.6281 - val_loss: 1.4485 - val_accuracy: 0.4915\n",
      "Epoch 20/50\n",
      "50000/50000 [==============================] - 5s 92us/step - loss: 1.0643 - accuracy: 0.6380 - val_loss: 1.4580 - val_accuracy: 0.4938\n",
      "Epoch 21/50\n",
      "50000/50000 [==============================] - 5s 94us/step - loss: 1.0434 - accuracy: 0.6436 - val_loss: 1.4446 - val_accuracy: 0.4960\n",
      "Epoch 22/50\n",
      "50000/50000 [==============================] - 4s 89us/step - loss: 1.0213 - accuracy: 0.6540 - val_loss: 1.4368 - val_accuracy: 0.5006\n",
      "Epoch 23/50\n",
      "50000/50000 [==============================] - 5s 90us/step - loss: 1.0009 - accuracy: 0.6621 - val_loss: 1.4573 - val_accuracy: 0.4938\n",
      "Epoch 24/50\n",
      "50000/50000 [==============================] - 4s 90us/step - loss: 0.9799 - accuracy: 0.6702 - val_loss: 1.4718 - val_accuracy: 0.4904\n",
      "Epoch 25/50\n",
      "50000/50000 [==============================] - 5s 90us/step - loss: 0.9604 - accuracy: 0.6779 - val_loss: 1.4488 - val_accuracy: 0.4965\n",
      "Epoch 26/50\n",
      "50000/50000 [==============================] - 5s 90us/step - loss: 0.9389 - accuracy: 0.6870 - val_loss: 1.4576 - val_accuracy: 0.5000\n",
      "Epoch 27/50\n",
      "50000/50000 [==============================] - 5s 90us/step - loss: 0.9194 - accuracy: 0.6956 - val_loss: 1.4559 - val_accuracy: 0.4996\n",
      "Epoch 28/50\n",
      "50000/50000 [==============================] - 5s 91us/step - loss: 0.8983 - accuracy: 0.7015 - val_loss: 1.4745 - val_accuracy: 0.4930\n",
      "Epoch 29/50\n",
      "50000/50000 [==============================] - 5s 91us/step - loss: 0.8812 - accuracy: 0.7092 - val_loss: 1.4724 - val_accuracy: 0.4953\n",
      "Epoch 30/50\n",
      "50000/50000 [==============================] - 5s 91us/step - loss: 0.8601 - accuracy: 0.7170 - val_loss: 1.4940 - val_accuracy: 0.4897\n",
      "Epoch 31/50\n",
      "50000/50000 [==============================] - 5s 91us/step - loss: 0.8411 - accuracy: 0.7236 - val_loss: 1.4826 - val_accuracy: 0.4976\n",
      "Epoch 32/50\n",
      "50000/50000 [==============================] - 5s 92us/step - loss: 0.8203 - accuracy: 0.7329 - val_loss: 1.4821 - val_accuracy: 0.4967\n",
      "Epoch 33/50\n",
      "50000/50000 [==============================] - 5s 92us/step - loss: 0.8020 - accuracy: 0.7397 - val_loss: 1.4837 - val_accuracy: 0.4958\n",
      "Epoch 34/50\n",
      "50000/50000 [==============================] - 5s 92us/step - loss: 0.7847 - accuracy: 0.7453 - val_loss: 1.4973 - val_accuracy: 0.4955\n",
      "Epoch 35/50\n",
      "50000/50000 [==============================] - 5s 92us/step - loss: 0.7648 - accuracy: 0.7528 - val_loss: 1.4988 - val_accuracy: 0.5011\n",
      "Epoch 36/50\n",
      "50000/50000 [==============================] - 5s 92us/step - loss: 0.7448 - accuracy: 0.7619 - val_loss: 1.5354 - val_accuracy: 0.4943\n",
      "Epoch 37/50\n",
      "50000/50000 [==============================] - 5s 92us/step - loss: 0.7279 - accuracy: 0.7699 - val_loss: 1.5209 - val_accuracy: 0.4952\n",
      "Epoch 38/50\n",
      "50000/50000 [==============================] - 5s 93us/step - loss: 0.7075 - accuracy: 0.7773 - val_loss: 1.5330 - val_accuracy: 0.4959\n",
      "Epoch 39/50\n",
      "50000/50000 [==============================] - 5s 93us/step - loss: 0.6881 - accuracy: 0.7847 - val_loss: 1.5351 - val_accuracy: 0.4983\n",
      "Epoch 40/50\n",
      "50000/50000 [==============================] - 5s 93us/step - loss: 0.6725 - accuracy: 0.7908 - val_loss: 1.5611 - val_accuracy: 0.4990\n",
      "Epoch 41/50\n",
      "50000/50000 [==============================] - 5s 94us/step - loss: 0.6534 - accuracy: 0.7982 - val_loss: 1.5693 - val_accuracy: 0.4958\n",
      "Epoch 42/50\n",
      "50000/50000 [==============================] - 5s 94us/step - loss: 0.6367 - accuracy: 0.8062 - val_loss: 1.5882 - val_accuracy: 0.4967\n",
      "Epoch 43/50\n",
      "50000/50000 [==============================] - 5s 98us/step - loss: 0.6185 - accuracy: 0.8131 - val_loss: 1.5888 - val_accuracy: 0.4913\n",
      "Epoch 44/50\n",
      "50000/50000 [==============================] - 5s 94us/step - loss: 0.6023 - accuracy: 0.8200 - val_loss: 1.5996 - val_accuracy: 0.4957\n",
      "Epoch 45/50\n",
      "50000/50000 [==============================] - 5s 94us/step - loss: 0.5840 - accuracy: 0.8265 - val_loss: 1.5954 - val_accuracy: 0.4972\n",
      "Epoch 46/50\n"
     ]
    },
    {
     "name": "stdout",
     "output_type": "stream",
     "text": [
      "50000/50000 [==============================] - 5s 93us/step - loss: 0.5659 - accuracy: 0.8329 - val_loss: 1.5993 - val_accuracy: 0.5012\n",
      "Epoch 47/50\n",
      "50000/50000 [==============================] - 5s 94us/step - loss: 0.5482 - accuracy: 0.8402 - val_loss: 1.6090 - val_accuracy: 0.4982\n",
      "Epoch 48/50\n",
      "50000/50000 [==============================] - 5s 94us/step - loss: 0.5334 - accuracy: 0.8470 - val_loss: 1.6468 - val_accuracy: 0.4916\n",
      "Epoch 49/50\n",
      "50000/50000 [==============================] - 5s 94us/step - loss: 0.5167 - accuracy: 0.8522 - val_loss: 1.6417 - val_accuracy: 0.4928\n",
      "Epoch 50/50\n",
      "50000/50000 [==============================] - 5s 96us/step - loss: 0.5009 - accuracy: 0.8597 - val_loss: 1.6494 - val_accuracy: 0.4942\n"
     ]
    }
   ],
   "source": [
    "model = build_mlp(input_shape=x_train.shape[1:])\n",
    "model.summary()\n",
    "optimizer = keras.optimizers.SGD(lr=LEARNING_RATE, nesterov=True, momentum=MOMENTUM)\n",
    "model.compile(loss=\"categorical_crossentropy\", metrics=[\"accuracy\"], optimizer=optimizer)\n",
    "\n",
    "model.fit(x_train, y_train, \n",
    "          epochs=EPOCHS, \n",
    "          batch_size=BATCH_SIZE, \n",
    "          validation_data=(x_test, y_test), \n",
    "          shuffle=True,\n",
    "          callbacks=[earlystop]\n",
    "         )\n",
    "\n",
    "# Collect results\n",
    "train_loss = model.history.history[\"loss\"]\n",
    "valid_loss = model.history.history[\"val_loss\"]\n",
    "train_acc = model.history.history[\"accuracy\"]\n",
    "valid_acc = model.history.history[\"val_accuracy\"]"
   ]
  },
  {
   "cell_type": "code",
   "execution_count": 11,
   "metadata": {},
   "outputs": [
    {
     "data": {
      "image/png": "[encoded data removed]",
      "text/plain": [
       "<Figure size 432x288 with 1 Axes>"
      ]
     },
     "metadata": {
      "needs_background": "light"
     },
     "output_type": "display_data"
    },
    {
     "data": {
      "image/png": "[encoded data removed]",
      "text/plain": [
       "<Figure size 432x288 with 1 Axes>"
      ]
     },
     "metadata": {
      "needs_background": "light"
     },
     "output_type": "display_data"
    }
   ],
   "source": [
    "import matplotlib.pyplot as plt\n",
    "%matplotlib inline\n",
    "\n",
    "plt.plot(range(len(train_loss)), train_loss, label=\"train loss\")\n",
    "plt.plot(range(len(valid_loss)), valid_loss, label=\"valid loss\")\n",
    "plt.legend()\n",
    "plt.title(\"Loss\")\n",
    "plt.show()\n",
    "\n",
    "plt.plot(range(len(train_acc)), train_acc, label=\"train accuracy\")\n",
    "plt.plot(range(len(valid_acc)), valid_acc, label=\"valid accuracy\")\n",
    "plt.legend()\n",
    "plt.title(\"Accuracy\")\n",
    "plt.show()"
   ]
  },
  {
   "cell_type": "code",
   "execution_count": 12,
   "metadata": {},
   "outputs": [],
   "source": [
    "\"\"\"\n",
    "# 載入 Callbacks, 並將 monitor 設定為監控 validation loss\n",
    "\"\"\"\n",
    "from keras.callbacks import EarlyStopping\n",
    "\n",
    "earlystop = EarlyStopping(monitor=\"val_acc\", \n",
    "                          patience=25, \n",
    "                          verbose=1\n",
    "                          )"
   ]
  },
  {
   "cell_type": "code",
   "execution_count": 13,
   "metadata": {},
   "outputs": [
    {
     "name": "stdout",
     "output_type": "stream",
     "text": [
      "Model: \"model_3\"\n",
      "_________________________________________________________________\n",
      "Layer (type)                 Output Shape              Param #   \n",
      "=================================================================\n",
      "input_3 (InputLayer)         (None, 3072)              0         \n",
      "_________________________________________________________________\n",
      "hidden_layer1 (Dense)        (None, 512)               1573376   \n",
      "_________________________________________________________________\n",
      "batch_normalization_7 (Batch (None, 512)               2048      \n",
      "_________________________________________________________________\n",
      "hidden_layer2 (Dense)        (None, 256)               131328    \n",
      "_________________________________________________________________\n",
      "batch_normalization_8 (Batch (None, 256)               1024      \n",
      "_________________________________________________________________\n",
      "hidden_layer3 (Dense)        (None, 128)               32896     \n",
      "_________________________________________________________________\n",
      "batch_normalization_9 (Batch (None, 128)               512       \n",
      "_________________________________________________________________\n",
      "output (Dense)               (None, 10)                1290      \n",
      "=================================================================\n",
      "Total params: 1,742,474\n",
      "Trainable params: 1,740,682\n",
      "Non-trainable params: 1,792\n",
      "_________________________________________________________________\n",
      "Train on 50000 samples, validate on 10000 samples\n",
      "Epoch 1/50\n",
      "50000/50000 [==============================] - 5s 92us/step - loss: 2.1878 - accuracy: 0.2771 - val_loss: 2.1547 - val_accuracy: 0.1907\n",
      "Epoch 2/50\n",
      "50000/50000 [==============================] - 4s 84us/step - loss: 1.7389 - accuracy: 0.3959 - val_loss: 1.9807 - val_accuracy: 0.3160\n",
      "Epoch 3/50\n",
      "50000/50000 [==============================] - 5s 100us/step - loss: 1.6141 - accuracy: 0.4399 - val_loss: 1.8287 - val_accuracy: 0.3738\n",
      "Epoch 4/50\n",
      "50000/50000 [==============================] - 5s 96us/step - loss: 1.5418 - accuracy: 0.4622 - val_loss: 1.7130 - val_accuracy: 0.4139\n",
      "Epoch 5/50\n",
      "50000/50000 [==============================] - 5s 103us/step - loss: 1.4857 - accuracy: 0.4817 - val_loss: 1.6365 - val_accuracy: 0.4261\n",
      "Epoch 6/50\n",
      "50000/50000 [==============================] - 5s 109us/step - loss: 1.4410 - accuracy: 0.4984 - val_loss: 1.5834 - val_accuracy: 0.4440\n",
      "Epoch 7/50\n",
      "50000/50000 [==============================] - 5s 99us/step - loss: 1.4019 - accuracy: 0.5129 - val_loss: 1.5458 - val_accuracy: 0.4499\n",
      "Epoch 8/50\n",
      "50000/50000 [==============================] - 5s 98us/step - loss: 1.3667 - accuracy: 0.5254 - val_loss: 1.5297 - val_accuracy: 0.4625\n",
      "Epoch 9/50\n",
      "50000/50000 [==============================] - 5s 97us/step - loss: 1.3345 - accuracy: 0.5367 - val_loss: 1.5087 - val_accuracy: 0.4666\n",
      "Epoch 10/50\n",
      "50000/50000 [==============================] - 5s 97us/step - loss: 1.3037 - accuracy: 0.5485 - val_loss: 1.4919 - val_accuracy: 0.4736\n",
      "Epoch 11/50\n",
      "50000/50000 [==============================] - 5s 98us/step - loss: 1.2752 - accuracy: 0.5587 - val_loss: 1.4805 - val_accuracy: 0.4751\n",
      "Epoch 12/50\n",
      "50000/50000 [==============================] - 5s 99us/step - loss: 1.2474 - accuracy: 0.5701 - val_loss: 1.4751 - val_accuracy: 0.4778\n",
      "Epoch 13/50\n",
      "50000/50000 [==============================] - 5s 98us/step - loss: 1.2218 - accuracy: 0.5805 - val_loss: 1.4838 - val_accuracy: 0.4757\n",
      "Epoch 14/50\n",
      "50000/50000 [==============================] - 5s 98us/step - loss: 1.1977 - accuracy: 0.5885 - val_loss: 1.4686 - val_accuracy: 0.4791\n",
      "Epoch 15/50\n",
      "50000/50000 [==============================] - 5s 98us/step - loss: 1.1712 - accuracy: 0.5995 - val_loss: 1.4699 - val_accuracy: 0.4786\n",
      "Epoch 16/50\n",
      "50000/50000 [==============================] - 5s 98us/step - loss: 1.1464 - accuracy: 0.6085 - val_loss: 1.4600 - val_accuracy: 0.4840\n",
      "Epoch 17/50\n",
      "50000/50000 [==============================] - 5s 99us/step - loss: 1.1236 - accuracy: 0.6172 - val_loss: 1.4532 - val_accuracy: 0.4875\n",
      "Epoch 18/50\n",
      "50000/50000 [==============================] - 5s 99us/step - loss: 1.1013 - accuracy: 0.6248 - val_loss: 1.4543 - val_accuracy: 0.4856\n",
      "Epoch 19/50\n",
      "50000/50000 [==============================] - 5s 100us/step - loss: 1.0776 - accuracy: 0.6349 - val_loss: 1.4622 - val_accuracy: 0.4893\n",
      "Epoch 20/50\n",
      "50000/50000 [==============================] - 5s 100us/step - loss: 1.0569 - accuracy: 0.6418 - val_loss: 1.4611 - val_accuracy: 0.4876\n",
      "Epoch 21/50\n",
      "50000/50000 [==============================] - 5s 100us/step - loss: 1.0345 - accuracy: 0.6499 - val_loss: 1.4483 - val_accuracy: 0.4914\n",
      "Epoch 22/50\n",
      "50000/50000 [==============================] - 5s 100us/step - loss: 1.0130 - accuracy: 0.6591 - val_loss: 1.4690 - val_accuracy: 0.4942\n",
      "Epoch 23/50\n",
      "50000/50000 [==============================] - 5s 102us/step - loss: 0.9914 - accuracy: 0.6677 - val_loss: 1.4532 - val_accuracy: 0.4994\n",
      "Epoch 24/50\n",
      "50000/50000 [==============================] - 5s 102us/step - loss: 0.9695 - accuracy: 0.6759 - val_loss: 1.4638 - val_accuracy: 0.4944\n",
      "Epoch 25/50\n",
      "50000/50000 [==============================] - 5s 102us/step - loss: 0.9497 - accuracy: 0.6843 - val_loss: 1.4718 - val_accuracy: 0.4907\n",
      "Epoch 26/50\n",
      "50000/50000 [==============================] - 5s 102us/step - loss: 0.9294 - accuracy: 0.6898 - val_loss: 1.4710 - val_accuracy: 0.4938\n",
      "Epoch 27/50\n",
      "50000/50000 [==============================] - 5s 102us/step - loss: 0.9087 - accuracy: 0.7004 - val_loss: 1.4684 - val_accuracy: 0.4981\n",
      "Epoch 28/50\n",
      "50000/50000 [==============================] - 5s 103us/step - loss: 0.8888 - accuracy: 0.7064 - val_loss: 1.4731 - val_accuracy: 0.4946\n",
      "Epoch 29/50\n",
      "50000/50000 [==============================] - 5s 103us/step - loss: 0.8667 - accuracy: 0.7158 - val_loss: 1.4791 - val_accuracy: 0.4921\n",
      "Epoch 30/50\n",
      "50000/50000 [==============================] - 5s 102us/step - loss: 0.8477 - accuracy: 0.7229 - val_loss: 1.4997 - val_accuracy: 0.4935\n",
      "Epoch 31/50\n",
      "50000/50000 [==============================] - 5s 103us/step - loss: 0.8289 - accuracy: 0.7283 - val_loss: 1.4970 - val_accuracy: 0.4946\n",
      "Epoch 32/50\n",
      "50000/50000 [==============================] - 5s 104us/step - loss: 0.8088 - accuracy: 0.7383 - val_loss: 1.5125 - val_accuracy: 0.4908\n",
      "Epoch 33/50\n",
      "50000/50000 [==============================] - 5s 104us/step - loss: 0.7887 - accuracy: 0.7461 - val_loss: 1.5147 - val_accuracy: 0.4919\n",
      "Epoch 34/50\n",
      "50000/50000 [==============================] - 5s 104us/step - loss: 0.7681 - accuracy: 0.7533 - val_loss: 1.5081 - val_accuracy: 0.4952\n",
      "Epoch 35/50\n",
      "50000/50000 [==============================] - 5s 105us/step - loss: 0.7498 - accuracy: 0.7611 - val_loss: 1.5313 - val_accuracy: 0.4928\n",
      "Epoch 36/50\n",
      "50000/50000 [==============================] - 5s 104us/step - loss: 0.7290 - accuracy: 0.7673 - val_loss: 1.5301 - val_accuracy: 0.4915\n",
      "Epoch 37/50\n",
      "50000/50000 [==============================] - 5s 104us/step - loss: 0.7131 - accuracy: 0.7758 - val_loss: 1.5287 - val_accuracy: 0.4919\n",
      "Epoch 38/50\n",
      "50000/50000 [==============================] - 5s 105us/step - loss: 0.6920 - accuracy: 0.7840 - val_loss: 1.5561 - val_accuracy: 0.4919\n",
      "Epoch 39/50\n",
      "50000/50000 [==============================] - 5s 106us/step - loss: 0.6758 - accuracy: 0.7914 - val_loss: 1.5757 - val_accuracy: 0.4857\n",
      "Epoch 40/50\n",
      "50000/50000 [==============================] - 5s 106us/step - loss: 0.6554 - accuracy: 0.7961 - val_loss: 1.5734 - val_accuracy: 0.4945\n",
      "Epoch 41/50\n",
      "50000/50000 [==============================] - 5s 107us/step - loss: 0.6351 - accuracy: 0.8052 - val_loss: 1.5793 - val_accuracy: 0.4894\n",
      "Epoch 42/50\n",
      "50000/50000 [==============================] - 5s 107us/step - loss: 0.6158 - accuracy: 0.8140 - val_loss: 1.5841 - val_accuracy: 0.4914\n",
      "Epoch 43/50\n",
      "50000/50000 [==============================] - 5s 105us/step - loss: 0.5990 - accuracy: 0.8203 - val_loss: 1.6228 - val_accuracy: 0.4900\n",
      "Epoch 44/50\n",
      "50000/50000 [==============================] - 5s 107us/step - loss: 0.5825 - accuracy: 0.8260 - val_loss: 1.6207 - val_accuracy: 0.4885\n",
      "Epoch 45/50\n",
      "50000/50000 [==============================] - 5s 106us/step - loss: 0.5655 - accuracy: 0.8330 - val_loss: 1.6218 - val_accuracy: 0.4912\n",
      "Epoch 46/50\n"
     ]
    },
    {
     "name": "stdout",
     "output_type": "stream",
     "text": [
      "50000/50000 [==============================] - 5s 104us/step - loss: 0.5482 - accuracy: 0.8394 - val_loss: 1.6498 - val_accuracy: 0.4886\n",
      "Epoch 47/50\n",
      "50000/50000 [==============================] - 5s 105us/step - loss: 0.5283 - accuracy: 0.8512 - val_loss: 1.6648 - val_accuracy: 0.4877\n",
      "Epoch 48/50\n",
      "50000/50000 [==============================] - 5s 105us/step - loss: 0.5123 - accuracy: 0.8558 - val_loss: 1.6625 - val_accuracy: 0.4852\n",
      "Epoch 49/50\n",
      "50000/50000 [==============================] - 5s 105us/step - loss: 0.4949 - accuracy: 0.8618 - val_loss: 1.6703 - val_accuracy: 0.4874\n",
      "Epoch 50/50\n",
      "50000/50000 [==============================] - 5s 105us/step - loss: 0.4799 - accuracy: 0.8680 - val_loss: 1.7042 - val_accuracy: 0.4839\n"
     ]
    }
   ],
   "source": [
    "model = build_mlp(input_shape=x_train.shape[1:])\n",
    "model.summary()\n",
    "optimizer = keras.optimizers.SGD(lr=LEARNING_RATE, nesterov=True, momentum=MOMENTUM)\n",
    "model.compile(loss=\"categorical_crossentropy\", metrics=[\"accuracy\"], optimizer=optimizer)\n",
    "\n",
    "model.fit(x_train, y_train, \n",
    "          epochs=EPOCHS, \n",
    "          batch_size=BATCH_SIZE, \n",
    "          validation_data=(x_test, y_test), \n",
    "          shuffle=True,\n",
    "          callbacks=[earlystop]\n",
    "         )\n",
    "\n",
    "# Collect results\n",
    "train_loss = model.history.history[\"loss\"]\n",
    "valid_loss = model.history.history[\"val_loss\"]\n",
    "train_acc = model.history.history[\"accuracy\"]\n",
    "valid_acc = model.history.history[\"val_accuracy\"]"
   ]
  },
  {
   "cell_type": "code",
   "execution_count": 14,
   "metadata": {},
   "outputs": [
    {
     "data": {
      "image/png": "[encoded data removed]",
      "text/plain": [
       "<Figure size 432x288 with 1 Axes>"
      ]
     },
     "metadata": {
      "needs_background": "light"
     },
     "output_type": "display_data"
    },
    {
     "data": {
      "image/png": "[encoded data removed]",
      "text/plain": [
       "<Figure size 432x288 with 1 Axes>"
      ]
     },
     "metadata": {
      "needs_background": "light"
     },
     "output_type": "display_data"
    }
   ],
   "source": [
    "import matplotlib.pyplot as plt\n",
    "%matplotlib inline\n",
    "\n",
    "plt.plot(range(len(train_loss)), train_loss, label=\"train loss\")\n",
    "plt.plot(range(len(valid_loss)), valid_loss, label=\"valid loss\")\n",
    "plt.legend()\n",
    "plt.title(\"Loss\")\n",
    "plt.show()\n",
    "\n",
    "plt.plot(range(len(train_acc)), train_acc, label=\"train accuracy\")\n",
    "plt.plot(range(len(valid_acc)), valid_acc, label=\"valid accuracy\")\n",
    "plt.legend()\n",
    "plt.title(\"Accuracy\")\n",
    "plt.show()"
   ]
  },
  {
   "cell_type": "code",
   "execution_count": null,
   "metadata": {},
   "outputs": [],
   "source": []
  }
 ],
 "metadata": {
  "kernelspec": {
   "display_name": "Python 3",
   "language": "python",
   "name": "python3"
  },
  "language_info": {
   "codemirror_mode": {
    "name": "ipython",
    "version": 3
   },
   "file_extension": ".py",
   "mimetype": "text/x-python",
   "name": "python",
   "nbconvert_exporter": "python",
   "pygments_lexer": "ipython3",
   "version": "3.7.3"
  }
 },
 "nbformat": 4,
 "nbformat_minor": 2
}
