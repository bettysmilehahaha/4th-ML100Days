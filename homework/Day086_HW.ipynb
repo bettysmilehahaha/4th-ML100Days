{
 "cells": [
  {
   "cell_type": "markdown",
   "metadata": {},
   "source": [
    "## Work\n",
    "1. 試比較 save_best_only 與否的差異\n",
    "2. 請僅存入將 save_weights_only 設定為 True, 並嘗試 reset ipynb 並將模型與權重重新建回並預測 x_test"
   ]
  },
  {
   "cell_type": "code",
   "execution_count": 1,
   "metadata": {},
   "outputs": [
    {
     "name": "stderr",
     "output_type": "stream",
     "text": [
      "Using TensorFlow backend.\n"
     ]
    }
   ],
   "source": [
    "import os\n",
    "import keras\n",
    "\n",
    "# Disable GPU\n",
    "os.environ[\"CUDA_VISIBLE_DEVICES\"] = \"\""
   ]
  },
  {
   "cell_type": "code",
   "execution_count": 2,
   "metadata": {},
   "outputs": [],
   "source": [
    "train, test = keras.datasets.cifar10.load_data()"
   ]
  },
  {
   "cell_type": "code",
   "execution_count": 3,
   "metadata": {},
   "outputs": [],
   "source": [
    "## 資料前處理\n",
    "def preproc_x(x, flatten=True):\n",
    "    x = x / 255.\n",
    "    if flatten:\n",
    "        x = x.reshape((len(x), -1))\n",
    "    return x\n",
    "\n",
    "def preproc_y(y, num_classes=10):\n",
    "    if y.shape[-1] == 1:\n",
    "        y = keras.utils.to_categorical(y, num_classes)\n",
    "    return y    "
   ]
  },
  {
   "cell_type": "code",
   "execution_count": 4,
   "metadata": {},
   "outputs": [],
   "source": [
    "x_train, y_train = train\n",
    "x_test, y_test = test\n",
    "\n",
    "# Preproc the inputs\n",
    "x_train = preproc_x(x_train)\n",
    "x_test = preproc_x(x_test)\n",
    "\n",
    "# Preprc the outputs\n",
    "y_train = preproc_y(y_train)\n",
    "y_test = preproc_y(y_test)"
   ]
  },
  {
   "cell_type": "code",
   "execution_count": 5,
   "metadata": {},
   "outputs": [],
   "source": [
    "from keras.layers import BatchNormalization\n",
    "\n",
    "\"\"\"\n",
    "建立神經網路，並加入 BN layer\n",
    "\"\"\"\n",
    "def build_mlp(input_shape, output_units=10, num_neurons=[512, 256, 128]):\n",
    "    input_layer = keras.layers.Input(input_shape)\n",
    "    \n",
    "    for i, n_units in enumerate(num_neurons):\n",
    "        if i == 0:\n",
    "            x = keras.layers.Dense(units=n_units, \n",
    "                                   activation=\"relu\", \n",
    "                                   name=\"hidden_layer\"+str(i+1))(input_layer)\n",
    "            x = BatchNormalization()(x)\n",
    "        else:\n",
    "            x = keras.layers.Dense(units=n_units, \n",
    "                                   activation=\"relu\", \n",
    "                                   name=\"hidden_layer\"+str(i+1))(x)\n",
    "            x = BatchNormalization()(x)\n",
    "    \n",
    "    out = keras.layers.Dense(units=output_units, activation=\"softmax\", name=\"output\")(x)\n",
    "    \n",
    "    model = keras.models.Model(inputs=[input_layer], outputs=[out])\n",
    "    return model"
   ]
  },
  {
   "cell_type": "code",
   "execution_count": 6,
   "metadata": {},
   "outputs": [],
   "source": [
    "## 超參數設定\n",
    "LEARNING_RATE = 1e-3\n",
    "EPOCHS = 50\n",
    "BATCH_SIZE = 1024\n",
    "MOMENTUM = 0.95"
   ]
  },
  {
   "cell_type": "code",
   "execution_count": 16,
   "metadata": {},
   "outputs": [
    {
     "name": "stdout",
     "output_type": "stream",
     "text": [
      "Model: \"model_5\"\n",
      "_________________________________________________________________\n",
      "Layer (type)                 Output Shape              Param #   \n",
      "=================================================================\n",
      "input_5 (InputLayer)         (None, 3072)              0         \n",
      "_________________________________________________________________\n",
      "hidden_layer1 (Dense)        (None, 512)               1573376   \n",
      "_________________________________________________________________\n",
      "batch_normalization_13 (Batc (None, 512)               2048      \n",
      "_________________________________________________________________\n",
      "hidden_layer2 (Dense)        (None, 256)               131328    \n",
      "_________________________________________________________________\n",
      "batch_normalization_14 (Batc (None, 256)               1024      \n",
      "_________________________________________________________________\n",
      "hidden_layer3 (Dense)        (None, 128)               32896     \n",
      "_________________________________________________________________\n",
      "batch_normalization_15 (Batc (None, 128)               512       \n",
      "_________________________________________________________________\n",
      "output (Dense)               (None, 10)                1290      \n",
      "=================================================================\n",
      "Total params: 1,742,474\n",
      "Trainable params: 1,740,682\n",
      "Non-trainable params: 1,792\n",
      "_________________________________________________________________\n",
      "Train on 50000 samples, validate on 10000 samples\n",
      "Epoch 1/50\n",
      "50000/50000 [==============================] - 5s 96us/step - loss: 2.2302 - accuracy: 0.2744 - val_loss: 2.1049 - val_accuracy: 0.2487\n",
      "Epoch 2/50\n",
      "50000/50000 [==============================] - 4s 84us/step - loss: 1.7371 - accuracy: 0.3979 - val_loss: 1.9341 - val_accuracy: 0.3232\n",
      "Epoch 3/50\n",
      "50000/50000 [==============================] - 4s 83us/step - loss: 1.6117 - accuracy: 0.4368 - val_loss: 1.7974 - val_accuracy: 0.3833\n",
      "Epoch 4/50\n",
      "50000/50000 [==============================] - 4s 83us/step - loss: 1.5380 - accuracy: 0.4620 - val_loss: 1.7041 - val_accuracy: 0.4097\n",
      "Epoch 5/50\n",
      "50000/50000 [==============================] - 4s 84us/step - loss: 1.4830 - accuracy: 0.4808 - val_loss: 1.6261 - val_accuracy: 0.4292\n",
      "Epoch 6/50\n",
      "50000/50000 [==============================] - 4s 85us/step - loss: 1.4379 - accuracy: 0.4977 - val_loss: 1.5914 - val_accuracy: 0.4377\n",
      "Epoch 7/50\n",
      "50000/50000 [==============================] - 4s 84us/step - loss: 1.3990 - accuracy: 0.5106 - val_loss: 1.5394 - val_accuracy: 0.4597\n",
      "Epoch 8/50\n",
      "50000/50000 [==============================] - 4s 86us/step - loss: 1.3623 - accuracy: 0.5247 - val_loss: 1.5182 - val_accuracy: 0.4621\n",
      "Epoch 9/50\n",
      "50000/50000 [==============================] - 4s 87us/step - loss: 1.3292 - accuracy: 0.5354 - val_loss: 1.4989 - val_accuracy: 0.4661\n",
      "Epoch 10/50\n",
      "50000/50000 [==============================] - 4s 87us/step - loss: 1.3006 - accuracy: 0.5497 - val_loss: 1.4897 - val_accuracy: 0.4702\n",
      "Epoch 11/50\n",
      "50000/50000 [==============================] - 4s 88us/step - loss: 1.2706 - accuracy: 0.5593 - val_loss: 1.4762 - val_accuracy: 0.4786\n",
      "Epoch 12/50\n",
      "50000/50000 [==============================] - 4s 87us/step - loss: 1.2428 - accuracy: 0.5699 - val_loss: 1.4797 - val_accuracy: 0.4770\n",
      "Epoch 13/50\n",
      "50000/50000 [==============================] - 5s 90us/step - loss: 1.2183 - accuracy: 0.5791 - val_loss: 1.4657 - val_accuracy: 0.4836\n",
      "Epoch 14/50\n",
      "50000/50000 [==============================] - 5s 91us/step - loss: 1.1920 - accuracy: 0.5878 - val_loss: 1.4637 - val_accuracy: 0.4839\n",
      "Epoch 15/50\n",
      "50000/50000 [==============================] - 5s 95us/step - loss: 1.1683 - accuracy: 0.5984 - val_loss: 1.4649 - val_accuracy: 0.4824\n",
      "Epoch 16/50\n",
      "50000/50000 [==============================] - 5s 93us/step - loss: 1.1441 - accuracy: 0.6070 - val_loss: 1.4620 - val_accuracy: 0.4855\n",
      "Epoch 17/50\n",
      "50000/50000 [==============================] - 5s 94us/step - loss: 1.1221 - accuracy: 0.6135 - val_loss: 1.4512 - val_accuracy: 0.4850\n",
      "Epoch 18/50\n",
      "50000/50000 [==============================] - 5s 91us/step - loss: 1.0968 - accuracy: 0.6248 - val_loss: 1.4707 - val_accuracy: 0.4821\n",
      "Epoch 19/50\n",
      "50000/50000 [==============================] - 5s 91us/step - loss: 1.0739 - accuracy: 0.6325 - val_loss: 1.4525 - val_accuracy: 0.4933\n",
      "Epoch 20/50\n",
      "50000/50000 [==============================] - 5s 92us/step - loss: 1.0541 - accuracy: 0.6386 - val_loss: 1.4617 - val_accuracy: 0.4952\n",
      "Epoch 21/50\n",
      "50000/50000 [==============================] - 5s 91us/step - loss: 1.0319 - accuracy: 0.6494 - val_loss: 1.4670 - val_accuracy: 0.4912\n",
      "Epoch 22/50\n",
      "50000/50000 [==============================] - 5s 91us/step - loss: 1.0112 - accuracy: 0.6558 - val_loss: 1.4855 - val_accuracy: 0.4815\n",
      "Epoch 23/50\n",
      "50000/50000 [==============================] - 5s 90us/step - loss: 0.9880 - accuracy: 0.6652 - val_loss: 1.4750 - val_accuracy: 0.4888\n",
      "Epoch 24/50\n",
      "50000/50000 [==============================] - 5s 92us/step - loss: 0.9664 - accuracy: 0.6732 - val_loss: 1.4593 - val_accuracy: 0.4950\n",
      "Epoch 25/50\n",
      "50000/50000 [==============================] - 5s 92us/step - loss: 0.9437 - accuracy: 0.6824 - val_loss: 1.4773 - val_accuracy: 0.4948\n",
      "Epoch 26/50\n",
      "50000/50000 [==============================] - 5s 93us/step - loss: 0.9273 - accuracy: 0.6877 - val_loss: 1.4989 - val_accuracy: 0.4855\n",
      "Epoch 27/50\n",
      "50000/50000 [==============================] - 5s 92us/step - loss: 0.9053 - accuracy: 0.6983 - val_loss: 1.4751 - val_accuracy: 0.4990\n",
      "Epoch 28/50\n",
      "50000/50000 [==============================] - 5s 93us/step - loss: 0.8846 - accuracy: 0.7040 - val_loss: 1.4943 - val_accuracy: 0.4929\n",
      "Epoch 29/50\n",
      "50000/50000 [==============================] - 5s 94us/step - loss: 0.8637 - accuracy: 0.7153 - val_loss: 1.4995 - val_accuracy: 0.4939\n",
      "Epoch 30/50\n",
      "50000/50000 [==============================] - 5s 92us/step - loss: 0.8449 - accuracy: 0.7215 - val_loss: 1.4997 - val_accuracy: 0.4954\n",
      "Epoch 31/50\n",
      "50000/50000 [==============================] - 5s 94us/step - loss: 0.8245 - accuracy: 0.7282 - val_loss: 1.5058 - val_accuracy: 0.4880\n",
      "Epoch 32/50\n",
      "50000/50000 [==============================] - 5s 94us/step - loss: 0.8046 - accuracy: 0.7379 - val_loss: 1.5108 - val_accuracy: 0.4945\n",
      "Epoch 33/50\n",
      "50000/50000 [==============================] - 5s 94us/step - loss: 0.7866 - accuracy: 0.7445 - val_loss: 1.5337 - val_accuracy: 0.4937\n",
      "Epoch 34/50\n",
      "50000/50000 [==============================] - 5s 93us/step - loss: 0.7676 - accuracy: 0.7529 - val_loss: 1.5329 - val_accuracy: 0.4914\n",
      "Epoch 35/50\n",
      "50000/50000 [==============================] - 5s 94us/step - loss: 0.7469 - accuracy: 0.7616 - val_loss: 1.5412 - val_accuracy: 0.4913\n",
      "Epoch 36/50\n",
      "50000/50000 [==============================] - 5s 95us/step - loss: 0.7285 - accuracy: 0.7693 - val_loss: 1.5384 - val_accuracy: 0.4984\n",
      "Epoch 37/50\n",
      "50000/50000 [==============================] - 5s 97us/step - loss: 0.7086 - accuracy: 0.7753 - val_loss: 1.5497 - val_accuracy: 0.4941\n",
      "Epoch 38/50\n",
      "50000/50000 [==============================] - 5s 95us/step - loss: 0.6891 - accuracy: 0.7832 - val_loss: 1.5773 - val_accuracy: 0.4902\n",
      "Epoch 39/50\n",
      "50000/50000 [==============================] - 5s 94us/step - loss: 0.6683 - accuracy: 0.7931 - val_loss: 1.5785 - val_accuracy: 0.4866\n",
      "Epoch 40/50\n",
      "50000/50000 [==============================] - 5s 95us/step - loss: 0.6525 - accuracy: 0.7971 - val_loss: 1.5783 - val_accuracy: 0.4905\n",
      "Epoch 41/50\n",
      "50000/50000 [==============================] - 5s 97us/step - loss: 0.6347 - accuracy: 0.8043 - val_loss: 1.5867 - val_accuracy: 0.4872\n",
      "Epoch 42/50\n",
      "50000/50000 [==============================] - 5s 96us/step - loss: 0.6184 - accuracy: 0.8123 - val_loss: 1.6023 - val_accuracy: 0.4942\n",
      "Epoch 43/50\n",
      "50000/50000 [==============================] - 5s 96us/step - loss: 0.5992 - accuracy: 0.8211 - val_loss: 1.6240 - val_accuracy: 0.4878\n",
      "Epoch 44/50\n",
      "50000/50000 [==============================] - 5s 97us/step - loss: 0.5809 - accuracy: 0.8283 - val_loss: 1.6327 - val_accuracy: 0.4891\n",
      "Epoch 45/50\n",
      "50000/50000 [==============================] - 5s 97us/step - loss: 0.5642 - accuracy: 0.8355 - val_loss: 1.6439 - val_accuracy: 0.4816\n",
      "Epoch 46/50\n"
     ]
    },
    {
     "name": "stdout",
     "output_type": "stream",
     "text": [
      "50000/50000 [==============================] - 5s 94us/step - loss: 0.5463 - accuracy: 0.8415 - val_loss: 1.6504 - val_accuracy: 0.4874\n",
      "Epoch 47/50\n",
      "50000/50000 [==============================] - 5s 96us/step - loss: 0.5297 - accuracy: 0.8486 - val_loss: 1.6879 - val_accuracy: 0.4865\n",
      "Epoch 48/50\n",
      "50000/50000 [==============================] - 5s 95us/step - loss: 0.5133 - accuracy: 0.8547 - val_loss: 1.6702 - val_accuracy: 0.4865\n",
      "Epoch 49/50\n",
      "50000/50000 [==============================] - 5s 94us/step - loss: 0.4950 - accuracy: 0.8627 - val_loss: 1.7116 - val_accuracy: 0.4776\n",
      "Epoch 50/50\n",
      "50000/50000 [==============================] - 5s 94us/step - loss: 0.4789 - accuracy: 0.8679 - val_loss: 1.7077 - val_accuracy: 0.4859\n",
      "10000/10000 [==============================] - 1s 78us/step\n"
     ]
    }
   ],
   "source": [
    "# 載入 Callbacks\n",
    "\"\"\"Code Here\n",
    "設定 callbacks: model checkpoint\n",
    "\"\"\"\n",
    "from keras.callbacks import ModelCheckpoint\n",
    "\n",
    "model_ckpt = ModelCheckpoint(filepath=\"./tmp.h5\", \n",
    "                             monitor=\"val_loss\", \n",
    "                             save_best_only=True)\n",
    "\n",
    "results = {}\n",
    "\"\"\"Code Here\n",
    "撰寫你的訓練流程並將結果用 dictionary 紀錄\n",
    "\"\"\"\n",
    "model = build_mlp(input_shape=x_train.shape[1:])\n",
    "model.summary()\n",
    "optimizer = keras.optimizers.SGD(lr=LEARNING_RATE, nesterov=True, momentum=MOMENTUM)\n",
    "model.compile(loss=\"categorical_crossentropy\", metrics=[\"accuracy\"], optimizer=optimizer)\n",
    "\n",
    "model.fit(x_train, y_train, \n",
    "          epochs=EPOCHS, \n",
    "          batch_size=BATCH_SIZE, \n",
    "          validation_data=(x_test, y_test), \n",
    "          shuffle=True,\n",
    "          callbacks=[model_ckpt]\n",
    "         )\n",
    "\n",
    "# Collect results\n",
    "train_loss = model.history.history[\"loss\"]\n",
    "valid_loss = model.history.history[\"val_loss\"]\n",
    "train_acc = model.history.history[\"accuracy\"]\n",
    "valid_acc = model.history.history[\"val_accuracy\"]\n",
    "\n",
    "pred_final = model.predict(x_test)\n",
    "\n",
    "# Load back\n",
    "model = keras.models.load_model(\"./tmp.h5\")\n",
    "loss_loadback, acc_loadback = model.evaluate(x_test, y_test)\n",
    "pred_loadback = model.predict(x_test)"
   ]
  },
  {
   "cell_type": "code",
   "execution_count": 20,
   "metadata": {},
   "outputs": [],
   "source": [
    "model.save(\"final_model.h5\")\n",
    "model.save_weights(\"model_weights.h5\")"
   ]
  },
  {
   "cell_type": "code",
   "execution_count": 17,
   "metadata": {
    "scrolled": true
   },
   "outputs": [
    {
     "data": {
      "image/png": "[encoded data removed]",
      "text/plain": [
       "<Figure size 432x288 with 1 Axes>"
      ]
     },
     "metadata": {
      "needs_background": "light"
     },
     "output_type": "display_data"
    },
    {
     "data": {
      "image/png": "[encoded data removed]",
      "text/plain": [
       "<Figure size 432x288 with 1 Axes>"
      ]
     },
     "metadata": {
      "needs_background": "light"
     },
     "output_type": "display_data"
    }
   ],
   "source": [
    "import matplotlib.pyplot as plt\n",
    "%matplotlib inline\n",
    "\n",
    "plt.plot(range(len(train_loss)), train_loss, label=\"train loss\")\n",
    "plt.plot(range(len(valid_loss)), valid_loss, label=\"valid loss\")\n",
    "plt.hlines(y=loss_loadback, xmin=0, xmax=len(train_loss), colors='r', linestyles='--')\n",
    "plt.legend()\n",
    "plt.title(\"Loss\")\n",
    "plt.show()\n",
    "\n",
    "plt.plot(range(len(train_acc)), train_acc, label=\"train accuracy\")\n",
    "plt.plot(range(len(valid_acc)), valid_acc, label=\"valid accuracy\")\n",
    "plt.hlines(y=acc_loadback, xmin=0, xmax=len(train_loss), colors='r', linestyles='--')\n",
    "plt.legend()\n",
    "plt.title(\"Accuracy\")\n",
    "plt.show()"
   ]
  },
  {
   "cell_type": "code",
   "execution_count": 18,
   "metadata": {},
   "outputs": [
    {
     "name": "stdout",
     "output_type": "stream",
     "text": [
      "Accuracy of final weights: 0.486\n",
      "Accuracy of best weights: 0.485\n"
     ]
    }
   ],
   "source": [
    "from sklearn.metrics import accuracy_score\n",
    "\n",
    "final_model_acc = accuracy_score(y_true=y_test.argmax(axis=-1), y_pred=pred_final.argmax(axis=-1))\n",
    "loadback_acc = accuracy_score(y_true=y_test.argmax(axis=-1), y_pred=pred_loadback.argmax(axis=-1))\n",
    "\n",
    "print(\"Accuracy of final weights: %.3f\" % final_model_acc)\n",
    "print(\"Accuracy of best weights: %.3f\" % loadback_acc)"
   ]
  },
  {
   "cell_type": "code",
   "execution_count": 21,
   "metadata": {},
   "outputs": [
    {
     "name": "stdout",
     "output_type": "stream",
     "text": [
      "Accuracy of best weights: 0.115\n",
      "Accuracy of best weights: 0.485\n"
     ]
    }
   ],
   "source": [
    "new_model = build_mlp(input_shape=x_train.shape[1:])\n",
    "new_model_pred = new_model.predict(x_test)\n",
    "new_model_acc = accuracy_score(y_true=y_test.argmax(axis=-1), y_pred=new_model_pred.argmax(axis=-1))\n",
    "print(\"Accuracy of best weights: %.3f\" % new_model_acc)\n",
    "\n",
    "new_model.load_weights(\"./model_weights.h5\")\n",
    "new_model_pred = new_model.predict(x_test)\n",
    "new_model_loadback_acc = accuracy_score(y_true=y_test.argmax(axis=-1), y_pred=new_model_pred.argmax(axis=-1))\n",
    "print(\"Accuracy of best weights: %.3f\" % new_model_loadback_acc)\n"
   ]
  },
  {
   "cell_type": "code",
   "execution_count": null,
   "metadata": {},
   "outputs": [],
   "source": []
  },
  {
   "cell_type": "code",
   "execution_count": null,
   "metadata": {},
   "outputs": [],
   "source": []
  }
 ],
 "metadata": {
  "kernelspec": {
   "display_name": "Python 3",
   "language": "python",
   "name": "python3"
  },
  "language_info": {
   "codemirror_mode": {
    "name": "ipython",
    "version": 3
   },
   "file_extension": ".py",
   "mimetype": "text/x-python",
   "name": "python",
   "nbconvert_exporter": "python",
   "pygments_lexer": "ipython3",
   "version": "3.7.3"
  }
 },
 "nbformat": 4,
 "nbformat_minor": 2
}
