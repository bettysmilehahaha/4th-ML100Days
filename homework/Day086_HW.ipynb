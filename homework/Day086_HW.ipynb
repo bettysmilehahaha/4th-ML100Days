{
 "cells": [
  {
   "cell_type": "markdown",
   "metadata": {},
   "source": [
    "## Work\n",
    "1. 試比較 save_best_only 與否的差異\n",
    "2. 請僅存入將 save_weights_only 設定為 True, 並嘗試 reset ipynb 並將模型與權重重新建回並預測 x_test"
   ]
  },
  {
   "cell_type": "code",
   "execution_count": 1,
   "metadata": {},
   "outputs": [
    {
     "name": "stderr",
     "output_type": "stream",
     "text": [
      "Using TensorFlow backend.\n"
     ]
    }
   ],
   "source": [
    "import os\n",
    "import keras\n",
    "\n",
    "# Disable GPU\n",
    "os.environ[\"CUDA_VISIBLE_DEVICES\"] = \"\""
   ]
  },
  {
   "cell_type": "code",
   "execution_count": 2,
   "metadata": {},
   "outputs": [],
   "source": [
    "train, test = keras.datasets.cifar10.load_data()"
   ]
  },
  {
   "cell_type": "code",
   "execution_count": 3,
   "metadata": {},
   "outputs": [],
   "source": [
    "## 資料前處理\n",
    "def preproc_x(x, flatten=True):\n",
    "    x = x / 255.\n",
    "    if flatten:\n",
    "        x = x.reshape((len(x), -1))\n",
    "    return x\n",
    "\n",
    "def preproc_y(y, num_classes=10):\n",
    "    if y.shape[-1] == 1:\n",
    "        y = keras.utils.to_categorical(y, num_classes)\n",
    "    return y    "
   ]
  },
  {
   "cell_type": "code",
   "execution_count": 4,
   "metadata": {},
   "outputs": [],
   "source": [
    "x_train, y_train = train\n",
    "x_test, y_test = test\n",
    "\n",
    "# Preproc the inputs\n",
    "x_train = preproc_x(x_train)\n",
    "x_test = preproc_x(x_test)\n",
    "\n",
    "# Preprc the outputs\n",
    "y_train = preproc_y(y_train)\n",
    "y_test = preproc_y(y_test)"
   ]
  },
  {
   "cell_type": "code",
   "execution_count": 5,
   "metadata": {},
   "outputs": [],
   "source": [
    "from keras.layers import BatchNormalization\n",
    "\n",
    "\"\"\"\n",
    "建立神經網路，並加入 BN layer\n",
    "\"\"\"\n",
    "def build_mlp(input_shape, output_units=10, num_neurons=[512, 256, 128]):\n",
    "    input_layer = keras.layers.Input(input_shape)\n",
    "    \n",
    "    for i, n_units in enumerate(num_neurons):\n",
    "        if i == 0:\n",
    "            x = keras.layers.Dense(units=n_units, \n",
    "                                   activation=\"relu\", \n",
    "                                   name=\"hidden_layer\"+str(i+1))(input_layer)\n",
    "            x = BatchNormalization()(x)\n",
    "        else:\n",
    "            x = keras.layers.Dense(units=n_units, \n",
    "                                   activation=\"relu\", \n",
    "                                   name=\"hidden_layer\"+str(i+1))(x)\n",
    "            x = BatchNormalization()(x)\n",
    "    \n",
    "    out = keras.layers.Dense(units=output_units, activation=\"softmax\", name=\"output\")(x)\n",
    "    \n",
    "    model = keras.models.Model(inputs=[input_layer], outputs=[out])\n",
    "    return model"
   ]
  },
  {
   "cell_type": "code",
   "execution_count": 6,
   "metadata": {},
   "outputs": [],
   "source": [
    "## 超參數設定\n",
    "LEARNING_RATE = 1e-3\n",
    "EPOCHS = 50\n",
    "BATCH_SIZE = 1024\n",
    "MOMENTUM = 0.95"
   ]
  },
  {
   "cell_type": "code",
   "execution_count": 9,
   "metadata": {},
   "outputs": [
    {
     "name": "stdout",
     "output_type": "stream",
     "text": [
      "Model: \"model_3\"\n",
      "_________________________________________________________________\n",
      "Layer (type)                 Output Shape              Param #   \n",
      "=================================================================\n",
      "input_3 (InputLayer)         (None, 3072)              0         \n",
      "_________________________________________________________________\n",
      "hidden_layer1 (Dense)        (None, 512)               1573376   \n",
      "_________________________________________________________________\n",
      "batch_normalization_7 (Batch (None, 512)               2048      \n",
      "_________________________________________________________________\n",
      "hidden_layer2 (Dense)        (None, 256)               131328    \n",
      "_________________________________________________________________\n",
      "batch_normalization_8 (Batch (None, 256)               1024      \n",
      "_________________________________________________________________\n",
      "hidden_layer3 (Dense)        (None, 128)               32896     \n",
      "_________________________________________________________________\n",
      "batch_normalization_9 (Batch (None, 128)               512       \n",
      "_________________________________________________________________\n",
      "output (Dense)               (None, 10)                1290      \n",
      "=================================================================\n",
      "Total params: 1,742,474\n",
      "Trainable params: 1,740,682\n",
      "Non-trainable params: 1,792\n",
      "_________________________________________________________________\n",
      "Train on 50000 samples, validate on 10000 samples\n",
      "Epoch 1/50\n",
      "50000/50000 [==============================] - 5s 97us/step - loss: 2.2103 - accuracy: 0.2713 - val_loss: 2.1230 - val_accuracy: 0.2383\n",
      "Epoch 2/50\n",
      "50000/50000 [==============================] - 4s 85us/step - loss: 1.7285 - accuracy: 0.3939 - val_loss: 1.9527 - val_accuracy: 0.3145\n",
      "Epoch 3/50\n",
      "50000/50000 [==============================] - 4s 86us/step - loss: 1.6077 - accuracy: 0.4371 - val_loss: 1.7991 - val_accuracy: 0.3754\n",
      "Epoch 4/50\n",
      "50000/50000 [==============================] - 4s 85us/step - loss: 1.5390 - accuracy: 0.4611 - val_loss: 1.7029 - val_accuracy: 0.4082\n",
      "Epoch 5/50\n",
      "50000/50000 [==============================] - 4s 85us/step - loss: 1.4868 - accuracy: 0.4804 - val_loss: 1.6408 - val_accuracy: 0.4257\n",
      "Epoch 6/50\n",
      "50000/50000 [==============================] - 4s 87us/step - loss: 1.4460 - accuracy: 0.4939 - val_loss: 1.5760 - val_accuracy: 0.4455\n",
      "Epoch 7/50\n",
      "50000/50000 [==============================] - 4s 85us/step - loss: 1.4039 - accuracy: 0.5082 - val_loss: 1.5406 - val_accuracy: 0.4578\n",
      "Epoch 8/50\n",
      "50000/50000 [==============================] - 4s 86us/step - loss: 1.3695 - accuracy: 0.5210 - val_loss: 1.5106 - val_accuracy: 0.4658\n",
      "Epoch 9/50\n",
      "50000/50000 [==============================] - 5s 92us/step - loss: 1.3371 - accuracy: 0.5320 - val_loss: 1.4872 - val_accuracy: 0.4724\n",
      "Epoch 10/50\n",
      "50000/50000 [==============================] - 5s 96us/step - loss: 1.3075 - accuracy: 0.5429 - val_loss: 1.4768 - val_accuracy: 0.4786\n",
      "Epoch 11/50\n",
      "50000/50000 [==============================] - 5s 91us/step - loss: 1.2793 - accuracy: 0.5548 - val_loss: 1.4813 - val_accuracy: 0.4793\n",
      "Epoch 12/50\n",
      "50000/50000 [==============================] - 5s 92us/step - loss: 1.2529 - accuracy: 0.5622 - val_loss: 1.4715 - val_accuracy: 0.4820\n",
      "Epoch 13/50\n",
      "50000/50000 [==============================] - 5s 103us/step - loss: 1.2263 - accuracy: 0.5736 - val_loss: 1.4674 - val_accuracy: 0.4891\n",
      "Epoch 14/50\n",
      "50000/50000 [==============================] - 5s 107us/step - loss: 1.2014 - accuracy: 0.5831 - val_loss: 1.4626 - val_accuracy: 0.4884\n",
      "Epoch 15/50\n",
      "50000/50000 [==============================] - 5s 99us/step - loss: 1.1779 - accuracy: 0.5922 - val_loss: 1.4558 - val_accuracy: 0.4871\n",
      "Epoch 16/50\n",
      "50000/50000 [==============================] - 5s 93us/step - loss: 1.1546 - accuracy: 0.6000 - val_loss: 1.4648 - val_accuracy: 0.4899\n",
      "Epoch 17/50\n",
      "50000/50000 [==============================] - 5s 93us/step - loss: 1.1316 - accuracy: 0.6087 - val_loss: 1.4518 - val_accuracy: 0.4945\n",
      "Epoch 18/50\n",
      "50000/50000 [==============================] - 5s 94us/step - loss: 1.1095 - accuracy: 0.6165 - val_loss: 1.4517 - val_accuracy: 0.4905\n",
      "Epoch 19/50\n",
      "50000/50000 [==============================] - 5s 93us/step - loss: 1.0856 - accuracy: 0.6279 - val_loss: 1.4537 - val_accuracy: 0.4934\n",
      "Epoch 20/50\n",
      "50000/50000 [==============================] - 5s 92us/step - loss: 1.0647 - accuracy: 0.6350 - val_loss: 1.4659 - val_accuracy: 0.4888\n",
      "Epoch 21/50\n",
      "50000/50000 [==============================] - 5s 92us/step - loss: 1.0430 - accuracy: 0.6432 - val_loss: 1.4741 - val_accuracy: 0.4861\n",
      "Epoch 22/50\n",
      "50000/50000 [==============================] - 5s 95us/step - loss: 1.0222 - accuracy: 0.6531 - val_loss: 1.4459 - val_accuracy: 0.4997\n",
      "Epoch 23/50\n",
      "50000/50000 [==============================] - 5s 96us/step - loss: 0.9994 - accuracy: 0.6608 - val_loss: 1.4499 - val_accuracy: 0.4951\n",
      "Epoch 24/50\n",
      "50000/50000 [==============================] - 5s 95us/step - loss: 0.9805 - accuracy: 0.6668 - val_loss: 1.4601 - val_accuracy: 0.4950\n",
      "Epoch 25/50\n",
      "50000/50000 [==============================] - 5s 96us/step - loss: 0.9593 - accuracy: 0.6747 - val_loss: 1.4559 - val_accuracy: 0.4987\n",
      "Epoch 26/50\n",
      "50000/50000 [==============================] - 5s 95us/step - loss: 0.9398 - accuracy: 0.6823 - val_loss: 1.4702 - val_accuracy: 0.4955\n",
      "Epoch 27/50\n",
      "50000/50000 [==============================] - 5s 94us/step - loss: 0.9189 - accuracy: 0.6934 - val_loss: 1.4657 - val_accuracy: 0.4967\n",
      "Epoch 28/50\n",
      "50000/50000 [==============================] - 5s 95us/step - loss: 0.8990 - accuracy: 0.7003 - val_loss: 1.4746 - val_accuracy: 0.4987\n",
      "Epoch 29/50\n",
      "50000/50000 [==============================] - 5s 95us/step - loss: 0.8780 - accuracy: 0.7083 - val_loss: 1.4756 - val_accuracy: 0.4974\n",
      "Epoch 30/50\n",
      "50000/50000 [==============================] - 5s 96us/step - loss: 0.8584 - accuracy: 0.7146 - val_loss: 1.4925 - val_accuracy: 0.4957\n",
      "Epoch 31/50\n",
      "50000/50000 [==============================] - 5s 99us/step - loss: 0.8407 - accuracy: 0.7234 - val_loss: 1.4883 - val_accuracy: 0.4991\n",
      "Epoch 32/50\n",
      "50000/50000 [==============================] - 6s 121us/step - loss: 0.8200 - accuracy: 0.7301 - val_loss: 1.4961 - val_accuracy: 0.5000\n",
      "Epoch 33/50\n",
      "50000/50000 [==============================] - 6s 116us/step - loss: 0.8014 - accuracy: 0.7384 - val_loss: 1.4995 - val_accuracy: 0.4968\n",
      "Epoch 34/50\n",
      "50000/50000 [==============================] - 6s 113us/step - loss: 0.7827 - accuracy: 0.7452 - val_loss: 1.5078 - val_accuracy: 0.5029\n",
      "Epoch 35/50\n",
      "50000/50000 [==============================] - 5s 108us/step - loss: 0.7639 - accuracy: 0.7544 - val_loss: 1.5122 - val_accuracy: 0.4985\n",
      "Epoch 36/50\n",
      "50000/50000 [==============================] - 5s 109us/step - loss: 0.7449 - accuracy: 0.7594 - val_loss: 1.5330 - val_accuracy: 0.4948\n",
      "Epoch 37/50\n",
      "50000/50000 [==============================] - 5s 108us/step - loss: 0.7247 - accuracy: 0.7695 - val_loss: 1.5481 - val_accuracy: 0.4840\n",
      "Epoch 38/50\n",
      "50000/50000 [==============================] - 5s 108us/step - loss: 0.7063 - accuracy: 0.7766 - val_loss: 1.5464 - val_accuracy: 0.4967\n",
      "Epoch 39/50\n",
      "50000/50000 [==============================] - 5s 100us/step - loss: 0.6886 - accuracy: 0.7829 - val_loss: 1.5651 - val_accuracy: 0.4873\n",
      "Epoch 40/50\n",
      "50000/50000 [==============================] - 5s 99us/step - loss: 0.6714 - accuracy: 0.7901 - val_loss: 1.5739 - val_accuracy: 0.4860\n",
      "Epoch 41/50\n",
      "50000/50000 [==============================] - 5s 101us/step - loss: 0.6512 - accuracy: 0.7987 - val_loss: 1.5745 - val_accuracy: 0.4923\n",
      "Epoch 42/50\n",
      "50000/50000 [==============================] - 5s 98us/step - loss: 0.6334 - accuracy: 0.8060 - val_loss: 1.5856 - val_accuracy: 0.4949\n",
      "Epoch 43/50\n",
      "50000/50000 [==============================] - 5s 100us/step - loss: 0.6169 - accuracy: 0.8116 - val_loss: 1.6041 - val_accuracy: 0.4904\n",
      "Epoch 44/50\n",
      "50000/50000 [==============================] - 5s 99us/step - loss: 0.5977 - accuracy: 0.8196 - val_loss: 1.6138 - val_accuracy: 0.4932\n",
      "Epoch 45/50\n",
      "50000/50000 [==============================] - 5s 100us/step - loss: 0.5797 - accuracy: 0.8280 - val_loss: 1.6231 - val_accuracy: 0.4883\n",
      "Epoch 46/50\n"
     ]
    },
    {
     "name": "stdout",
     "output_type": "stream",
     "text": [
      "50000/50000 [==============================] - 5s 98us/step - loss: 0.5633 - accuracy: 0.8348 - val_loss: 1.6315 - val_accuracy: 0.4882\n",
      "Epoch 47/50\n",
      "50000/50000 [==============================] - 5s 99us/step - loss: 0.5474 - accuracy: 0.8404 - val_loss: 1.6570 - val_accuracy: 0.4873\n",
      "Epoch 48/50\n",
      "50000/50000 [==============================] - 5s 101us/step - loss: 0.5299 - accuracy: 0.8468 - val_loss: 1.6576 - val_accuracy: 0.4844\n",
      "Epoch 49/50\n",
      "50000/50000 [==============================] - 5s 100us/step - loss: 0.5143 - accuracy: 0.8533 - val_loss: 1.6664 - val_accuracy: 0.4857\n",
      "Epoch 50/50\n",
      "50000/50000 [==============================] - 5s 100us/step - loss: 0.4969 - accuracy: 0.8594 - val_loss: 1.7064 - val_accuracy: 0.4835\n",
      "10000/10000 [==============================] - 1s 82us/step\n"
     ]
    }
   ],
   "source": [
    "# 載入 Callbacks\n",
    "\"\"\"Code Here\n",
    "設定 callbacks: model checkpoint\n",
    "\"\"\"\n",
    "from keras.callbacks import ModelCheckpoint\n",
    "\n",
    "model_ckpt = ModelCheckpoint(filepath=\"./tmp.h5\", \n",
    "                             monitor=\"val_loss\", \n",
    "                             save_best_only=True)\n",
    "\n",
    "results = {}\n",
    "\"\"\"Code Here\n",
    "撰寫你的訓練流程並將結果用 dictionary 紀錄\n",
    "\"\"\"\n",
    "model = build_mlp(input_shape=x_train.shape[1:])\n",
    "model.summary()\n",
    "optimizer = keras.optimizers.SGD(lr=LEARNING_RATE, nesterov=True, momentum=MOMENTUM)\n",
    "model.compile(loss=\"categorical_crossentropy\", metrics=[\"accuracy\"], optimizer=optimizer)\n",
    "\n",
    "model.fit(x_train, y_train, \n",
    "          epochs=EPOCHS, \n",
    "          batch_size=BATCH_SIZE, \n",
    "          validation_data=(x_test, y_test), \n",
    "          shuffle=True,\n",
    "          callbacks=[model_ckpt]\n",
    "         )\n",
    "\n",
    "# Collect results\n",
    "train_loss = model.history.history[\"loss\"]\n",
    "valid_loss = model.history.history[\"val_loss\"]\n",
    "train_acc = model.history.history[\"accuracy\"]\n",
    "valid_acc = model.history.history[\"val_accuracy\"]\n",
    "\n",
    "# Load back\n",
    "model = keras.models.load_model(\"./tmp.h5\")\n",
    "loss_loadback, acc_loadback = model.evaluate(x_test, y_test)"
   ]
  },
  {
   "cell_type": "code",
   "execution_count": 10,
   "metadata": {
    "scrolled": true
   },
   "outputs": [
    {
     "data": {
      "image/png": "[encoded data removed]",
      "text/plain": [
       "<Figure size 432x288 with 1 Axes>"
      ]
     },
     "metadata": {
      "needs_background": "light"
     },
     "output_type": "display_data"
    },
    {
     "data": {
      "image/png": "[encoded data removed]",
      "text/plain": [
       "<Figure size 432x288 with 1 Axes>"
      ]
     },
     "metadata": {
      "needs_background": "light"
     },
     "output_type": "display_data"
    }
   ],
   "source": [
    "import matplotlib.pyplot as plt\n",
    "%matplotlib inline\n",
    "\n",
    "plt.plot(range(len(train_loss)), train_loss, label=\"train loss\")\n",
    "plt.plot(range(len(valid_loss)), valid_loss, label=\"valid loss\")\n",
    "plt.hlines(y=loss_loadback, xmin=0, xmax=len(train_loss), colors='r', linestyles='--')\n",
    "plt.legend()\n",
    "plt.title(\"Loss\")\n",
    "plt.show()\n",
    "\n",
    "plt.plot(range(len(train_acc)), train_acc, label=\"train accuracy\")\n",
    "plt.plot(range(len(valid_acc)), valid_acc, label=\"valid accuracy\")\n",
    "plt.hlines(y=acc_loadback, xmin=0, xmax=len(train_loss), colors='r', linestyles='--')\n",
    "plt.legend()\n",
    "plt.title(\"Accuracy\")\n",
    "plt.show()"
   ]
  },
  {
   "cell_type": "code",
   "execution_count": 12,
   "metadata": {},
   "outputs": [
    {
     "name": "stdout",
     "output_type": "stream",
     "text": [
      "Model: \"model_4\"\n",
      "_________________________________________________________________\n",
      "Layer (type)                 Output Shape              Param #   \n",
      "=================================================================\n",
      "input_4 (InputLayer)         (None, 3072)              0         \n",
      "_________________________________________________________________\n",
      "hidden_layer1 (Dense)        (None, 512)               1573376   \n",
      "_________________________________________________________________\n",
      "batch_normalization_10 (Batc (None, 512)               2048      \n",
      "_________________________________________________________________\n",
      "hidden_layer2 (Dense)        (None, 256)               131328    \n",
      "_________________________________________________________________\n",
      "batch_normalization_11 (Batc (None, 256)               1024      \n",
      "_________________________________________________________________\n",
      "hidden_layer3 (Dense)        (None, 128)               32896     \n",
      "_________________________________________________________________\n",
      "batch_normalization_12 (Batc (None, 128)               512       \n",
      "_________________________________________________________________\n",
      "output (Dense)               (None, 10)                1290      \n",
      "=================================================================\n",
      "Total params: 1,742,474\n",
      "Trainable params: 1,740,682\n",
      "Non-trainable params: 1,792\n",
      "_________________________________________________________________\n",
      "Train on 50000 samples, validate on 10000 samples\n",
      "Epoch 1/50\n",
      "50000/50000 [==============================] - 5s 94us/step - loss: 2.2097 - accuracy: 0.2748 - val_loss: 2.1146 - val_accuracy: 0.2502\n",
      "Epoch 2/50\n",
      "50000/50000 [==============================] - 4s 84us/step - loss: 1.7325 - accuracy: 0.3969 - val_loss: 1.9577 - val_accuracy: 0.3170\n",
      "Epoch 3/50\n",
      "50000/50000 [==============================] - 4s 85us/step - loss: 1.6094 - accuracy: 0.4402 - val_loss: 1.8259 - val_accuracy: 0.3770\n",
      "Epoch 4/50\n",
      "50000/50000 [==============================] - 4s 86us/step - loss: 1.5395 - accuracy: 0.4649 - val_loss: 1.7137 - val_accuracy: 0.4067\n",
      "Epoch 5/50\n",
      "50000/50000 [==============================] - 4s 86us/step - loss: 1.4862 - accuracy: 0.4851 - val_loss: 1.6442 - val_accuracy: 0.4262\n",
      "Epoch 6/50\n",
      "50000/50000 [==============================] - 4s 87us/step - loss: 1.4415 - accuracy: 0.4995 - val_loss: 1.5817 - val_accuracy: 0.4432\n",
      "Epoch 7/50\n",
      "50000/50000 [==============================] - 4s 89us/step - loss: 1.4024 - accuracy: 0.5149 - val_loss: 1.5495 - val_accuracy: 0.4555\n",
      "Epoch 8/50\n",
      "50000/50000 [==============================] - 5s 95us/step - loss: 1.3698 - accuracy: 0.5268 - val_loss: 1.5234 - val_accuracy: 0.4619\n",
      "Epoch 9/50\n",
      "50000/50000 [==============================] - 5s 95us/step - loss: 1.3356 - accuracy: 0.5380 - val_loss: 1.5051 - val_accuracy: 0.4736\n",
      "Epoch 10/50\n",
      "50000/50000 [==============================] - 5s 97us/step - loss: 1.3051 - accuracy: 0.5484 - val_loss: 1.4881 - val_accuracy: 0.4774\n",
      "Epoch 11/50\n",
      "50000/50000 [==============================] - 5s 96us/step - loss: 1.2785 - accuracy: 0.5584 - val_loss: 1.4794 - val_accuracy: 0.4788\n",
      "Epoch 12/50\n",
      "50000/50000 [==============================] - 5s 95us/step - loss: 1.2528 - accuracy: 0.5666 - val_loss: 1.4752 - val_accuracy: 0.4837\n",
      "Epoch 13/50\n",
      "50000/50000 [==============================] - 5s 96us/step - loss: 1.2259 - accuracy: 0.5797 - val_loss: 1.4641 - val_accuracy: 0.4864\n",
      "Epoch 14/50\n",
      "50000/50000 [==============================] - 5s 96us/step - loss: 1.2022 - accuracy: 0.5858 - val_loss: 1.4674 - val_accuracy: 0.4873\n",
      "Epoch 15/50\n",
      "50000/50000 [==============================] - 5s 97us/step - loss: 1.1784 - accuracy: 0.5958 - val_loss: 1.4669 - val_accuracy: 0.4863\n",
      "Epoch 16/50\n",
      "50000/50000 [==============================] - 5s 96us/step - loss: 1.1554 - accuracy: 0.6044 - val_loss: 1.4611 - val_accuracy: 0.4917\n",
      "Epoch 17/50\n",
      "50000/50000 [==============================] - 5s 97us/step - loss: 1.1306 - accuracy: 0.6127 - val_loss: 1.4551 - val_accuracy: 0.4894\n",
      "Epoch 18/50\n",
      "50000/50000 [==============================] - 5s 97us/step - loss: 1.1079 - accuracy: 0.6218 - val_loss: 1.4667 - val_accuracy: 0.4925\n",
      "Epoch 19/50\n",
      "50000/50000 [==============================] - 5s 99us/step - loss: 1.0863 - accuracy: 0.6302 - val_loss: 1.4478 - val_accuracy: 0.4964\n",
      "Epoch 20/50\n",
      "50000/50000 [==============================] - 5s 99us/step - loss: 1.0655 - accuracy: 0.6355 - val_loss: 1.4601 - val_accuracy: 0.4926\n",
      "Epoch 21/50\n",
      "50000/50000 [==============================] - 5s 97us/step - loss: 1.0446 - accuracy: 0.6452 - val_loss: 1.4543 - val_accuracy: 0.4983\n",
      "Epoch 22/50\n",
      "50000/50000 [==============================] - 5s 100us/step - loss: 1.0210 - accuracy: 0.6556 - val_loss: 1.4563 - val_accuracy: 0.4942\n",
      "Epoch 23/50\n",
      "50000/50000 [==============================] - 5s 99us/step - loss: 1.0004 - accuracy: 0.6624 - val_loss: 1.4520 - val_accuracy: 0.4957\n",
      "Epoch 24/50\n",
      "50000/50000 [==============================] - 5s 99us/step - loss: 0.9822 - accuracy: 0.6681 - val_loss: 1.4529 - val_accuracy: 0.5003\n",
      "Epoch 25/50\n",
      "50000/50000 [==============================] - 5s 100us/step - loss: 0.9594 - accuracy: 0.6775 - val_loss: 1.4698 - val_accuracy: 0.4956\n",
      "Epoch 26/50\n",
      "50000/50000 [==============================] - 5s 100us/step - loss: 0.9408 - accuracy: 0.6844 - val_loss: 1.4613 - val_accuracy: 0.4974\n",
      "Epoch 27/50\n",
      "50000/50000 [==============================] - 5s 101us/step - loss: 0.9195 - accuracy: 0.6914 - val_loss: 1.4623 - val_accuracy: 0.5006\n",
      "Epoch 28/50\n",
      "50000/50000 [==============================] - 5s 100us/step - loss: 0.8988 - accuracy: 0.6994 - val_loss: 1.4756 - val_accuracy: 0.4917\n",
      "Epoch 29/50\n",
      "50000/50000 [==============================] - 5s 100us/step - loss: 0.8793 - accuracy: 0.7095 - val_loss: 1.4724 - val_accuracy: 0.4997\n",
      "Epoch 30/50\n",
      "50000/50000 [==============================] - 5s 100us/step - loss: 0.8591 - accuracy: 0.7174 - val_loss: 1.4865 - val_accuracy: 0.4956\n",
      "Epoch 31/50\n",
      "50000/50000 [==============================] - 5s 104us/step - loss: 0.8403 - accuracy: 0.7235 - val_loss: 1.4773 - val_accuracy: 0.5014\n",
      "Epoch 32/50\n",
      "50000/50000 [==============================] - 5s 100us/step - loss: 0.8209 - accuracy: 0.7314 - val_loss: 1.5079 - val_accuracy: 0.4915\n",
      "Epoch 33/50\n",
      "50000/50000 [==============================] - 5s 101us/step - loss: 0.7999 - accuracy: 0.7414 - val_loss: 1.5032 - val_accuracy: 0.4971\n",
      "Epoch 34/50\n",
      "50000/50000 [==============================] - 5s 102us/step - loss: 0.7817 - accuracy: 0.7466 - val_loss: 1.5100 - val_accuracy: 0.5012\n",
      "Epoch 35/50\n",
      "50000/50000 [==============================] - 5s 102us/step - loss: 0.7619 - accuracy: 0.7553 - val_loss: 1.5132 - val_accuracy: 0.4961\n",
      "Epoch 36/50\n",
      "50000/50000 [==============================] - 5s 100us/step - loss: 0.7434 - accuracy: 0.7630 - val_loss: 1.5222 - val_accuracy: 0.4983\n",
      "Epoch 37/50\n",
      "50000/50000 [==============================] - 5s 101us/step - loss: 0.7252 - accuracy: 0.7724 - val_loss: 1.5379 - val_accuracy: 0.4982\n",
      "Epoch 38/50\n",
      "50000/50000 [==============================] - 5s 103us/step - loss: 0.7053 - accuracy: 0.7802 - val_loss: 1.5458 - val_accuracy: 0.4937\n",
      "Epoch 39/50\n",
      "50000/50000 [==============================] - 6s 112us/step - loss: 0.6881 - accuracy: 0.7852 - val_loss: 1.5624 - val_accuracy: 0.4904\n",
      "Epoch 40/50\n",
      "50000/50000 [==============================] - 5s 104us/step - loss: 0.6684 - accuracy: 0.7937 - val_loss: 1.5503 - val_accuracy: 0.4900\n",
      "Epoch 41/50\n",
      "50000/50000 [==============================] - 5s 103us/step - loss: 0.6505 - accuracy: 0.8011 - val_loss: 1.5755 - val_accuracy: 0.4930\n",
      "Epoch 42/50\n",
      "50000/50000 [==============================] - 5s 106us/step - loss: 0.6338 - accuracy: 0.8076 - val_loss: 1.5807 - val_accuracy: 0.4943\n",
      "Epoch 43/50\n",
      "50000/50000 [==============================] - 5s 106us/step - loss: 0.6157 - accuracy: 0.8130 - val_loss: 1.6015 - val_accuracy: 0.4879\n",
      "Epoch 44/50\n",
      "50000/50000 [==============================] - 5s 104us/step - loss: 0.5971 - accuracy: 0.8210 - val_loss: 1.5997 - val_accuracy: 0.4902\n",
      "Epoch 45/50\n",
      "50000/50000 [==============================] - 5s 104us/step - loss: 0.5799 - accuracy: 0.8290 - val_loss: 1.6120 - val_accuracy: 0.4938\n",
      "Epoch 46/50\n"
     ]
    },
    {
     "name": "stdout",
     "output_type": "stream",
     "text": [
      "50000/50000 [==============================] - 5s 103us/step - loss: 0.5633 - accuracy: 0.8349 - val_loss: 1.6401 - val_accuracy: 0.4895\n",
      "Epoch 47/50\n",
      "50000/50000 [==============================] - 5s 105us/step - loss: 0.5448 - accuracy: 0.8422 - val_loss: 1.6567 - val_accuracy: 0.4893\n",
      "Epoch 48/50\n",
      "50000/50000 [==============================] - 5s 104us/step - loss: 0.5293 - accuracy: 0.8478 - val_loss: 1.6556 - val_accuracy: 0.4906\n",
      "Epoch 49/50\n",
      "50000/50000 [==============================] - 5s 104us/step - loss: 0.5116 - accuracy: 0.8555 - val_loss: 1.7021 - val_accuracy: 0.4851\n",
      "Epoch 50/50\n",
      "50000/50000 [==============================] - 5s 106us/step - loss: 0.4973 - accuracy: 0.8620 - val_loss: 1.7024 - val_accuracy: 0.4871\n"
     ]
    }
   ],
   "source": [
    "# 載入 Callbacks\n",
    "\"\"\"Code Here\n",
    "設定 callbacks: model checkpoint\n",
    "\"\"\"\n",
    "from keras.callbacks import ModelCheckpoint\n",
    "\n",
    "model_ckpt = ModelCheckpoint(filepath=\"./tmp.h5\", \n",
    "                             monitor=\"val_loss\", \n",
    "                             save_best_only=False)\n",
    "\n",
    "results = {}\n",
    "\"\"\"Code Here\n",
    "撰寫你的訓練流程並將結果用 dictionary 紀錄\n",
    "\"\"\"\n",
    "model = build_mlp(input_shape=x_train.shape[1:])\n",
    "model.summary()\n",
    "optimizer = keras.optimizers.SGD(lr=LEARNING_RATE, nesterov=True, momentum=MOMENTUM)\n",
    "model.compile(loss=\"categorical_crossentropy\", metrics=[\"accuracy\"], optimizer=optimizer)\n",
    "\n",
    "model.fit(x_train, y_train, \n",
    "          epochs=EPOCHS, \n",
    "          batch_size=BATCH_SIZE, \n",
    "          validation_data=(x_test, y_test), \n",
    "          shuffle=True,\n",
    "          callbacks=[model_ckpt]\n",
    "         )\n",
    "\n",
    "# Collect results\n",
    "train_loss = model.history.history[\"loss\"]\n",
    "valid_loss = model.history.history[\"val_loss\"]\n",
    "train_acc = model.history.history[\"accuracy\"]\n",
    "valid_acc = model.history.history[\"val_accuracy\"]\n"
   ]
  },
  {
   "cell_type": "code",
   "execution_count": 13,
   "metadata": {},
   "outputs": [
    {
     "data": {
      "image/png": "[encoded data removed]",
      "text/plain": [
       "<Figure size 432x288 with 1 Axes>"
      ]
     },
     "metadata": {
      "needs_background": "light"
     },
     "output_type": "display_data"
    },
    {
     "data": {
      "image/png": "[encoded data removed]",
      "text/plain": [
       "<Figure size 432x288 with 1 Axes>"
      ]
     },
     "metadata": {
      "needs_background": "light"
     },
     "output_type": "display_data"
    }
   ],
   "source": [
    "import matplotlib.pyplot as plt\n",
    "%matplotlib inline\n",
    "\n",
    "plt.plot(range(len(train_loss)), train_loss, label=\"train loss\")\n",
    "plt.plot(range(len(valid_loss)), valid_loss, label=\"valid loss\")\n",
    "plt.hlines(y=loss_loadback, xmin=0, xmax=len(train_loss), colors='r', linestyles='--')\n",
    "plt.legend()\n",
    "plt.title(\"Loss\")\n",
    "plt.show()\n",
    "\n",
    "plt.plot(range(len(train_acc)), train_acc, label=\"train accuracy\")\n",
    "plt.plot(range(len(valid_acc)), valid_acc, label=\"valid accuracy\")\n",
    "plt.hlines(y=acc_loadback, xmin=0, xmax=len(train_loss), colors='r', linestyles='--')\n",
    "plt.legend()\n",
    "plt.title(\"Accuracy\")\n",
    "plt.show()"
   ]
  },
  {
   "cell_type": "code",
   "execution_count": null,
   "metadata": {},
   "outputs": [],
   "source": []
  }
 ],
 "metadata": {
  "kernelspec": {
   "display_name": "Python 3",
   "language": "python",
   "name": "python3"
  },
  "language_info": {
   "codemirror_mode": {
    "name": "ipython",
    "version": 3
   },
   "file_extension": ".py",
   "mimetype": "text/x-python",
   "name": "python",
   "nbconvert_exporter": "python",
   "pygments_lexer": "ipython3",
   "version": "3.7.3"
  }
 },
 "nbformat": 4,
 "nbformat_minor": 2
}
