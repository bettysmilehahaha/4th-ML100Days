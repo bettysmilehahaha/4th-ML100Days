{
 "cells": [
  {
   "cell_type": "markdown",
   "metadata": {},
   "source": [
    "## Work\n",
    "1. 試比較有 BN 在 Batch_size = 2, 16, 32, 128, 256 下的差異\n",
    "2. 請嘗試將 BN 放在 Activation 之前，並比較訓練結果\n",
    "3. 請於 BN 放在 Input Layer 後，並比較結果"
   ]
  },
  {
   "cell_type": "code",
   "execution_count": 6,
   "metadata": {},
   "outputs": [
    {
     "name": "stderr",
     "output_type": "stream",
     "text": [
      "Using TensorFlow backend.\n"
     ]
    }
   ],
   "source": [
    "import os\n",
    "import keras\n",
    "import itertools\n",
    "# Disable GPU\n",
    "os.environ[\"CUDA_VISIBLE_DEVICES\"] = \"\""
   ]
  },
  {
   "cell_type": "code",
   "execution_count": 7,
   "metadata": {},
   "outputs": [],
   "source": [
    "train, test = keras.datasets.cifar10.load_data()"
   ]
  },
  {
   "cell_type": "code",
   "execution_count": 8,
   "metadata": {},
   "outputs": [],
   "source": [
    "## 資料前處理\n",
    "def preproc_x(x, flatten=True):\n",
    "    x = x / 255.\n",
    "    if flatten:\n",
    "        x = x.reshape((len(x), -1))\n",
    "    return x\n",
    "\n",
    "def preproc_y(y, num_classes=10):\n",
    "    if y.shape[-1] == 1:\n",
    "        y = keras.utils.to_categorical(y, num_classes)\n",
    "    return y    "
   ]
  },
  {
   "cell_type": "code",
   "execution_count": 9,
   "metadata": {},
   "outputs": [],
   "source": [
    "x_train, y_train = train\n",
    "x_test, y_test = test\n",
    "\n",
    "# Preproc the inputs\n",
    "x_train = preproc_x(x_train)\n",
    "x_test = preproc_x(x_test)\n",
    "\n",
    "# Preprc the outputs\n",
    "y_train = preproc_y(y_train)\n",
    "y_test = preproc_y(y_test)"
   ]
  },
  {
   "cell_type": "code",
   "execution_count": 10,
   "metadata": {},
   "outputs": [],
   "source": [
    "from keras.layers import BatchNormalization, Activation\n",
    "\n",
    "def build_mlp(input_shape, output_units=10, num_neurons=[512, 256, 128], pre_activate=False):\n",
    "    input_layer = keras.layers.Input(input_shape)\n",
    "    \n",
    "    for i, n_units in enumerate(num_neurons):\n",
    "        if i == 0:\n",
    "            x = keras.layers.Dense(units=n_units, \n",
    "                                   name=\"hidden_layer\"+str(i+1))(input_layer)\n",
    "            if pre_activate:\n",
    "                x = BatchNormalization()(x)\n",
    "                x = Activation(\"relu\")(x)\n",
    "            else:\n",
    "                x = Activation(\"relu\")(x)\n",
    "                x = BatchNormalization()(x)\n",
    "        else:\n",
    "            x = keras.layers.Dense(units=n_units, \n",
    "                                   name=\"hidden_layer\"+str(i+1))(x)\n",
    "            if pre_activate:\n",
    "                x = BatchNormalization()(x)\n",
    "                x = Activation(\"relu\")(x)\n",
    "            else:\n",
    "                x = Activation(\"relu\")(x)\n",
    "                x = BatchNormalization()(x)\n",
    "                \n",
    "    \n",
    "    out = keras.layers.Dense(units=output_units, activation=\"softmax\", name=\"output\")(x)\n",
    "    \n",
    "    model = keras.models.Model(inputs=[input_layer], outputs=[out])\n",
    "    return model"
   ]
  },
  {
   "cell_type": "code",
   "execution_count": 11,
   "metadata": {},
   "outputs": [],
   "source": [
    "## 超參數設定\n",
    "LEARNING_RATE = 1e-3\n",
    "EPOCHS = 50\n",
    "BATCH_SIZE = [2, 16, 32, 128, 256]\n",
    "PRE_ACTIVATE = [True, False]\n",
    "MOMENTUM = 0.95"
   ]
  },
  {
   "cell_type": "markdown",
   "metadata": {},
   "source": [
    "##### batch size=3"
   ]
  },
  {
   "cell_type": "code",
   "execution_count": 13,
   "metadata": {
    "scrolled": true
   },
   "outputs": [
    {
     "name": "stdout",
     "output_type": "stream",
     "text": [
      "Model: \"model_1\"\n",
      "_________________________________________________________________\n",
      "Layer (type)                 Output Shape              Param #   \n",
      "=================================================================\n",
      "input_1 (InputLayer)         (None, 3072)              0         \n",
      "_________________________________________________________________\n",
      "hidden_layer1 (Dense)        (None, 512)               1573376   \n",
      "_________________________________________________________________\n",
      "batch_normalization_1 (Batch (None, 512)               2048      \n",
      "_________________________________________________________________\n",
      "activation_1 (Activation)    (None, 512)               0         \n",
      "_________________________________________________________________\n",
      "hidden_layer2 (Dense)        (None, 256)               131328    \n",
      "_________________________________________________________________\n",
      "batch_normalization_2 (Batch (None, 256)               1024      \n",
      "_________________________________________________________________\n",
      "activation_2 (Activation)    (None, 256)               0         \n",
      "_________________________________________________________________\n",
      "hidden_layer3 (Dense)        (None, 128)               32896     \n",
      "_________________________________________________________________\n",
      "batch_normalization_3 (Batch (None, 128)               512       \n",
      "_________________________________________________________________\n",
      "activation_3 (Activation)    (None, 128)               0         \n",
      "_________________________________________________________________\n",
      "output (Dense)               (None, 10)                1290      \n",
      "=================================================================\n",
      "Total params: 1,742,474\n",
      "Trainable params: 1,740,682\n",
      "Non-trainable params: 1,792\n",
      "_________________________________________________________________\n",
      "Train on 50000 samples, validate on 10000 samples\n",
      "Epoch 1/50\n",
      "50000/50000 [==============================] - 392s 8ms/step - loss: 2.1526 - accuracy: 0.2149 - val_loss: 1.9474 - val_accuracy: 0.3168\n",
      "Epoch 2/50\n",
      "50000/50000 [==============================] - 336s 7ms/step - loss: 2.0572 - accuracy: 0.2547 - val_loss: 1.9172 - val_accuracy: 0.3301\n",
      "Epoch 3/50\n",
      "50000/50000 [==============================] - 281s 6ms/step - loss: 2.0197 - accuracy: 0.2734 - val_loss: 1.8756 - val_accuracy: 0.3628\n",
      "Epoch 4/50\n",
      "50000/50000 [==============================] - 277s 6ms/step - loss: 2.0080 - accuracy: 0.2779 - val_loss: 1.8853 - val_accuracy: 0.3570\n",
      "Epoch 5/50\n",
      "50000/50000 [==============================] - 274s 5ms/step - loss: 1.9968 - accuracy: 0.2846 - val_loss: 1.9143 - val_accuracy: 0.3380\n",
      "Epoch 6/50\n",
      "50000/50000 [==============================] - 276s 6ms/step - loss: 1.9785 - accuracy: 0.2915 - val_loss: 1.8485 - val_accuracy: 0.3719\n",
      "Epoch 7/50\n",
      "50000/50000 [==============================] - 277s 6ms/step - loss: 1.9721 - accuracy: 0.2965 - val_loss: 1.8350 - val_accuracy: 0.3791\n",
      "Epoch 8/50\n",
      "50000/50000 [==============================] - 283s 6ms/step - loss: 1.9694 - accuracy: 0.2951 - val_loss: 1.8399 - val_accuracy: 0.3809\n",
      "Epoch 9/50\n",
      "50000/50000 [==============================] - 279s 6ms/step - loss: 1.9629 - accuracy: 0.2993 - val_loss: 1.8463 - val_accuracy: 0.3831\n",
      "Epoch 10/50\n",
      "50000/50000 [==============================] - 276s 6ms/step - loss: 1.9591 - accuracy: 0.3036 - val_loss: 1.8457 - val_accuracy: 0.3809\n",
      "Epoch 11/50\n",
      "50000/50000 [==============================] - 274s 5ms/step - loss: 1.9573 - accuracy: 0.3052 - val_loss: 1.8234 - val_accuracy: 0.3918\n",
      "Epoch 12/50\n",
      "50000/50000 [==============================] - 277s 6ms/step - loss: 1.9492 - accuracy: 0.3072 - val_loss: 1.8218 - val_accuracy: 0.4004\n",
      "Epoch 13/50\n",
      "50000/50000 [==============================] - 276s 6ms/step - loss: 1.9414 - accuracy: 0.3107 - val_loss: 1.8162 - val_accuracy: 0.3974\n",
      "Epoch 14/50\n",
      "50000/50000 [==============================] - 281s 6ms/step - loss: 1.9397 - accuracy: 0.3097 - val_loss: 1.8001 - val_accuracy: 0.3981\n",
      "Epoch 15/50\n",
      "50000/50000 [==============================] - 277s 6ms/step - loss: 1.9324 - accuracy: 0.3133 - val_loss: 1.8038 - val_accuracy: 0.4038\n",
      "Epoch 16/50\n",
      "50000/50000 [==============================] - 279s 6ms/step - loss: 1.9278 - accuracy: 0.3140 - val_loss: 1.7979 - val_accuracy: 0.3976\n",
      "Epoch 17/50\n",
      "50000/50000 [==============================] - 278s 6ms/step - loss: 1.9239 - accuracy: 0.3165 - val_loss: 1.7762 - val_accuracy: 0.4159\n",
      "Epoch 18/50\n",
      "50000/50000 [==============================] - 278s 6ms/step - loss: 1.9202 - accuracy: 0.3200 - val_loss: 1.8035 - val_accuracy: 0.3994\n",
      "Epoch 19/50\n",
      "50000/50000 [==============================] - 277s 6ms/step - loss: 1.9201 - accuracy: 0.3201 - val_loss: 1.8019 - val_accuracy: 0.3902\n",
      "Epoch 20/50\n",
      "50000/50000 [==============================] - 275s 6ms/step - loss: 1.9154 - accuracy: 0.3223 - val_loss: 1.7856 - val_accuracy: 0.4028\n",
      "Epoch 21/50\n",
      "50000/50000 [==============================] - 272s 5ms/step - loss: 1.9217 - accuracy: 0.3169 - val_loss: 1.7834 - val_accuracy: 0.3965\n",
      "Epoch 22/50\n",
      "50000/50000 [==============================] - 259s 5ms/step - loss: 1.9174 - accuracy: 0.3208 - val_loss: 1.7766 - val_accuracy: 0.4181\n",
      "Epoch 23/50\n",
      "50000/50000 [==============================] - 259s 5ms/step - loss: 1.9102 - accuracy: 0.3254 - val_loss: 1.7621 - val_accuracy: 0.4182\n",
      "Epoch 24/50\n",
      "50000/50000 [==============================] - 253s 5ms/step - loss: 1.9134 - accuracy: 0.3225 - val_loss: 1.7805 - val_accuracy: 0.4140\n",
      "Epoch 25/50\n",
      "50000/50000 [==============================] - 251s 5ms/step - loss: 1.9102 - accuracy: 0.3278 - val_loss: 1.7661 - val_accuracy: 0.4180\n",
      "Epoch 26/50\n",
      "50000/50000 [==============================] - 267s 5ms/step - loss: 1.9133 - accuracy: 0.3227 - val_loss: 1.7649 - val_accuracy: 0.4136\n",
      "Epoch 27/50\n",
      "50000/50000 [==============================] - 282s 6ms/step - loss: 1.9014 - accuracy: 0.3280 - val_loss: 1.7522 - val_accuracy: 0.4162\n",
      "Epoch 28/50\n",
      "50000/50000 [==============================] - 380s 8ms/step - loss: 1.9029 - accuracy: 0.3273 - val_loss: 1.7677 - val_accuracy: 0.4021\n",
      "Epoch 29/50\n",
      "50000/50000 [==============================] - 356s 7ms/step - loss: 1.9028 - accuracy: 0.3282 - val_loss: 1.7643 - val_accuracy: 0.4139\n",
      "Epoch 30/50\n",
      "50000/50000 [==============================] - 347s 7ms/step - loss: 1.8995 - accuracy: 0.3300 - val_loss: 1.7739 - val_accuracy: 0.4145\n",
      "Epoch 31/50\n",
      "50000/50000 [==============================] - 383s 8ms/step - loss: 1.9007 - accuracy: 0.3274 - val_loss: 1.7658 - val_accuracy: 0.4129\n",
      "Epoch 32/50\n",
      "50000/50000 [==============================] - 374s 7ms/step - loss: 1.8975 - accuracy: 0.3309 - val_loss: 1.7555 - val_accuracy: 0.4293\n",
      "Epoch 33/50\n",
      "50000/50000 [==============================] - 258s 5ms/step - loss: 1.8961 - accuracy: 0.3309 - val_loss: 1.7584 - val_accuracy: 0.4103\n",
      "Epoch 34/50\n",
      "50000/50000 [==============================] - 277s 6ms/step - loss: 1.8907 - accuracy: 0.3322 - val_loss: 1.7683 - val_accuracy: 0.4122\n",
      "Epoch 35/50\n",
      "50000/50000 [==============================] - 277s 6ms/step - loss: 1.8927 - accuracy: 0.3311 - val_loss: 1.7416 - val_accuracy: 0.4308\n",
      "Epoch 36/50\n",
      "50000/50000 [==============================] - 277s 6ms/step - loss: 1.8915 - accuracy: 0.3312 - val_loss: 1.7558 - val_accuracy: 0.4202racy: 0.\n",
      "Epoch 37/50\n",
      "50000/50000 [==============================] - 277s 6ms/step - loss: 1.8895 - accuracy: 0.3332 - val_loss: 1.7644 - val_accuracy: 0.4098\n",
      "Epoch 38/50\n",
      "50000/50000 [==============================] - 279s 6ms/step - loss: 1.8890 - accuracy: 0.3354 - val_loss: 1.7352 - val_accuracy: 0.4243\n",
      "Epoch 39/50\n",
      "50000/50000 [==============================] - 281s 6ms/step - loss: 1.8903 - accuracy: 0.3360 - val_loss: 1.7553 - val_accuracy: 0.4093\n",
      "Epoch 40/50\n",
      "50000/50000 [==============================] - 283s 6ms/step - loss: 1.8849 - accuracy: 0.3343 - val_loss: 1.7442 - val_accuracy: 0.4092\n",
      "Epoch 41/50\n",
      "50000/50000 [==============================] - 295s 6ms/step - loss: 1.8892 - accuracy: 0.3330 - val_loss: 1.7466 - val_accuracy: 0.4156\n",
      "Epoch 42/50\n",
      "50000/50000 [==============================] - 275s 6ms/step - loss: 1.8858 - accuracy: 0.3332 - val_loss: 1.7423 - val_accuracy: 0.4255\n",
      "Epoch 43/50\n",
      "50000/50000 [==============================] - 274s 5ms/step - loss: 1.8836 - accuracy: 0.3376 - val_loss: 1.7606 - val_accuracy: 0.4196\n",
      "Epoch 44/50\n",
      "50000/50000 [==============================] - 276s 6ms/step - loss: 1.8877 - accuracy: 0.3341 - val_loss: 1.7470 - val_accuracy: 0.4258\n",
      "Epoch 45/50\n",
      "50000/50000 [==============================] - 278s 6ms/step - loss: 1.8818 - accuracy: 0.3393 - val_loss: 1.7461 - val_accuracy: 0.4268\n",
      "Epoch 46/50\n",
      "50000/50000 [==============================] - 278s 6ms/step - loss: 1.8779 - accuracy: 0.3382 - val_loss: 1.7505 - val_accuracy: 0.4266\n",
      "Epoch 47/50\n",
      "50000/50000 [==============================] - 276s 6ms/step - loss: 1.8812 - accuracy: 0.3390 - val_loss: 1.7478 - val_accuracy: 0.4097\n",
      "Epoch 48/50\n",
      "50000/50000 [==============================] - 275s 5ms/step - loss: 1.8773 - accuracy: 0.3410 - val_loss: 1.7631 - val_accuracy: 0.4265\n",
      "Epoch 49/50\n",
      "50000/50000 [==============================] - 276s 6ms/step - loss: 1.8756 - accuracy: 0.3402 - val_loss: 1.7646 - val_accuracy: 0.4032\n",
      "Epoch 50/50\n",
      "50000/50000 [==============================] - 275s 6ms/step - loss: 1.8718 - accuracy: 0.3403 - val_loss: 1.7555 - val_accuracy: 0.4228\n"
     ]
    }
   ],
   "source": [
    "model = build_mlp(input_shape=x_train.shape[1:], output_units=10, num_neurons=[512, 256, 128], pre_activate=True)\n",
    "model.summary()\n",
    "optimizer = keras.optimizers.SGD(lr=LEARNING_RATE, nesterov=True, momentum=MOMENTUM)\n",
    "model.compile(loss=\"categorical_crossentropy\", metrics=[\"accuracy\"], optimizer=optimizer)\n",
    "\n",
    "model.fit(x_train, y_train, \n",
    "          epochs=EPOCHS, \n",
    "          batch_size=3, \n",
    "          validation_data=(x_test, y_test), \n",
    "          shuffle=True)\n",
    "\n",
    "# Collect results\n",
    "train_loss = model.history.history[\"loss\"]\n",
    "valid_loss = model.history.history[\"val_loss\"]\n",
    "train_acc = model.history.history[\"accuracy\"]\n",
    "valid_acc = model.history.history[\"val_accuracy\"]"
   ]
  },
  {
   "cell_type": "code",
   "execution_count": 14,
   "metadata": {},
   "outputs": [
    {
     "data": {
      "image/png": "[encoded data removed]",
      "text/plain": [
       "<Figure size 432x288 with 1 Axes>"
      ]
     },
     "metadata": {
      "needs_background": "light"
     },
     "output_type": "display_data"
    },
    {
     "data": {
      "image/png": "[encoded data removed]",
      "text/plain": [
       "<Figure size 432x288 with 1 Axes>"
      ]
     },
     "metadata": {
      "needs_background": "light"
     },
     "output_type": "display_data"
    }
   ],
   "source": [
    "import matplotlib.pyplot as plt\n",
    "%matplotlib inline\n",
    "\n",
    "plt.plot(range(len(train_loss)), train_loss, label=\"train loss\")\n",
    "plt.plot(range(len(valid_loss)), valid_loss, label=\"valid loss\")\n",
    "plt.legend()\n",
    "plt.title(\"Loss\")\n",
    "plt.show()\n",
    "\n",
    "plt.plot(range(len(train_acc)), train_acc, label=\"train accuracy\")\n",
    "plt.plot(range(len(valid_acc)), valid_acc, label=\"valid accuracy\")\n",
    "plt.legend()\n",
    "plt.title(\"Accuracy\")\n",
    "plt.show()"
   ]
  },
  {
   "cell_type": "code",
   "execution_count": null,
   "metadata": {},
   "outputs": [],
   "source": []
  }
 ],
 "metadata": {
  "kernelspec": {
   "display_name": "Python 3",
   "language": "python",
   "name": "python3"
  },
  "language_info": {
   "codemirror_mode": {
    "name": "ipython",
    "version": 3
   },
   "file_extension": ".py",
   "mimetype": "text/x-python",
   "name": "python",
   "nbconvert_exporter": "python",
   "pygments_lexer": "ipython3",
   "version": "3.7.3"
  }
 },
 "nbformat": 4,
 "nbformat_minor": 2
}
