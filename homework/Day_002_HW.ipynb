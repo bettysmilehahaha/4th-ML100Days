{
 "cells": [
  {
   "cell_type": "markdown",
   "metadata": {},
   "source": [
    "## [作業目標]\n",
    "了解機器學習適合應用的領域與範疇。"
   ]
  },
  {
   "cell_type": "markdown",
   "metadata": {},
   "source": [
    "## [作業重點]\n",
    "透過瞭解機器學習的運作方式，找出非常適用機器學習應用的領域及其原因"
   ]
  },
  {
   "cell_type": "markdown",
   "metadata": {},
   "source": [
    "## 作業\n",
    "請找出一個你認為機器學習可以發光發熱的領域並闡述原因? \n",
    "\n",
    "    我認為語音辨識(Speech to text)的應用領域很值得探索。語音辨識早在1980年代就由美國麻省理工學院的實驗室發起研究，但苦於辨識率不高，一直沒辦法應用在商業用途。直到2012年，科學家用深度神經網路(Deep neural network, DNN)的計算方式，取代傳統高斯分配計算，語音辨識的辨識率才大幅提升至可以商轉應用的程度。\n",
    "    現在市面上的語音助理，如:siri,alexa，都受到大眾的喜愛，提升了許多人的生活品質。語音辨識除了在智慧家居發展外，智慧駕駛也很需要語音辨識，這樣人們在開車時，就能夠用語音的方式去控制GPS，還能打電話，傳訊息。所以我覺得語音辨識能夠帶給人們許多便利。\n",
    "    "
   ]
  },
  {
   "cell_type": "code",
   "execution_count": null,
   "metadata": {},
   "outputs": [],
   "source": []
  }
 ],
 "metadata": {
  "kernelspec": {
   "display_name": "Python 3",
   "language": "python",
   "name": "python3"
  },
  "language_info": {
   "codemirror_mode": {
    "name": "ipython",
    "version": 3
   },
   "file_extension": ".py",
   "mimetype": "text/x-python",
   "name": "python",
   "nbconvert_exporter": "python",
   "pygments_lexer": "ipython3",
   "version": "3.7.3"
  }
 },
 "nbformat": 4,
 "nbformat_minor": 2
}
