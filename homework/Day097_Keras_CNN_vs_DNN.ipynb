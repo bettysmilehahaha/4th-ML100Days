{
 "cells": [
  {
   "cell_type": "code",
   "execution_count": 12,
   "metadata": {},
   "outputs": [],
   "source": [
    "import keras\n",
    "from keras.datasets import cifar10\n",
    "from keras.preprocessing.image import ImageDataGenerator\n",
    "from keras.models import Sequential\n",
    "from keras.layers import Dense, Dropout, Activation, Flatten\n",
    "from keras.layers import Conv2D, MaxPooling2D\n",
    "from keras.optimizers import RMSprop, Adam\n",
    "import os"
   ]
  },
  {
   "cell_type": "code",
   "execution_count": 18,
   "metadata": {},
   "outputs": [
    {
     "name": "stdout",
     "output_type": "stream",
     "text": [
      "x_train shape: (50000, 32, 32, 3)\n",
      "50000 train samples\n",
      "10000 test samples\n"
     ]
    }
   ],
   "source": [
    "batch_size = 128 # batch 的大小，如果出現 OOM error，請降低這個值\n",
    "num_classes = 10 # 類別的數量，Cifar 10 共有 10 個類別\n",
    "epochs = 10 # 訓練的 epochs 數量\n",
    "\n",
    "# 讀取資料並檢視\n",
    "(x_train, y_train), (x_test, y_test) = cifar10.load_data()\n",
    "print('x_train shape:', x_train.shape)\n",
    "print(x_train.shape[0], 'train samples')\n",
    "print(x_test.shape[0], 'test samples')\n",
    "\n",
    "# 對 label 進行 one-hot encoding (y_trian 原本是純數字)\n",
    "y_train = keras.utils.to_categorical(y_train, num_classes)\n",
    "y_test = keras.utils.to_categorical(y_test, num_classes)"
   ]
  },
  {
   "cell_type": "markdown",
   "metadata": {},
   "source": [
    "## 首先我們使用一般的 DNN (MLP) 來訓練\n",
    "由於 DNN 只能輸入一維的資料，我們要先將影像進行攤平，若 (50000, 32, 32, 3) 的影像，攤平後會變成 (50000, 32*32*3) = (50000, 3072)"
   ]
  },
  {
   "cell_type": "code",
   "execution_count": 19,
   "metadata": {},
   "outputs": [
    {
     "name": "stdout",
     "output_type": "stream",
     "text": [
      "50000 train samples\n",
      "10000 test samples\n"
     ]
    }
   ],
   "source": [
    "# 將資料攤平成一維資料\n",
    "x_train = x_train.reshape(50000, 3072) \n",
    "x_test = x_test.reshape(10000, 3072)\n",
    "\n",
    "# 將資料變為 float32 並標準化\n",
    "x_train = x_train.astype('float32')\n",
    "x_test = x_test.astype('float32')\n",
    "x_train /= 255\n",
    "x_test /= 255\n",
    "print(x_train.shape[0], 'train samples')\n",
    "print(x_test.shape[0], 'test samples')"
   ]
  },
  {
   "cell_type": "code",
   "execution_count": 10,
   "metadata": {},
   "outputs": [
    {
     "name": "stdout",
     "output_type": "stream",
     "text": [
      "Model: \"sequential_5\"\n",
      "_________________________________________________________________\n",
      "Layer (type)                 Output Shape              Param #   \n",
      "=================================================================\n",
      "dense_14 (Dense)             (None, 512)               1573376   \n",
      "_________________________________________________________________\n",
      "dropout_10 (Dropout)         (None, 512)               0         \n",
      "_________________________________________________________________\n",
      "dense_15 (Dense)             (None, 512)               262656    \n",
      "_________________________________________________________________\n",
      "dropout_11 (Dropout)         (None, 512)               0         \n",
      "_________________________________________________________________\n",
      "dense_16 (Dense)             (None, 10)                5130      \n",
      "=================================================================\n",
      "Total params: 1,841,162\n",
      "Trainable params: 1,841,162\n",
      "Non-trainable params: 0\n",
      "_________________________________________________________________\n",
      "Train on 50000 samples, validate on 10000 samples\n",
      "Epoch 1/20\n",
      "50000/50000 [==============================] - 10s 191us/step - loss: 2.1301 - accuracy: 0.2493 - val_loss: 1.9309 - val_accuracy: 0.2905\n",
      "Epoch 2/20\n",
      "50000/50000 [==============================] - 9s 187us/step - loss: 1.8560 - accuracy: 0.3274 - val_loss: 1.7905 - val_accuracy: 0.3472\n",
      "Epoch 3/20\n",
      "50000/50000 [==============================] - 10s 198us/step - loss: 1.7821 - accuracy: 0.3584 - val_loss: 1.7836 - val_accuracy: 0.3870\n",
      "Epoch 4/20\n",
      "50000/50000 [==============================] - 9s 181us/step - loss: 1.7286 - accuracy: 0.3792 - val_loss: 1.6709 - val_accuracy: 0.4081\n",
      "Epoch 5/20\n",
      "50000/50000 [==============================] - 9s 185us/step - loss: 1.6901 - accuracy: 0.3961 - val_loss: 1.6440 - val_accuracy: 0.4168\n",
      "Epoch 6/20\n",
      "50000/50000 [==============================] - 9s 185us/step - loss: 1.6629 - accuracy: 0.4031 - val_loss: 1.6185 - val_accuracy: 0.4248\n",
      "Epoch 7/20\n",
      "50000/50000 [==============================] - 9s 187us/step - loss: 1.6416 - accuracy: 0.4102 - val_loss: 1.6235 - val_accuracy: 0.4275\n",
      "Epoch 8/20\n",
      "50000/50000 [==============================] - 10s 192us/step - loss: 1.6215 - accuracy: 0.4202 - val_loss: 1.5906 - val_accuracy: 0.4480\n",
      "Epoch 9/20\n",
      "50000/50000 [==============================] - 11s 216us/step - loss: 1.6076 - accuracy: 0.4248 - val_loss: 1.6218 - val_accuracy: 0.4231\n",
      "Epoch 10/20\n",
      "50000/50000 [==============================] - 11s 225us/step - loss: 1.5969 - accuracy: 0.4283 - val_loss: 1.5513 - val_accuracy: 0.4661\n",
      "Epoch 11/20\n",
      "50000/50000 [==============================] - 11s 216us/step - loss: 1.5784 - accuracy: 0.4350 - val_loss: 1.5472 - val_accuracy: 0.4472\n",
      "Epoch 12/20\n",
      "50000/50000 [==============================] - 11s 212us/step - loss: 1.5696 - accuracy: 0.4379 - val_loss: 1.5600 - val_accuracy: 0.4415\n",
      "Epoch 13/20\n",
      "50000/50000 [==============================] - 11s 210us/step - loss: 1.5632 - accuracy: 0.4456 - val_loss: 1.5434 - val_accuracy: 0.4496\n",
      "Epoch 14/20\n",
      "50000/50000 [==============================] - 10s 206us/step - loss: 1.5532 - accuracy: 0.4432 - val_loss: 1.5314 - val_accuracy: 0.4578\n",
      "Epoch 15/20\n",
      "50000/50000 [==============================] - 10s 203us/step - loss: 1.5433 - accuracy: 0.4516 - val_loss: 1.5470 - val_accuracy: 0.4614\n",
      "Epoch 16/20\n",
      "50000/50000 [==============================] - 10s 199us/step - loss: 1.5341 - accuracy: 0.4540 - val_loss: 1.5492 - val_accuracy: 0.4589\n",
      "Epoch 17/20\n",
      "50000/50000 [==============================] - 10s 200us/step - loss: 1.5269 - accuracy: 0.4566 - val_loss: 1.5209 - val_accuracy: 0.4662\n",
      "Epoch 18/20\n",
      "50000/50000 [==============================] - 10s 207us/step - loss: 1.5215 - accuracy: 0.4574 - val_loss: 1.4761 - val_accuracy: 0.4784\n",
      "Epoch 19/20\n",
      "50000/50000 [==============================] - 11s 212us/step - loss: 1.5173 - accuracy: 0.4587 - val_loss: 1.5260 - val_accuracy: 0.4629\n",
      "Epoch 20/20\n",
      "50000/50000 [==============================] - 11s 228us/step - loss: 1.5163 - accuracy: 0.4588 - val_loss: 1.5124 - val_accuracy: 0.4727\n",
      "Test loss: 1.512353881072998\n",
      "Test accuracy: 0.47269999980926514\n"
     ]
    }
   ],
   "source": [
    "model = Sequential()\n",
    "model.add(Dense(512, activation='relu', input_shape=(3072,)))\n",
    "model.add(Dropout(0.2))\n",
    "model.add(Dense(512, activation='relu'))\n",
    "model.add(Dropout(0.2))\n",
    "model.add(Dense(num_classes, activation='softmax'))\n",
    "model.summary()\n",
    "\n",
    "model.compile(loss='categorical_crossentropy',\n",
    "              optimizer=RMSprop(),\n",
    "              metrics=['accuracy'])\n",
    "\n",
    "history = model.fit(x_train, y_train,\n",
    "                    batch_size=batch_size,\n",
    "                    epochs=epochs,\n",
    "                    verbose=1,\n",
    "                    validation_data=(x_test, y_test))\n",
    "score = model.evaluate(x_test, y_test, verbose=0)\n",
    "print('Test loss:', score[0])\n",
    "print('Test accuracy:', score[1])"
   ]
  },
  {
   "cell_type": "markdown",
   "metadata": {},
   "source": [
    "## 接下來我們使用 CNN 來訓練神經網路\n",
    "CNN 的原理非常適合處理影像類的資料，就讓我們來看看，同樣的訓練條件，CNN 是否顯著優於 DNN 呢?"
   ]
  },
  {
   "cell_type": "code",
   "execution_count": 20,
   "metadata": {},
   "outputs": [
    {
     "name": "stdout",
     "output_type": "stream",
     "text": [
      "x_train shape: (50000, 32, 32, 3)\n",
      "50000 train samples\n",
      "10000 test samples\n"
     ]
    }
   ],
   "source": [
    "(x_train, y_train), (x_test, y_test) = cifar10.load_data()\n",
    "print('x_train shape:', x_train.shape)\n",
    "print(x_train.shape[0], 'train samples')\n",
    "print(x_test.shape[0], 'test samples')\n",
    "x_train = x_train.astype('float32')\n",
    "x_test = x_test.astype('float32')\n",
    "x_train /= 255\n",
    "x_test /= 255\n",
    "\n",
    "# Convert class vectors to binary class matrices.\n",
    "y_train = keras.utils.to_categorical(y_train, num_classes)\n",
    "y_test = keras.utils.to_categorical(y_test, num_classes)"
   ]
  },
  {
   "cell_type": "code",
   "execution_count": 21,
   "metadata": {},
   "outputs": [
    {
     "name": "stdout",
     "output_type": "stream",
     "text": [
      "Model: \"sequential_8\"\n",
      "_________________________________________________________________\n",
      "Layer (type)                 Output Shape              Param #   \n",
      "=================================================================\n",
      "conv2d_3 (Conv2D)            (None, 32, 32, 32)        896       \n",
      "_________________________________________________________________\n",
      "activation_1 (Activation)    (None, 32, 32, 32)        0         \n",
      "_________________________________________________________________\n",
      "conv2d_4 (Conv2D)            (None, 30, 30, 32)        9248      \n",
      "_________________________________________________________________\n",
      "activation_2 (Activation)    (None, 30, 30, 32)        0         \n",
      "_________________________________________________________________\n",
      "max_pooling2d_1 (MaxPooling2 (None, 15, 15, 32)        0         \n",
      "_________________________________________________________________\n",
      "dropout_12 (Dropout)         (None, 15, 15, 32)        0         \n",
      "_________________________________________________________________\n",
      "conv2d_5 (Conv2D)            (None, 15, 15, 64)        18496     \n",
      "_________________________________________________________________\n",
      "activation_3 (Activation)    (None, 15, 15, 64)        0         \n",
      "_________________________________________________________________\n",
      "conv2d_6 (Conv2D)            (None, 13, 13, 64)        36928     \n",
      "_________________________________________________________________\n",
      "activation_4 (Activation)    (None, 13, 13, 64)        0         \n",
      "_________________________________________________________________\n",
      "max_pooling2d_2 (MaxPooling2 (None, 6, 6, 64)          0         \n",
      "_________________________________________________________________\n",
      "dropout_13 (Dropout)         (None, 6, 6, 64)          0         \n",
      "_________________________________________________________________\n",
      "flatten_1 (Flatten)          (None, 2304)              0         \n",
      "_________________________________________________________________\n",
      "dense_17 (Dense)             (None, 512)               1180160   \n",
      "_________________________________________________________________\n",
      "activation_5 (Activation)    (None, 512)               0         \n",
      "_________________________________________________________________\n",
      "dropout_14 (Dropout)         (None, 512)               0         \n",
      "_________________________________________________________________\n",
      "dense_18 (Dense)             (None, 10)                5130      \n",
      "_________________________________________________________________\n",
      "activation_6 (Activation)    (None, 10)                0         \n",
      "=================================================================\n",
      "Total params: 1,250,858\n",
      "Trainable params: 1,250,858\n",
      "Non-trainable params: 0\n",
      "_________________________________________________________________\n",
      "Train on 50000 samples, validate on 10000 samples\n",
      "Epoch 1/10\n",
      "50000/50000 [==============================] - 85s 2ms/step - loss: 1.9488 - accuracy: 0.2868 - val_loss: 1.5153 - val_accuracy: 0.4346\n",
      "Epoch 2/10\n",
      "50000/50000 [==============================] - 88s 2ms/step - loss: 1.4705 - accuracy: 0.4728 - val_loss: 1.2721 - val_accuracy: 0.5440\n",
      "Epoch 3/10\n",
      "50000/50000 [==============================] - 91s 2ms/step - loss: 1.2447 - accuracy: 0.5568 - val_loss: 1.0599 - val_accuracy: 0.6212\n",
      "Epoch 4/10\n",
      "50000/50000 [==============================] - 97s 2ms/step - loss: 1.0855 - accuracy: 0.6183 - val_loss: 1.0967 - val_accuracy: 0.6138\n",
      "Epoch 5/10\n",
      "50000/50000 [==============================] - 103s 2ms/step - loss: 0.9651 - accuracy: 0.6595 - val_loss: 0.9043 - val_accuracy: 0.6827\n",
      "Epoch 6/10\n",
      "50000/50000 [==============================] - 101s 2ms/step - loss: 0.8745 - accuracy: 0.6914 - val_loss: 0.8654 - val_accuracy: 0.6968\n",
      "Epoch 7/10\n",
      "50000/50000 [==============================] - 101s 2ms/step - loss: 0.8186 - accuracy: 0.7107 - val_loss: 0.8262 - val_accuracy: 0.7134\n",
      "Epoch 8/10\n",
      "50000/50000 [==============================] - 100s 2ms/step - loss: 0.7542 - accuracy: 0.7374 - val_loss: 0.7354 - val_accuracy: 0.7464\n",
      "Epoch 9/10\n",
      "50000/50000 [==============================] - 100s 2ms/step - loss: 0.7069 - accuracy: 0.7507 - val_loss: 0.7035 - val_accuracy: 0.7586\n",
      "Epoch 10/10\n",
      "50000/50000 [==============================] - 101s 2ms/step - loss: 0.6705 - accuracy: 0.7653 - val_loss: 0.6908 - val_accuracy: 0.7683\n",
      "Test loss: 0.6908336428642273\n",
      "Test accuracy: 0.7682999968528748\n"
     ]
    }
   ],
   "source": [
    "model = Sequential()\n",
    "model.add(Conv2D(32, (3, 3), padding='same',\n",
    "                 input_shape=x_train.shape[1:]))\n",
    "model.add(Activation('relu'))\n",
    "model.add(Conv2D(32, (3, 3)))\n",
    "model.add(Activation('relu'))\n",
    "model.add(MaxPooling2D(pool_size=(2, 2)))\n",
    "model.add(Dropout(0.25))\n",
    "\n",
    "model.add(Conv2D(64, (3, 3), padding='same'))\n",
    "model.add(Activation('relu'))\n",
    "model.add(Conv2D(64, (3, 3)))\n",
    "model.add(Activation('relu'))\n",
    "model.add(MaxPooling2D(pool_size=(2, 2)))\n",
    "model.add(Dropout(0.25))\n",
    "\n",
    "model.add(Flatten())\n",
    "model.add(Dense(512))\n",
    "model.add(Activation('relu'))\n",
    "model.add(Dropout(0.5))\n",
    "model.add(Dense(num_classes))\n",
    "model.add(Activation('softmax'))\n",
    "model.summary()\n",
    "\n",
    "model.compile(loss='categorical_crossentropy',\n",
    "              optimizer=keras.optimizers.Adadelta(),\n",
    "              metrics=['accuracy'])\n",
    "\n",
    "history = model.fit(x_train, y_train,\n",
    "                    batch_size=batch_size,\n",
    "                    epochs=epochs,\n",
    "                    verbose=1,\n",
    "                    validation_data=(x_test, y_test))\n",
    "score = model.evaluate(x_test, y_test, verbose=0)\n",
    "print('Test loss:', score[0])\n",
    "print('Test accuracy:', score[1])"
   ]
  },
  {
   "cell_type": "markdown",
   "metadata": {},
   "source": [
    "## 同樣運算 10 個 epochs，但 CNN 在 test data 的準確率顯著優於 DNN!"
   ]
  },
  {
   "cell_type": "markdown",
   "metadata": {},
   "source": [
    "## 作業\n",
    "1. 請試著調整各個超參數，並說明那些超參數對於結果有明顯的影響?\n",
    "2. CNN 與 DNN 哪個模型的參數數量比較多? 造成參數的數量不同的原因在哪?"
   ]
  },
  {
   "cell_type": "markdown",
   "metadata": {},
   "source": [
    "1.請試著調整各個超參數，並說明那些超參數對於結果有明顯的影響?\n",
    "\n",
    "    -原本:\n",
    "    Test loss: 0.7365292016983033\n",
    "    Test accuracy: 0.7479\n",
    "    -優化器改成Adadelta\n",
    "    Test loss: 0.6908336428642273\n",
    "    Test accuracy: 0.7682999968528748\n",
    "    \n",
    "2.CNN 與 DNN 哪個模型的參數數量比較多? 造成參數的數量不同的原因在哪?\n",
    "    \n",
    "    DNN較多，因為CNN會經過con. layer跟max pooling去過濾"
   ]
  },
  {
   "cell_type": "code",
   "execution_count": null,
   "metadata": {},
   "outputs": [],
   "source": []
  }
 ],
 "metadata": {
  "kernelspec": {
   "display_name": "Python 3",
   "language": "python",
   "name": "python3"
  },
  "language_info": {
   "codemirror_mode": {
    "name": "ipython",
    "version": 3
   },
   "file_extension": ".py",
   "mimetype": "text/x-python",
   "name": "python",
   "nbconvert_exporter": "python",
   "pygments_lexer": "ipython3",
   "version": "3.7.3"
  }
 },
 "nbformat": 4,
 "nbformat_minor": 2
}
