{
 "cells": [
  {
   "cell_type": "markdown",
   "metadata": {},
   "source": [
    "## [作業重點]\n",
    "清楚了解 L1, L2 的意義與差異為何，並了解 LASSO 與 Ridge 之間的差異與使用情境"
   ]
  },
  {
   "cell_type": "markdown",
   "metadata": {},
   "source": [
    "## 作業"
   ]
  },
  {
   "attachments": {},
   "cell_type": "markdown",
   "metadata": {},
   "source": [
    "請閱讀相關文獻，並回答下列問題\n",
    "\n",
    "[脊回歸 (Ridge Regression)](https://blog.csdn.net/daunxx/article/details/51578787)\n",
    "[Linear, Ridge, Lasso Regression 本質區別](https://www.zhihu.com/question/38121173)\n",
    "\n",
    "### 1. LASSO 回歸可以被用來作為 Feature selection 的工具，請了解 LASSO 模型為什麼可用來作 Feature selection\n",
    "\n",
    "   LASSO通過降低權重係數的辦法來降低過擬合，那麼在線性模型中，降低權重係數就意味著與之相關的特徵並不重要，實際上就是對特徵做了一定的篩選。\n",
    "其中LASSO的方法可以將某些權重係數降為零，這意味著，只有權重係數不為零的特徵才會出現在模型中。而基於正則化的feature selection方法叫做崁入法(embedding)\n",
    "   ref：https://kknews.cc/code/v69vno4.html\n",
    "\n",
    "### 2. 當自變數 (X) 存在高度共線性時，Ridge Regression 可以處理這樣的問題嗎?\n",
    "  可以。當設計矩陣X存在多重共線性的時候（數學上稱為病態矩陣），最小二乘法求得的參數w在數值上會非常的大，而一般的線性回歸其模型是𝑦=𝑤^𝑇 𝑥，顯然 ，就是因為w在數值上非常的大，所以，如果輸入變量x有一個微小的變化，其反應在輸出結果上也會變得非常大，這就是對輸入變量總的噪聲非常敏感的原因。\n",
    "  如果就是限制參數w的增長，使w不會變得特別大，那麼模型對輸入w中噪聲的敏感度就會降低。\n",
    "  \n",
    "  為了限制模型參數w的數值大小，就在模型原來的目標函數上加上一個懲罰項，這個過程叫做正則化（Regularization）。\n",
    "   如果懲罰項是參數的L2範數，就是脊回歸（Ridge Regression）\n",
    "  ref:https://blog.csdn.net/daunxx/article/details/51578787  "
   ]
  },
  {
   "cell_type": "code",
   "execution_count": null,
   "metadata": {},
   "outputs": [],
   "source": []
  }
 ],
 "metadata": {
  "kernelspec": {
   "display_name": "Python 3",
   "language": "python",
   "name": "python3"
  },
  "language_info": {
   "codemirror_mode": {
    "name": "ipython",
    "version": 3
   },
   "file_extension": ".py",
   "mimetype": "text/x-python",
   "name": "python",
   "nbconvert_exporter": "python",
   "pygments_lexer": "ipython3",
   "version": "3.7.3"
  }
 },
 "nbformat": 4,
 "nbformat_minor": 2
}
